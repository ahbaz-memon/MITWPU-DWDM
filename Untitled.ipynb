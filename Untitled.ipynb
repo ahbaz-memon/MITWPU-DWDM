{
 "cells": [
  {
   "cell_type": "code",
   "execution_count": 1,
   "metadata": {},
   "outputs": [],
   "source": [
    "import numpy as np\n",
    "import pandas as pd\n",
    "from matplotlib import pyplot as plt\n",
    "import seaborn as se"
   ]
  },
  {
   "cell_type": "code",
   "execution_count": 2,
   "metadata": {},
   "outputs": [],
   "source": [
    "plt.style.use('fivethirtyeight')"
   ]
  },
  {
   "cell_type": "code",
   "execution_count": 3,
   "metadata": {},
   "outputs": [],
   "source": [
    "data = pd.read_csv('Mental Health.csv')"
   ]
  },
  {
   "cell_type": "code",
   "execution_count": 4,
   "metadata": {},
   "outputs": [
    {
     "data": {
      "text/html": [
       "<div>\n",
       "<style scoped>\n",
       "    .dataframe tbody tr th:only-of-type {\n",
       "        vertical-align: middle;\n",
       "    }\n",
       "\n",
       "    .dataframe tbody tr th {\n",
       "        vertical-align: top;\n",
       "    }\n",
       "\n",
       "    .dataframe thead th {\n",
       "        text-align: right;\n",
       "    }\n",
       "</style>\n",
       "<table border=\"1\" class=\"dataframe\">\n",
       "  <thead>\n",
       "    <tr style=\"text-align: right;\">\n",
       "      <th></th>\n",
       "      <th>Are you self-employed?</th>\n",
       "      <th>How many employees does your company or organization have?</th>\n",
       "      <th>Is your employer primarily a tech company/organization?</th>\n",
       "      <th>Is your primary role within your company related to tech/IT?</th>\n",
       "      <th>Does your employer provide mental health benefits as part of healthcare coverage?</th>\n",
       "      <th>Do you know the options for mental health care available under your employer-provided coverage?</th>\n",
       "      <th>Has your employer ever formally discussed mental health (for example, as part of a wellness campaign or other official communication)?</th>\n",
       "      <th>Does your employer offer resources to learn more about mental health concerns and options for seeking help?</th>\n",
       "      <th>Is your anonymity protected if you choose to take advantage of mental health or substance abuse treatment resources provided by your employer?</th>\n",
       "      <th>If a mental health issue prompted you to request a medical leave from work, asking for that leave would be:</th>\n",
       "      <th>...</th>\n",
       "      <th>If you have a mental health issue, do you feel that it interferes with your work when being treated effectively?</th>\n",
       "      <th>If you have a mental health issue, do you feel that it interferes with your work when NOT being treated effectively?</th>\n",
       "      <th>What is your age?</th>\n",
       "      <th>What is your gender?</th>\n",
       "      <th>What country do you live in?</th>\n",
       "      <th>What US state or territory do you live in?</th>\n",
       "      <th>What country do you work in?</th>\n",
       "      <th>What US state or territory do you work in?</th>\n",
       "      <th>Which of the following best describes your work position?</th>\n",
       "      <th>Do you work remotely?</th>\n",
       "    </tr>\n",
       "  </thead>\n",
       "  <tbody>\n",
       "    <tr>\n",
       "      <th>0</th>\n",
       "      <td>0</td>\n",
       "      <td>26-100</td>\n",
       "      <td>1.0</td>\n",
       "      <td>NaN</td>\n",
       "      <td>Not eligible for coverage / N/A</td>\n",
       "      <td>NaN</td>\n",
       "      <td>No</td>\n",
       "      <td>No</td>\n",
       "      <td>I don't know</td>\n",
       "      <td>Very easy</td>\n",
       "      <td>...</td>\n",
       "      <td>Not applicable to me</td>\n",
       "      <td>Not applicable to me</td>\n",
       "      <td>39</td>\n",
       "      <td>Male</td>\n",
       "      <td>United Kingdom</td>\n",
       "      <td>NaN</td>\n",
       "      <td>United Kingdom</td>\n",
       "      <td>NaN</td>\n",
       "      <td>Back-end Developer</td>\n",
       "      <td>Sometimes</td>\n",
       "    </tr>\n",
       "    <tr>\n",
       "      <th>1</th>\n",
       "      <td>0</td>\n",
       "      <td>6-25</td>\n",
       "      <td>1.0</td>\n",
       "      <td>NaN</td>\n",
       "      <td>No</td>\n",
       "      <td>Yes</td>\n",
       "      <td>Yes</td>\n",
       "      <td>Yes</td>\n",
       "      <td>Yes</td>\n",
       "      <td>Somewhat easy</td>\n",
       "      <td>...</td>\n",
       "      <td>Rarely</td>\n",
       "      <td>Sometimes</td>\n",
       "      <td>29</td>\n",
       "      <td>male</td>\n",
       "      <td>United States of America</td>\n",
       "      <td>Illinois</td>\n",
       "      <td>United States of America</td>\n",
       "      <td>Illinois</td>\n",
       "      <td>Back-end Developer|Front-end Developer</td>\n",
       "      <td>Never</td>\n",
       "    </tr>\n",
       "    <tr>\n",
       "      <th>2</th>\n",
       "      <td>0</td>\n",
       "      <td>6-25</td>\n",
       "      <td>1.0</td>\n",
       "      <td>NaN</td>\n",
       "      <td>No</td>\n",
       "      <td>NaN</td>\n",
       "      <td>No</td>\n",
       "      <td>No</td>\n",
       "      <td>I don't know</td>\n",
       "      <td>Neither easy nor difficult</td>\n",
       "      <td>...</td>\n",
       "      <td>Not applicable to me</td>\n",
       "      <td>Not applicable to me</td>\n",
       "      <td>38</td>\n",
       "      <td>Male</td>\n",
       "      <td>United Kingdom</td>\n",
       "      <td>NaN</td>\n",
       "      <td>United Kingdom</td>\n",
       "      <td>NaN</td>\n",
       "      <td>Back-end Developer</td>\n",
       "      <td>Always</td>\n",
       "    </tr>\n",
       "    <tr>\n",
       "      <th>3</th>\n",
       "      <td>1</td>\n",
       "      <td>NaN</td>\n",
       "      <td>NaN</td>\n",
       "      <td>NaN</td>\n",
       "      <td>NaN</td>\n",
       "      <td>NaN</td>\n",
       "      <td>NaN</td>\n",
       "      <td>NaN</td>\n",
       "      <td>NaN</td>\n",
       "      <td>NaN</td>\n",
       "      <td>...</td>\n",
       "      <td>Sometimes</td>\n",
       "      <td>Sometimes</td>\n",
       "      <td>43</td>\n",
       "      <td>male</td>\n",
       "      <td>United Kingdom</td>\n",
       "      <td>NaN</td>\n",
       "      <td>United Kingdom</td>\n",
       "      <td>NaN</td>\n",
       "      <td>Supervisor/Team Lead</td>\n",
       "      <td>Sometimes</td>\n",
       "    </tr>\n",
       "    <tr>\n",
       "      <th>4</th>\n",
       "      <td>0</td>\n",
       "      <td>6-25</td>\n",
       "      <td>0.0</td>\n",
       "      <td>1.0</td>\n",
       "      <td>Yes</td>\n",
       "      <td>Yes</td>\n",
       "      <td>No</td>\n",
       "      <td>No</td>\n",
       "      <td>No</td>\n",
       "      <td>Neither easy nor difficult</td>\n",
       "      <td>...</td>\n",
       "      <td>Sometimes</td>\n",
       "      <td>Sometimes</td>\n",
       "      <td>43</td>\n",
       "      <td>Female</td>\n",
       "      <td>United States of America</td>\n",
       "      <td>Illinois</td>\n",
       "      <td>United States of America</td>\n",
       "      <td>Illinois</td>\n",
       "      <td>Executive Leadership|Supervisor/Team Lead|Dev ...</td>\n",
       "      <td>Sometimes</td>\n",
       "    </tr>\n",
       "  </tbody>\n",
       "</table>\n",
       "<p>5 rows × 63 columns</p>\n",
       "</div>"
      ],
      "text/plain": [
       "   Are you self-employed?  \\\n",
       "0                       0   \n",
       "1                       0   \n",
       "2                       0   \n",
       "3                       1   \n",
       "4                       0   \n",
       "\n",
       "  How many employees does your company or organization have?  \\\n",
       "0                                             26-100           \n",
       "1                                               6-25           \n",
       "2                                               6-25           \n",
       "3                                                NaN           \n",
       "4                                               6-25           \n",
       "\n",
       "   Is your employer primarily a tech company/organization?  \\\n",
       "0                                                1.0         \n",
       "1                                                1.0         \n",
       "2                                                1.0         \n",
       "3                                                NaN         \n",
       "4                                                0.0         \n",
       "\n",
       "   Is your primary role within your company related to tech/IT?  \\\n",
       "0                                                NaN              \n",
       "1                                                NaN              \n",
       "2                                                NaN              \n",
       "3                                                NaN              \n",
       "4                                                1.0              \n",
       "\n",
       "  Does your employer provide mental health benefits as part of healthcare coverage?  \\\n",
       "0                    Not eligible for coverage / N/A                                  \n",
       "1                                                 No                                  \n",
       "2                                                 No                                  \n",
       "3                                                NaN                                  \n",
       "4                                                Yes                                  \n",
       "\n",
       "  Do you know the options for mental health care available under your employer-provided coverage?  \\\n",
       "0                                                NaN                                                \n",
       "1                                                Yes                                                \n",
       "2                                                NaN                                                \n",
       "3                                                NaN                                                \n",
       "4                                                Yes                                                \n",
       "\n",
       "  Has your employer ever formally discussed mental health (for example, as part of a wellness campaign or other official communication)?  \\\n",
       "0                                                 No                                                                                       \n",
       "1                                                Yes                                                                                       \n",
       "2                                                 No                                                                                       \n",
       "3                                                NaN                                                                                       \n",
       "4                                                 No                                                                                       \n",
       "\n",
       "  Does your employer offer resources to learn more about mental health concerns and options for seeking help?  \\\n",
       "0                                                 No                                                            \n",
       "1                                                Yes                                                            \n",
       "2                                                 No                                                            \n",
       "3                                                NaN                                                            \n",
       "4                                                 No                                                            \n",
       "\n",
       "  Is your anonymity protected if you choose to take advantage of mental health or substance abuse treatment resources provided by your employer?  \\\n",
       "0                                       I don't know                                                                                               \n",
       "1                                                Yes                                                                                               \n",
       "2                                       I don't know                                                                                               \n",
       "3                                                NaN                                                                                               \n",
       "4                                                 No                                                                                               \n",
       "\n",
       "  If a mental health issue prompted you to request a medical leave from work, asking for that leave would be:  \\\n",
       "0                                          Very easy                                                            \n",
       "1                                      Somewhat easy                                                            \n",
       "2                         Neither easy nor difficult                                                            \n",
       "3                                                NaN                                                            \n",
       "4                         Neither easy nor difficult                                                            \n",
       "\n",
       "   ...  \\\n",
       "0  ...   \n",
       "1  ...   \n",
       "2  ...   \n",
       "3  ...   \n",
       "4  ...   \n",
       "\n",
       "  If you have a mental health issue, do you feel that it interferes with your work when being treated effectively?  \\\n",
       "0                               Not applicable to me                                                                 \n",
       "1                                             Rarely                                                                 \n",
       "2                               Not applicable to me                                                                 \n",
       "3                                          Sometimes                                                                 \n",
       "4                                          Sometimes                                                                 \n",
       "\n",
       "  If you have a mental health issue, do you feel that it interferes with your work when NOT being treated effectively?  \\\n",
       "0                               Not applicable to me                                                                     \n",
       "1                                          Sometimes                                                                     \n",
       "2                               Not applicable to me                                                                     \n",
       "3                                          Sometimes                                                                     \n",
       "4                                          Sometimes                                                                     \n",
       "\n",
       "  What is your age? What is your gender? What country do you live in?  \\\n",
       "0                39                 Male               United Kingdom   \n",
       "1                29                 male     United States of America   \n",
       "2                38                Male                United Kingdom   \n",
       "3                43                 male               United Kingdom   \n",
       "4                43               Female     United States of America   \n",
       "\n",
       "  What US state or territory do you live in?  What country do you work in?  \\\n",
       "0                                        NaN                United Kingdom   \n",
       "1                                   Illinois      United States of America   \n",
       "2                                        NaN                United Kingdom   \n",
       "3                                        NaN                United Kingdom   \n",
       "4                                   Illinois      United States of America   \n",
       "\n",
       "  What US state or territory do you work in?  \\\n",
       "0                                        NaN   \n",
       "1                                   Illinois   \n",
       "2                                        NaN   \n",
       "3                                        NaN   \n",
       "4                                   Illinois   \n",
       "\n",
       "  Which of the following best describes your work position?  \\\n",
       "0                                 Back-end Developer          \n",
       "1             Back-end Developer|Front-end Developer          \n",
       "2                                 Back-end Developer          \n",
       "3                               Supervisor/Team Lead          \n",
       "4  Executive Leadership|Supervisor/Team Lead|Dev ...          \n",
       "\n",
       "  Do you work remotely?  \n",
       "0             Sometimes  \n",
       "1                 Never  \n",
       "2                Always  \n",
       "3             Sometimes  \n",
       "4             Sometimes  \n",
       "\n",
       "[5 rows x 63 columns]"
      ]
     },
     "execution_count": 4,
     "metadata": {},
     "output_type": "execute_result"
    }
   ],
   "source": [
    "data.head(5)"
   ]
  },
  {
   "cell_type": "code",
   "execution_count": 5,
   "metadata": {},
   "outputs": [
    {
     "data": {
      "text/html": [
       "<div>\n",
       "<style scoped>\n",
       "    .dataframe tbody tr th:only-of-type {\n",
       "        vertical-align: middle;\n",
       "    }\n",
       "\n",
       "    .dataframe tbody tr th {\n",
       "        vertical-align: top;\n",
       "    }\n",
       "\n",
       "    .dataframe thead th {\n",
       "        text-align: right;\n",
       "    }\n",
       "</style>\n",
       "<table border=\"1\" class=\"dataframe\">\n",
       "  <thead>\n",
       "    <tr style=\"text-align: right;\">\n",
       "      <th></th>\n",
       "      <th>Are you self-employed?</th>\n",
       "      <th>How many employees does your company or organization have?</th>\n",
       "      <th>Is your employer primarily a tech company/organization?</th>\n",
       "      <th>Is your primary role within your company related to tech/IT?</th>\n",
       "      <th>Does your employer provide mental health benefits as part of healthcare coverage?</th>\n",
       "      <th>Do you know the options for mental health care available under your employer-provided coverage?</th>\n",
       "      <th>Has your employer ever formally discussed mental health (for example, as part of a wellness campaign or other official communication)?</th>\n",
       "      <th>Does your employer offer resources to learn more about mental health concerns and options for seeking help?</th>\n",
       "      <th>Is your anonymity protected if you choose to take advantage of mental health or substance abuse treatment resources provided by your employer?</th>\n",
       "      <th>If a mental health issue prompted you to request a medical leave from work, asking for that leave would be:</th>\n",
       "      <th>...</th>\n",
       "      <th>If you have a mental health issue, do you feel that it interferes with your work when being treated effectively?</th>\n",
       "      <th>If you have a mental health issue, do you feel that it interferes with your work when NOT being treated effectively?</th>\n",
       "      <th>What is your age?</th>\n",
       "      <th>What is your gender?</th>\n",
       "      <th>What country do you live in?</th>\n",
       "      <th>What US state or territory do you live in?</th>\n",
       "      <th>What country do you work in?</th>\n",
       "      <th>What US state or territory do you work in?</th>\n",
       "      <th>Which of the following best describes your work position?</th>\n",
       "      <th>Do you work remotely?</th>\n",
       "    </tr>\n",
       "  </thead>\n",
       "  <tbody>\n",
       "    <tr>\n",
       "      <th>0</th>\n",
       "      <td>0</td>\n",
       "      <td>26-100</td>\n",
       "      <td>1.0</td>\n",
       "      <td>NaN</td>\n",
       "      <td>Not eligible for coverage / N/A</td>\n",
       "      <td>NaN</td>\n",
       "      <td>No</td>\n",
       "      <td>No</td>\n",
       "      <td>I don't know</td>\n",
       "      <td>Very easy</td>\n",
       "      <td>...</td>\n",
       "      <td>Not applicable to me</td>\n",
       "      <td>Not applicable to me</td>\n",
       "      <td>39</td>\n",
       "      <td>Male</td>\n",
       "      <td>United Kingdom</td>\n",
       "      <td>NaN</td>\n",
       "      <td>United Kingdom</td>\n",
       "      <td>NaN</td>\n",
       "      <td>Back-end Developer</td>\n",
       "      <td>Sometimes</td>\n",
       "    </tr>\n",
       "  </tbody>\n",
       "</table>\n",
       "<p>1 rows × 63 columns</p>\n",
       "</div>"
      ],
      "text/plain": [
       "   Are you self-employed?  \\\n",
       "0                       0   \n",
       "\n",
       "  How many employees does your company or organization have?  \\\n",
       "0                                             26-100           \n",
       "\n",
       "   Is your employer primarily a tech company/organization?  \\\n",
       "0                                                1.0         \n",
       "\n",
       "   Is your primary role within your company related to tech/IT?  \\\n",
       "0                                                NaN              \n",
       "\n",
       "  Does your employer provide mental health benefits as part of healthcare coverage?  \\\n",
       "0                    Not eligible for coverage / N/A                                  \n",
       "\n",
       "  Do you know the options for mental health care available under your employer-provided coverage?  \\\n",
       "0                                                NaN                                                \n",
       "\n",
       "  Has your employer ever formally discussed mental health (for example, as part of a wellness campaign or other official communication)?  \\\n",
       "0                                                 No                                                                                       \n",
       "\n",
       "  Does your employer offer resources to learn more about mental health concerns and options for seeking help?  \\\n",
       "0                                                 No                                                            \n",
       "\n",
       "  Is your anonymity protected if you choose to take advantage of mental health or substance abuse treatment resources provided by your employer?  \\\n",
       "0                                       I don't know                                                                                               \n",
       "\n",
       "  If a mental health issue prompted you to request a medical leave from work, asking for that leave would be:  \\\n",
       "0                                          Very easy                                                            \n",
       "\n",
       "   ...  \\\n",
       "0  ...   \n",
       "\n",
       "  If you have a mental health issue, do you feel that it interferes with your work when being treated effectively?  \\\n",
       "0                               Not applicable to me                                                                 \n",
       "\n",
       "  If you have a mental health issue, do you feel that it interferes with your work when NOT being treated effectively?  \\\n",
       "0                               Not applicable to me                                                                     \n",
       "\n",
       "  What is your age? What is your gender? What country do you live in?  \\\n",
       "0                39                 Male               United Kingdom   \n",
       "\n",
       "  What US state or territory do you live in?  What country do you work in?  \\\n",
       "0                                        NaN                United Kingdom   \n",
       "\n",
       "  What US state or territory do you work in?  \\\n",
       "0                                        NaN   \n",
       "\n",
       "  Which of the following best describes your work position?  \\\n",
       "0                                 Back-end Developer          \n",
       "\n",
       "  Do you work remotely?  \n",
       "0             Sometimes  \n",
       "\n",
       "[1 rows x 63 columns]"
      ]
     },
     "execution_count": 5,
     "metadata": {},
     "output_type": "execute_result"
    }
   ],
   "source": [
    "data[0:1]"
   ]
  },
  {
   "cell_type": "code",
   "execution_count": 6,
   "metadata": {},
   "outputs": [
    {
     "data": {
      "text/plain": [
       "Index(['Are you self-employed?',\n",
       "       'How many employees does your company or organization have?',\n",
       "       'Is your employer primarily a tech company/organization?',\n",
       "       'Is your primary role within your company related to tech/IT?',\n",
       "       'Does your employer provide mental health benefits as part of healthcare coverage?',\n",
       "       'Do you know the options for mental health care available under your employer-provided coverage?',\n",
       "       'Has your employer ever formally discussed mental health (for example, as part of a wellness campaign or other official communication)?',\n",
       "       'Does your employer offer resources to learn more about mental health concerns and options for seeking help?',\n",
       "       'Is your anonymity protected if you choose to take advantage of mental health or substance abuse treatment resources provided by your employer?',\n",
       "       'If a mental health issue prompted you to request a medical leave from work, asking for that leave would be:',\n",
       "       'Do you think that discussing a mental health disorder with your employer would have negative consequences?',\n",
       "       'Do you think that discussing a physical health issue with your employer would have negative consequences?',\n",
       "       'Would you feel comfortable discussing a mental health disorder with your coworkers?',\n",
       "       'Would you feel comfortable discussing a mental health disorder with your direct supervisor(s)?',\n",
       "       'Do you feel that your employer takes mental health as seriously as physical health?',\n",
       "       'Have you heard of or observed negative consequences for co-workers who have been open about mental health issues in your workplace?',\n",
       "       'Do you have medical coverage (private insurance or state-provided) which includes treatment of  mental health issues?',\n",
       "       'Do you know local or online resources to seek help for a mental health disorder?',\n",
       "       'If you have been diagnosed or treated for a mental health disorder, do you ever reveal this to clients or business contacts?',\n",
       "       'If you have revealed a mental health issue to a client or business contact, do you believe this has impacted you negatively?',\n",
       "       'If you have been diagnosed or treated for a mental health disorder, do you ever reveal this to coworkers or employees?',\n",
       "       'If you have revealed a mental health issue to a coworker or employee, do you believe this has impacted you negatively?',\n",
       "       'Do you believe your productivity is ever affected by a mental health issue?',\n",
       "       'If yes, what percentage of your work time (time performing primary or secondary job functions) is affected by a mental health issue?',\n",
       "       'Do you have previous employers?',\n",
       "       'Have your previous employers provided mental health benefits?',\n",
       "       'Were you aware of the options for mental health care provided by your previous employers?',\n",
       "       'Did your previous employers ever formally discuss mental health (as part of a wellness campaign or other official communication)?',\n",
       "       'Did your previous employers provide resources to learn more about mental health issues and how to seek help?',\n",
       "       'Was your anonymity protected if you chose to take advantage of mental health or substance abuse treatment resources with previous employers?',\n",
       "       'Do you think that discussing a mental health disorder with previous employers would have negative consequences?',\n",
       "       'Do you think that discussing a physical health issue with previous employers would have negative consequences?',\n",
       "       'Would you have been willing to discuss a mental health issue with your previous co-workers?',\n",
       "       'Would you have been willing to discuss a mental health issue with your direct supervisor(s)?',\n",
       "       'Did you feel that your previous employers took mental health as seriously as physical health?',\n",
       "       'Did you hear of or observe negative consequences for co-workers with mental health issues in your previous workplaces?',\n",
       "       'Would you be willing to bring up a physical health issue with a potential employer in an interview?',\n",
       "       'Why or why not?',\n",
       "       'Would you bring up a mental health issue with a potential employer in an interview?',\n",
       "       'Why or why not?.1',\n",
       "       'Do you feel that being identified as a person with a mental health issue would hurt your career?',\n",
       "       'Do you think that team members/co-workers would view you more negatively if they knew you suffered from a mental health issue?',\n",
       "       'How willing would you be to share with friends and family that you have a mental illness?',\n",
       "       'Have you observed or experienced an unsupportive or badly handled response to a mental health issue in your current or previous workplace?',\n",
       "       'Have your observations of how another individual who discussed a mental health disorder made you less likely to reveal a mental health issue yourself in your current workplace?',\n",
       "       'Do you have a family history of mental illness?',\n",
       "       'Have you had a mental health disorder in the past?',\n",
       "       'Do you currently have a mental health disorder?',\n",
       "       'If yes, what condition(s) have you been diagnosed with?',\n",
       "       'If maybe, what condition(s) do you believe you have?',\n",
       "       'Have you been diagnosed with a mental health condition by a medical professional?',\n",
       "       'If so, what condition(s) were you diagnosed with?',\n",
       "       'Have you ever sought treatment for a mental health issue from a mental health professional?',\n",
       "       'If you have a mental health issue, do you feel that it interferes with your work when being treated effectively?',\n",
       "       'If you have a mental health issue, do you feel that it interferes with your work when NOT being treated effectively?',\n",
       "       'What is your age?', 'What is your gender?',\n",
       "       'What country do you live in?',\n",
       "       'What US state or territory do you live in?',\n",
       "       'What country do you work in?',\n",
       "       'What US state or territory do you work in?',\n",
       "       'Which of the following best describes your work position?',\n",
       "       'Do you work remotely?'],\n",
       "      dtype='object')"
      ]
     },
     "execution_count": 6,
     "metadata": {},
     "output_type": "execute_result"
    }
   ],
   "source": [
    "data.columns"
   ]
  },
  {
   "cell_type": "code",
   "execution_count": 7,
   "metadata": {},
   "outputs": [],
   "source": [
    "renamed_columns = ['self_empl_flag', 'comp_no_empl', 'tech_comp_flag', 'tech_role_flag', 'mh_coverage_flag',\n",
    "                  'mh_coverage_awareness_flag', 'mh_employer_discussion', 'mh_resources_provided', 'mh_anonimity_flag',\n",
    "                  'mh_medical_leave', 'mh_discussion_neg_impact', 'ph_discussion_neg_impact', 'mh_discussion_cowork',\n",
    "                  'mh_discussion_supervis', 'mh_eq_ph_employer', 'mh_conseq_coworkers', 'mh_coverage_flag2', 'mh_online_res_flag',\n",
    "                  'mh_diagnosed&reveal_clients_flag', 'mh_diagnosed&reveal_clients_impact', 'mh_diagnosed&reveal_cowork_flag', 'mh_cowork_reveal_neg_impact',\n",
    "                  'mh_prod_impact', 'mh_prod_impact_perc', 'prev_employers_flag', 'prev_mh_benefits', 'prev_mh_benefits_awareness',\n",
    "                  'prev_mh_discussion', 'prev_mh_resources', 'prev_mh_anonimity', 'prev_mh_discuss_neg_conseq', 'prev_ph_discuss_neg_conseq',\n",
    "                  'prev_mh_discussion_cowork', 'prev_mh_discussion_supervisor', 'prev_mh_importance_employer', 'prev_mh_conseq_coworkers',\n",
    "                  'future_ph_specification', 'why/why_not', 'future_mh_specification', 'why/why_not2', 'mh_hurt_on_career', 'mh_neg_view_cowork',\n",
    "                  'mh_sharing_friends/fam_flag', 'mh_bad_response_workplace', 'mh_for_others_bad_response_workplace', 'mh_family_hist',\n",
    "                  'mh_disorder_past', 'mh_disorder_current', 'yes:what_diagnosis?', 'maybe:whats_your_diag', 'mh_diagnos_proffesional',\n",
    "                  'yes:condition_diagnosed', 'mh_sought_proffes_treatm', 'mh_eff_treat_impact_on_work', 'mh_not_eff_treat_impact_on_work',\n",
    "                  'age', 'sex', 'country_live', 'live_us_teritory', 'country_work', 'work_us_teritory', 'work_position', 'remote_flag']"
   ]
  },
  {
   "cell_type": "code",
   "execution_count": 8,
   "metadata": {},
   "outputs": [
    {
     "data": {
      "text/plain": [
       "63"
      ]
     },
     "execution_count": 8,
     "metadata": {},
     "output_type": "execute_result"
    }
   ],
   "source": [
    "len(renamed_columns)"
   ]
  },
  {
   "cell_type": "code",
   "execution_count": 9,
   "metadata": {},
   "outputs": [],
   "source": [
    "data.columns = renamed_columns"
   ]
  },
  {
   "cell_type": "code",
   "execution_count": 10,
   "metadata": {},
   "outputs": [
    {
     "data": {
      "text/html": [
       "<div>\n",
       "<style scoped>\n",
       "    .dataframe tbody tr th:only-of-type {\n",
       "        vertical-align: middle;\n",
       "    }\n",
       "\n",
       "    .dataframe tbody tr th {\n",
       "        vertical-align: top;\n",
       "    }\n",
       "\n",
       "    .dataframe thead th {\n",
       "        text-align: right;\n",
       "    }\n",
       "</style>\n",
       "<table border=\"1\" class=\"dataframe\">\n",
       "  <thead>\n",
       "    <tr style=\"text-align: right;\">\n",
       "      <th></th>\n",
       "      <th>self_empl_flag</th>\n",
       "      <th>comp_no_empl</th>\n",
       "      <th>tech_comp_flag</th>\n",
       "      <th>tech_role_flag</th>\n",
       "      <th>mh_coverage_flag</th>\n",
       "      <th>mh_coverage_awareness_flag</th>\n",
       "      <th>mh_employer_discussion</th>\n",
       "      <th>mh_resources_provided</th>\n",
       "      <th>mh_anonimity_flag</th>\n",
       "      <th>mh_medical_leave</th>\n",
       "      <th>...</th>\n",
       "      <th>mh_eff_treat_impact_on_work</th>\n",
       "      <th>mh_not_eff_treat_impact_on_work</th>\n",
       "      <th>age</th>\n",
       "      <th>sex</th>\n",
       "      <th>country_live</th>\n",
       "      <th>live_us_teritory</th>\n",
       "      <th>country_work</th>\n",
       "      <th>work_us_teritory</th>\n",
       "      <th>work_position</th>\n",
       "      <th>remote_flag</th>\n",
       "    </tr>\n",
       "  </thead>\n",
       "  <tbody>\n",
       "    <tr>\n",
       "      <th>0</th>\n",
       "      <td>0</td>\n",
       "      <td>26-100</td>\n",
       "      <td>1.0</td>\n",
       "      <td>NaN</td>\n",
       "      <td>Not eligible for coverage / N/A</td>\n",
       "      <td>NaN</td>\n",
       "      <td>No</td>\n",
       "      <td>No</td>\n",
       "      <td>I don't know</td>\n",
       "      <td>Very easy</td>\n",
       "      <td>...</td>\n",
       "      <td>Not applicable to me</td>\n",
       "      <td>Not applicable to me</td>\n",
       "      <td>39</td>\n",
       "      <td>Male</td>\n",
       "      <td>United Kingdom</td>\n",
       "      <td>NaN</td>\n",
       "      <td>United Kingdom</td>\n",
       "      <td>NaN</td>\n",
       "      <td>Back-end Developer</td>\n",
       "      <td>Sometimes</td>\n",
       "    </tr>\n",
       "    <tr>\n",
       "      <th>1</th>\n",
       "      <td>0</td>\n",
       "      <td>6-25</td>\n",
       "      <td>1.0</td>\n",
       "      <td>NaN</td>\n",
       "      <td>No</td>\n",
       "      <td>Yes</td>\n",
       "      <td>Yes</td>\n",
       "      <td>Yes</td>\n",
       "      <td>Yes</td>\n",
       "      <td>Somewhat easy</td>\n",
       "      <td>...</td>\n",
       "      <td>Rarely</td>\n",
       "      <td>Sometimes</td>\n",
       "      <td>29</td>\n",
       "      <td>male</td>\n",
       "      <td>United States of America</td>\n",
       "      <td>Illinois</td>\n",
       "      <td>United States of America</td>\n",
       "      <td>Illinois</td>\n",
       "      <td>Back-end Developer|Front-end Developer</td>\n",
       "      <td>Never</td>\n",
       "    </tr>\n",
       "    <tr>\n",
       "      <th>2</th>\n",
       "      <td>0</td>\n",
       "      <td>6-25</td>\n",
       "      <td>1.0</td>\n",
       "      <td>NaN</td>\n",
       "      <td>No</td>\n",
       "      <td>NaN</td>\n",
       "      <td>No</td>\n",
       "      <td>No</td>\n",
       "      <td>I don't know</td>\n",
       "      <td>Neither easy nor difficult</td>\n",
       "      <td>...</td>\n",
       "      <td>Not applicable to me</td>\n",
       "      <td>Not applicable to me</td>\n",
       "      <td>38</td>\n",
       "      <td>Male</td>\n",
       "      <td>United Kingdom</td>\n",
       "      <td>NaN</td>\n",
       "      <td>United Kingdom</td>\n",
       "      <td>NaN</td>\n",
       "      <td>Back-end Developer</td>\n",
       "      <td>Always</td>\n",
       "    </tr>\n",
       "    <tr>\n",
       "      <th>3</th>\n",
       "      <td>1</td>\n",
       "      <td>NaN</td>\n",
       "      <td>NaN</td>\n",
       "      <td>NaN</td>\n",
       "      <td>NaN</td>\n",
       "      <td>NaN</td>\n",
       "      <td>NaN</td>\n",
       "      <td>NaN</td>\n",
       "      <td>NaN</td>\n",
       "      <td>NaN</td>\n",
       "      <td>...</td>\n",
       "      <td>Sometimes</td>\n",
       "      <td>Sometimes</td>\n",
       "      <td>43</td>\n",
       "      <td>male</td>\n",
       "      <td>United Kingdom</td>\n",
       "      <td>NaN</td>\n",
       "      <td>United Kingdom</td>\n",
       "      <td>NaN</td>\n",
       "      <td>Supervisor/Team Lead</td>\n",
       "      <td>Sometimes</td>\n",
       "    </tr>\n",
       "    <tr>\n",
       "      <th>4</th>\n",
       "      <td>0</td>\n",
       "      <td>6-25</td>\n",
       "      <td>0.0</td>\n",
       "      <td>1.0</td>\n",
       "      <td>Yes</td>\n",
       "      <td>Yes</td>\n",
       "      <td>No</td>\n",
       "      <td>No</td>\n",
       "      <td>No</td>\n",
       "      <td>Neither easy nor difficult</td>\n",
       "      <td>...</td>\n",
       "      <td>Sometimes</td>\n",
       "      <td>Sometimes</td>\n",
       "      <td>43</td>\n",
       "      <td>Female</td>\n",
       "      <td>United States of America</td>\n",
       "      <td>Illinois</td>\n",
       "      <td>United States of America</td>\n",
       "      <td>Illinois</td>\n",
       "      <td>Executive Leadership|Supervisor/Team Lead|Dev ...</td>\n",
       "      <td>Sometimes</td>\n",
       "    </tr>\n",
       "  </tbody>\n",
       "</table>\n",
       "<p>5 rows × 63 columns</p>\n",
       "</div>"
      ],
      "text/plain": [
       "   self_empl_flag comp_no_empl  tech_comp_flag  tech_role_flag  \\\n",
       "0               0       26-100             1.0             NaN   \n",
       "1               0         6-25             1.0             NaN   \n",
       "2               0         6-25             1.0             NaN   \n",
       "3               1          NaN             NaN             NaN   \n",
       "4               0         6-25             0.0             1.0   \n",
       "\n",
       "                  mh_coverage_flag mh_coverage_awareness_flag  \\\n",
       "0  Not eligible for coverage / N/A                        NaN   \n",
       "1                               No                        Yes   \n",
       "2                               No                        NaN   \n",
       "3                              NaN                        NaN   \n",
       "4                              Yes                        Yes   \n",
       "\n",
       "  mh_employer_discussion mh_resources_provided mh_anonimity_flag  \\\n",
       "0                     No                    No      I don't know   \n",
       "1                    Yes                   Yes               Yes   \n",
       "2                     No                    No      I don't know   \n",
       "3                    NaN                   NaN               NaN   \n",
       "4                     No                    No                No   \n",
       "\n",
       "             mh_medical_leave  ... mh_eff_treat_impact_on_work  \\\n",
       "0                   Very easy  ...        Not applicable to me   \n",
       "1               Somewhat easy  ...                      Rarely   \n",
       "2  Neither easy nor difficult  ...        Not applicable to me   \n",
       "3                         NaN  ...                   Sometimes   \n",
       "4  Neither easy nor difficult  ...                   Sometimes   \n",
       "\n",
       "  mh_not_eff_treat_impact_on_work age     sex              country_live  \\\n",
       "0            Not applicable to me  39    Male            United Kingdom   \n",
       "1                       Sometimes  29    male  United States of America   \n",
       "2            Not applicable to me  38   Male             United Kingdom   \n",
       "3                       Sometimes  43    male            United Kingdom   \n",
       "4                       Sometimes  43  Female  United States of America   \n",
       "\n",
       "  live_us_teritory              country_work work_us_teritory  \\\n",
       "0              NaN            United Kingdom              NaN   \n",
       "1         Illinois  United States of America         Illinois   \n",
       "2              NaN            United Kingdom              NaN   \n",
       "3              NaN            United Kingdom              NaN   \n",
       "4         Illinois  United States of America         Illinois   \n",
       "\n",
       "                                       work_position remote_flag  \n",
       "0                                 Back-end Developer   Sometimes  \n",
       "1             Back-end Developer|Front-end Developer       Never  \n",
       "2                                 Back-end Developer      Always  \n",
       "3                               Supervisor/Team Lead   Sometimes  \n",
       "4  Executive Leadership|Supervisor/Team Lead|Dev ...   Sometimes  \n",
       "\n",
       "[5 rows x 63 columns]"
      ]
     },
     "execution_count": 10,
     "metadata": {},
     "output_type": "execute_result"
    }
   ],
   "source": [
    "data.head(5)"
   ]
  },
  {
   "cell_type": "code",
   "execution_count": 11,
   "metadata": {
    "scrolled": true
   },
   "outputs": [
    {
     "data": {
      "text/plain": [
       "self_empl_flag         0\n",
       "comp_no_empl         287\n",
       "tech_comp_flag       287\n",
       "tech_role_flag      1170\n",
       "mh_coverage_flag     287\n",
       "                    ... \n",
       "live_us_teritory     593\n",
       "country_work           0\n",
       "work_us_teritory     582\n",
       "work_position          0\n",
       "remote_flag            0\n",
       "Length: 63, dtype: int64"
      ]
     },
     "execution_count": 11,
     "metadata": {},
     "output_type": "execute_result"
    }
   ],
   "source": [
    "temp1 = data.isnull().sum()\n",
    "temp1"
   ]
  },
  {
   "cell_type": "code",
   "execution_count": 12,
   "metadata": {},
   "outputs": [
    {
     "data": {
      "text/plain": [
       "<matplotlib.collections.PathCollection at 0x1a93a558b88>"
      ]
     },
     "execution_count": 12,
     "metadata": {},
     "output_type": "execute_result"
    },
    {
     "data": {
      "image/png": "[encoded data removed]",
      "text/plain": [
       "<Figure size 864x576 with 1 Axes>"
      ]
     },
     "metadata": {},
     "output_type": "display_data"
    }
   ],
   "source": [
    "plt.figure(figsize = (12,8))\n",
    "plt.plot(range(len(temp1.values)),[292]*len(temp1.values), alpha = 0.5, linewidth = 1.8, color = 'green')\n",
    "plt.scatter(range(len(temp1.values)),temp1.values,alpha = 0.8,color = 'red') "
   ]
  },
  {
   "cell_type": "code",
   "execution_count": 13,
   "metadata": {
    "scrolled": true
   },
   "outputs": [
    {
     "name": "stdout",
     "output_type": "stream",
     "text": [
      "tech_role_flag\n",
      "mh_coverage_awareness_flag\n",
      "mh_coverage_flag2\n",
      "mh_online_res_flag\n",
      "mh_diagnosed&reveal_clients_flag\n",
      "mh_diagnosed&reveal_clients_impact\n",
      "mh_diagnosed&reveal_cowork_flag\n",
      "mh_cowork_reveal_neg_impact\n",
      "mh_prod_impact\n",
      "mh_prod_impact_perc\n",
      "why/why_not\n",
      "why/why_not2\n",
      "mh_for_others_bad_response_workplace\n",
      "yes:what_diagnosis?\n",
      "maybe:whats_your_diag\n",
      "yes:condition_diagnosed\n",
      "live_us_teritory\n",
      "work_us_teritory\n"
     ]
    }
   ],
   "source": [
    "for c in range(len(temp1.values)):\n",
    "    if temp1.values[c] > 292:\n",
    "        print(renamed_columns[c])\n",
    "        data.drop(axis = 1,columns = [renamed_columns[c]],inplace = True)"
   ]
  },
  {
   "cell_type": "code",
   "execution_count": 14,
   "metadata": {},
   "outputs": [
    {
     "data": {
      "text/plain": [
       "self_empl_flag                       0\n",
       "comp_no_empl                       287\n",
       "tech_comp_flag                     287\n",
       "mh_coverage_flag                   287\n",
       "mh_employer_discussion             287\n",
       "mh_resources_provided              287\n",
       "mh_anonimity_flag                  287\n",
       "mh_medical_leave                   287\n",
       "mh_discussion_neg_impact           287\n",
       "ph_discussion_neg_impact           287\n",
       "mh_discussion_cowork               287\n",
       "mh_discussion_supervis             287\n",
       "mh_eq_ph_employer                  287\n",
       "mh_conseq_coworkers                287\n",
       "prev_employers_flag                  0\n",
       "prev_mh_benefits                   169\n",
       "prev_mh_benefits_awareness         169\n",
       "prev_mh_discussion                 169\n",
       "prev_mh_resources                  169\n",
       "prev_mh_anonimity                  169\n",
       "prev_mh_discuss_neg_conseq         169\n",
       "prev_ph_discuss_neg_conseq         169\n",
       "prev_mh_discussion_cowork          169\n",
       "prev_mh_discussion_supervisor      169\n",
       "prev_mh_importance_employer        169\n",
       "prev_mh_conseq_coworkers           169\n",
       "future_ph_specification              0\n",
       "future_mh_specification              0\n",
       "mh_hurt_on_career                    0\n",
       "mh_neg_view_cowork                   0\n",
       "mh_sharing_friends/fam_flag          0\n",
       "mh_bad_response_workplace           89\n",
       "mh_family_hist                       0\n",
       "mh_disorder_past                     0\n",
       "mh_disorder_current                  0\n",
       "mh_diagnos_proffesional              0\n",
       "mh_sought_proffes_treatm             0\n",
       "mh_eff_treat_impact_on_work          0\n",
       "mh_not_eff_treat_impact_on_work      0\n",
       "age                                  0\n",
       "sex                                  3\n",
       "country_live                         0\n",
       "country_work                         0\n",
       "work_position                        0\n",
       "remote_flag                          0\n",
       "dtype: int64"
      ]
     },
     "execution_count": 14,
     "metadata": {},
     "output_type": "execute_result"
    }
   ],
   "source": [
    "temp1 = data.isnull().sum()\n",
    "temp1"
   ]
  },
  {
   "cell_type": "code",
   "execution_count": 15,
   "metadata": {},
   "outputs": [
    {
     "data": {
      "text/plain": [
       "<matplotlib.collections.PathCollection at 0x1a93a817108>"
      ]
     },
     "execution_count": 15,
     "metadata": {},
     "output_type": "execute_result"
    },
    {
     "data": {
      "image/png": "[encoded data removed]",
      "text/plain": [
       "<Figure size 864x576 with 1 Axes>"
      ]
     },
     "metadata": {},
     "output_type": "display_data"
    }
   ],
   "source": [
    "plt.figure(figsize = (12,8))\n",
    "plt.ylim((-100,1200))\n",
    "plt.plot(range(len(temp1.values)),[292]*len(temp1.values), alpha = 0.5, linewidth = 1.8, color = 'green')\n",
    "plt.scatter(range(len(temp1.values)),temp1.values,alpha = 0.8,color = 'red') "
   ]
  },
  {
   "cell_type": "code",
   "execution_count": 16,
   "metadata": {},
   "outputs": [
    {
     "data": {
      "text/plain": [
       "(1433, 45)"
      ]
     },
     "execution_count": 16,
     "metadata": {},
     "output_type": "execute_result"
    }
   ],
   "source": [
    "data.shape"
   ]
  },
  {
   "cell_type": "code",
   "execution_count": 17,
   "metadata": {
    "scrolled": true
   },
   "outputs": [
    {
     "data": {
      "text/html": [
       "<div>\n",
       "<style scoped>\n",
       "    .dataframe tbody tr th:only-of-type {\n",
       "        vertical-align: middle;\n",
       "    }\n",
       "\n",
       "    .dataframe tbody tr th {\n",
       "        vertical-align: top;\n",
       "    }\n",
       "\n",
       "    .dataframe thead th {\n",
       "        text-align: right;\n",
       "    }\n",
       "</style>\n",
       "<table border=\"1\" class=\"dataframe\">\n",
       "  <thead>\n",
       "    <tr style=\"text-align: right;\">\n",
       "      <th></th>\n",
       "      <th>self_empl_flag</th>\n",
       "      <th>comp_no_empl</th>\n",
       "      <th>tech_comp_flag</th>\n",
       "      <th>mh_coverage_flag</th>\n",
       "      <th>mh_employer_discussion</th>\n",
       "      <th>mh_resources_provided</th>\n",
       "      <th>mh_anonimity_flag</th>\n",
       "      <th>mh_medical_leave</th>\n",
       "      <th>mh_discussion_neg_impact</th>\n",
       "      <th>ph_discussion_neg_impact</th>\n",
       "      <th>...</th>\n",
       "      <th>mh_diagnos_proffesional</th>\n",
       "      <th>mh_sought_proffes_treatm</th>\n",
       "      <th>mh_eff_treat_impact_on_work</th>\n",
       "      <th>mh_not_eff_treat_impact_on_work</th>\n",
       "      <th>age</th>\n",
       "      <th>sex</th>\n",
       "      <th>country_live</th>\n",
       "      <th>country_work</th>\n",
       "      <th>work_position</th>\n",
       "      <th>remote_flag</th>\n",
       "    </tr>\n",
       "  </thead>\n",
       "  <tbody>\n",
       "    <tr>\n",
       "      <th>0</th>\n",
       "      <td>0</td>\n",
       "      <td>26-100</td>\n",
       "      <td>1.0</td>\n",
       "      <td>Not eligible for coverage / N/A</td>\n",
       "      <td>No</td>\n",
       "      <td>No</td>\n",
       "      <td>I don't know</td>\n",
       "      <td>Very easy</td>\n",
       "      <td>No</td>\n",
       "      <td>No</td>\n",
       "      <td>...</td>\n",
       "      <td>Yes</td>\n",
       "      <td>0</td>\n",
       "      <td>Not applicable to me</td>\n",
       "      <td>Not applicable to me</td>\n",
       "      <td>39</td>\n",
       "      <td>Male</td>\n",
       "      <td>United Kingdom</td>\n",
       "      <td>United Kingdom</td>\n",
       "      <td>Back-end Developer</td>\n",
       "      <td>Sometimes</td>\n",
       "    </tr>\n",
       "    <tr>\n",
       "      <th>1</th>\n",
       "      <td>0</td>\n",
       "      <td>6-25</td>\n",
       "      <td>1.0</td>\n",
       "      <td>No</td>\n",
       "      <td>Yes</td>\n",
       "      <td>Yes</td>\n",
       "      <td>Yes</td>\n",
       "      <td>Somewhat easy</td>\n",
       "      <td>No</td>\n",
       "      <td>No</td>\n",
       "      <td>...</td>\n",
       "      <td>Yes</td>\n",
       "      <td>1</td>\n",
       "      <td>Rarely</td>\n",
       "      <td>Sometimes</td>\n",
       "      <td>29</td>\n",
       "      <td>male</td>\n",
       "      <td>United States of America</td>\n",
       "      <td>United States of America</td>\n",
       "      <td>Back-end Developer|Front-end Developer</td>\n",
       "      <td>Never</td>\n",
       "    </tr>\n",
       "    <tr>\n",
       "      <th>2</th>\n",
       "      <td>0</td>\n",
       "      <td>6-25</td>\n",
       "      <td>1.0</td>\n",
       "      <td>No</td>\n",
       "      <td>No</td>\n",
       "      <td>No</td>\n",
       "      <td>I don't know</td>\n",
       "      <td>Neither easy nor difficult</td>\n",
       "      <td>Maybe</td>\n",
       "      <td>No</td>\n",
       "      <td>...</td>\n",
       "      <td>No</td>\n",
       "      <td>1</td>\n",
       "      <td>Not applicable to me</td>\n",
       "      <td>Not applicable to me</td>\n",
       "      <td>38</td>\n",
       "      <td>Male</td>\n",
       "      <td>United Kingdom</td>\n",
       "      <td>United Kingdom</td>\n",
       "      <td>Back-end Developer</td>\n",
       "      <td>Always</td>\n",
       "    </tr>\n",
       "    <tr>\n",
       "      <th>3</th>\n",
       "      <td>1</td>\n",
       "      <td>NaN</td>\n",
       "      <td>NaN</td>\n",
       "      <td>NaN</td>\n",
       "      <td>NaN</td>\n",
       "      <td>NaN</td>\n",
       "      <td>NaN</td>\n",
       "      <td>NaN</td>\n",
       "      <td>NaN</td>\n",
       "      <td>NaN</td>\n",
       "      <td>...</td>\n",
       "      <td>Yes</td>\n",
       "      <td>1</td>\n",
       "      <td>Sometimes</td>\n",
       "      <td>Sometimes</td>\n",
       "      <td>43</td>\n",
       "      <td>male</td>\n",
       "      <td>United Kingdom</td>\n",
       "      <td>United Kingdom</td>\n",
       "      <td>Supervisor/Team Lead</td>\n",
       "      <td>Sometimes</td>\n",
       "    </tr>\n",
       "    <tr>\n",
       "      <th>4</th>\n",
       "      <td>0</td>\n",
       "      <td>6-25</td>\n",
       "      <td>0.0</td>\n",
       "      <td>Yes</td>\n",
       "      <td>No</td>\n",
       "      <td>No</td>\n",
       "      <td>No</td>\n",
       "      <td>Neither easy nor difficult</td>\n",
       "      <td>Yes</td>\n",
       "      <td>Maybe</td>\n",
       "      <td>...</td>\n",
       "      <td>Yes</td>\n",
       "      <td>1</td>\n",
       "      <td>Sometimes</td>\n",
       "      <td>Sometimes</td>\n",
       "      <td>43</td>\n",
       "      <td>Female</td>\n",
       "      <td>United States of America</td>\n",
       "      <td>United States of America</td>\n",
       "      <td>Executive Leadership|Supervisor/Team Lead|Dev ...</td>\n",
       "      <td>Sometimes</td>\n",
       "    </tr>\n",
       "  </tbody>\n",
       "</table>\n",
       "<p>5 rows × 45 columns</p>\n",
       "</div>"
      ],
      "text/plain": [
       "   self_empl_flag comp_no_empl  tech_comp_flag  \\\n",
       "0               0       26-100             1.0   \n",
       "1               0         6-25             1.0   \n",
       "2               0         6-25             1.0   \n",
       "3               1          NaN             NaN   \n",
       "4               0         6-25             0.0   \n",
       "\n",
       "                  mh_coverage_flag mh_employer_discussion  \\\n",
       "0  Not eligible for coverage / N/A                     No   \n",
       "1                               No                    Yes   \n",
       "2                               No                     No   \n",
       "3                              NaN                    NaN   \n",
       "4                              Yes                     No   \n",
       "\n",
       "  mh_resources_provided mh_anonimity_flag            mh_medical_leave  \\\n",
       "0                    No      I don't know                   Very easy   \n",
       "1                   Yes               Yes               Somewhat easy   \n",
       "2                    No      I don't know  Neither easy nor difficult   \n",
       "3                   NaN               NaN                         NaN   \n",
       "4                    No                No  Neither easy nor difficult   \n",
       "\n",
       "  mh_discussion_neg_impact ph_discussion_neg_impact  ...  \\\n",
       "0                       No                       No  ...   \n",
       "1                       No                       No  ...   \n",
       "2                    Maybe                       No  ...   \n",
       "3                      NaN                      NaN  ...   \n",
       "4                      Yes                    Maybe  ...   \n",
       "\n",
       "  mh_diagnos_proffesional mh_sought_proffes_treatm  \\\n",
       "0                     Yes                        0   \n",
       "1                     Yes                        1   \n",
       "2                      No                        1   \n",
       "3                     Yes                        1   \n",
       "4                     Yes                        1   \n",
       "\n",
       "  mh_eff_treat_impact_on_work mh_not_eff_treat_impact_on_work  age     sex  \\\n",
       "0        Not applicable to me            Not applicable to me   39    Male   \n",
       "1                      Rarely                       Sometimes   29    male   \n",
       "2        Not applicable to me            Not applicable to me   38   Male    \n",
       "3                   Sometimes                       Sometimes   43    male   \n",
       "4                   Sometimes                       Sometimes   43  Female   \n",
       "\n",
       "               country_live              country_work  \\\n",
       "0            United Kingdom            United Kingdom   \n",
       "1  United States of America  United States of America   \n",
       "2            United Kingdom            United Kingdom   \n",
       "3            United Kingdom            United Kingdom   \n",
       "4  United States of America  United States of America   \n",
       "\n",
       "                                       work_position remote_flag  \n",
       "0                                 Back-end Developer   Sometimes  \n",
       "1             Back-end Developer|Front-end Developer       Never  \n",
       "2                                 Back-end Developer      Always  \n",
       "3                               Supervisor/Team Lead   Sometimes  \n",
       "4  Executive Leadership|Supervisor/Team Lead|Dev ...   Sometimes  \n",
       "\n",
       "[5 rows x 45 columns]"
      ]
     },
     "execution_count": 17,
     "metadata": {},
     "output_type": "execute_result"
    }
   ],
   "source": [
    "data.head(5)"
   ]
  },
  {
   "cell_type": "code",
   "execution_count": 18,
   "metadata": {},
   "outputs": [],
   "source": [
    "def unique_object_values_in_columns(df):\n",
    "    for c in df.columns:\n",
    "        if df[c].dtypes == 'object':\n",
    "            print(c,':',df[c].unique())"
   ]
  },
  {
   "cell_type": "code",
   "execution_count": 19,
   "metadata": {},
   "outputs": [
    {
     "name": "stdout",
     "output_type": "stream",
     "text": [
      "comp_no_empl : ['26-100' '6-25' nan 'More than 1000' '100-500' '500-1000' '1-5']\n",
      "mh_coverage_flag : ['Not eligible for coverage / N/A' 'No' nan 'Yes' \"I don't know\"]\n",
      "mh_employer_discussion : ['No' 'Yes' nan \"I don't know\"]\n",
      "mh_resources_provided : ['No' 'Yes' nan \"I don't know\"]\n",
      "mh_anonimity_flag : [\"I don't know\" 'Yes' nan 'No']\n",
      "mh_medical_leave : ['Very easy' 'Somewhat easy' 'Neither easy nor difficult' nan\n",
      " 'Very difficult' 'Somewhat difficult' \"I don't know\"]\n",
      "mh_discussion_neg_impact : ['No' 'Maybe' nan 'Yes']\n",
      "ph_discussion_neg_impact : ['No' nan 'Maybe' 'Yes']\n",
      "mh_discussion_cowork : ['Maybe' nan 'Yes' 'No']\n",
      "mh_discussion_supervis : ['Yes' 'Maybe' nan 'No']\n",
      "mh_eq_ph_employer : [\"I don't know\" 'Yes' nan 'No']\n",
      "mh_conseq_coworkers : ['No' nan 'Yes']\n",
      "prev_mh_benefits : ['No, none did' 'Yes, they all did' 'Some did' \"I don't know\" nan]\n",
      "prev_mh_benefits_awareness : ['N/A (not currently aware)' 'I was aware of some'\n",
      " 'Yes, I was aware of all of them' 'No, I only became aware later' nan]\n",
      "prev_mh_discussion : [\"I don't know\" 'None did' 'Some did' nan 'Yes, they all did']\n",
      "prev_mh_resources : ['None did' 'Some did' nan 'Yes, they all did']\n",
      "prev_mh_anonimity : [\"I don't know\" 'Yes, always' 'Sometimes' 'No' nan]\n",
      "prev_mh_discuss_neg_conseq : ['Some of them' 'None of them' \"I don't know\" 'Yes, all of them' nan]\n",
      "prev_ph_discuss_neg_conseq : ['None of them' 'Some of them' 'Yes, all of them' nan]\n",
      "prev_mh_discussion_cowork : ['Some of my previous employers' 'No, at none of my previous employers'\n",
      " 'Yes, at all of my previous employers' nan]\n",
      "prev_mh_discussion_supervisor : ['Some of my previous employers' \"I don't know\"\n",
      " 'No, at none of my previous employers'\n",
      " 'Yes, at all of my previous employers' nan]\n",
      "prev_mh_importance_employer : [\"I don't know\" 'Some did' 'None did' 'Yes, they all did' nan]\n",
      "prev_mh_conseq_coworkers : ['None of them' 'Some of them' nan 'Yes, all of them']\n",
      "future_ph_specification : ['Maybe' 'Yes' 'No']\n",
      "future_mh_specification : ['Maybe' 'No' 'Yes']\n",
      "mh_hurt_on_career : ['Maybe' \"No, I don't think it would\" 'Yes, I think it would'\n",
      " 'No, it has not' 'Yes, it has']\n",
      "mh_neg_view_cowork : [\"No, I don't think they would\" 'Maybe' 'Yes, they do'\n",
      " 'Yes, I think they would' 'No, they do not']\n",
      "mh_sharing_friends/fam_flag : ['Somewhat open' 'Neutral'\n",
      " 'Not applicable to me (I do not have a mental illness)' 'Very open'\n",
      " 'Not open at all' 'Somewhat not open']\n",
      "mh_bad_response_workplace : ['No' 'Maybe/Not sure' 'Yes, I experienced' 'Yes, I observed' nan]\n",
      "mh_family_hist : ['No' 'Yes' \"I don't know\"]\n",
      "mh_disorder_past : ['Yes' 'Maybe' 'No']\n",
      "mh_disorder_current : ['No' 'Yes' 'Maybe']\n",
      "mh_diagnos_proffesional : ['Yes' 'No']\n",
      "mh_eff_treat_impact_on_work : ['Not applicable to me' 'Rarely' 'Sometimes' 'Never' 'Often']\n",
      "mh_not_eff_treat_impact_on_work : ['Not applicable to me' 'Sometimes' 'Often' 'Rarely' 'Never']\n",
      "sex : ['Male' 'male' 'Male ' 'Female' 'M' 'female' 'm' 'I identify as female.'\n",
      " 'female ' 'Bigender' 'non-binary' 'Female assigned at birth ' 'F' 'Woman'\n",
      " 'man' 'fm' 'f' 'Cis female ' 'Transitioned, M2F'\n",
      " 'Genderfluid (born female)' 'Other/Transfeminine'\n",
      " 'Female or Multi-Gender Femme' 'Female ' 'woman' 'female/woman'\n",
      " 'Cis male' 'Male.' 'Androgynous' 'male 9:1 female, roughly' nan\n",
      " 'Male (cis)' 'Other' 'nb masculine' 'Cisgender Female' 'Man'\n",
      " 'Sex is male' 'none of your business' 'genderqueer' 'cis male' 'Human'\n",
      " 'Genderfluid' 'Enby' 'Malr' 'genderqueer woman' 'mtf' 'Queer' 'Agender'\n",
      " 'Dude' 'Fluid'\n",
      " \"I'm a man why didn't you make this a drop down question. You should of asked sex? And I would of answered yes please. Seriously how much text can this take? \"\n",
      " 'mail' 'M|' 'Male/genderqueer' 'fem' 'Nonbinary' 'male ' 'human'\n",
      " 'Female (props for making this a freeform field, though)' ' Female'\n",
      " 'Unicorn' 'Cis Male' 'Male (trans, FtM)' 'Cis-woman' 'Genderqueer'\n",
      " 'cisdude' 'Genderflux demi-girl'\n",
      " 'female-bodied; no feelings about gender' 'cis man' 'AFAB'\n",
      " 'Transgender woman' 'MALE']\n",
      "country_live : ['United Kingdom' 'United States of America' 'Canada' 'Germany'\n",
      " 'Netherlands' 'Czech Republic' 'Lithuania' 'Australia' 'France'\n",
      " 'Venezuela' 'Poland' 'Belgium' 'Brazil' 'Denmark' 'Sweden' 'Russia'\n",
      " 'Spain' 'India' 'Mexico' 'Switzerland' 'Norway' 'Argentina' 'Ireland'\n",
      " 'Italy' 'Finland' 'Colombia' 'Costa Rica' 'Vietnam' 'Bulgaria'\n",
      " 'New Zealand' 'South Africa' 'Slovakia' 'Austria' 'Bangladesh' 'Algeria'\n",
      " 'Pakistan' 'Afghanistan' 'Greece' 'Romania' 'Other' 'Brunei' 'Japan'\n",
      " 'Iran' 'Hungary' 'Israel' 'Ecuador' 'Bosnia and Herzegovina' 'China'\n",
      " 'Chile' 'Guatemala' 'Taiwan' 'Serbia' 'Estonia']\n",
      "country_work : ['United Kingdom' 'United States of America' 'Canada' 'Germany'\n",
      " 'Netherlands' 'Czech Republic' 'Lithuania' 'Australia' 'France'\n",
      " 'Venezuela' 'Poland' 'Belgium' 'Brazil' 'Denmark' 'Sweden' 'Russia'\n",
      " 'Spain' 'India' 'United Arab Emirates' 'Mexico' 'Switzerland' 'Norway'\n",
      " 'Argentina' 'Ireland' 'Italy' 'Finland' 'Turkey' 'Colombia' 'Costa Rica'\n",
      " 'Vietnam' 'Bulgaria' 'New Zealand' 'South Africa' 'Slovakia' 'Austria'\n",
      " 'Bangladesh' 'Pakistan' 'Afghanistan' 'Greece' 'Other' 'Romania' 'Brunei'\n",
      " 'Iran' 'Hungary' 'Israel' 'Japan' 'Ecuador' 'Bosnia and Herzegovina'\n",
      " 'China' 'Chile' 'Guatemala' 'Serbia' 'Estonia']\n",
      "work_position : ['Back-end Developer' 'Back-end Developer|Front-end Developer'\n",
      " 'Supervisor/Team Lead'\n",
      " 'Executive Leadership|Supervisor/Team Lead|Dev Evangelist/Advocate|DevOps/SysAdmin|Support|Back-end Developer|Front-end Developer'\n",
      " 'DevOps/SysAdmin|Support|Back-end Developer|Front-end Developer|Designer'\n",
      " 'Dev Evangelist/Advocate|Back-end Developer'\n",
      " 'Support|Back-end Developer|One-person shop'\n",
      " 'One-person shop|Front-end Developer|Back-end Developer'\n",
      " 'Front-end Developer' 'Executive Leadership'\n",
      " 'Supervisor/Team Lead|Dev Evangelist/Advocate|Back-end Developer|Front-end Developer'\n",
      " 'DevOps/SysAdmin|Back-end Developer|Front-end Developer' 'Designer'\n",
      " 'Other|Executive Leadership' 'One-person shop' 'Other'\n",
      " 'Supervisor/Team Lead|Support|Back-end Developer'\n",
      " 'Supervisor/Team Lead|DevOps/SysAdmin|Back-end Developer'\n",
      " 'Other|Supervisor/Team Lead|Support|Back-end Developer|Designer'\n",
      " 'Supervisor/Team Lead|Back-end Developer'\n",
      " 'One-person shop|Front-end Developer|Back-end Developer|Dev Evangelist/Advocate|Other'\n",
      " 'Supervisor/Team Lead|DevOps/SysAdmin|Support|Back-end Developer'\n",
      " 'Executive Leadership|Front-end Developer|Back-end Developer|Sales|Supervisor/Team Lead'\n",
      " 'Support|Other' 'One-person shop|Back-end Developer|DevOps/SysAdmin'\n",
      " 'Supervisor/Team Lead|Other' 'DevOps/SysAdmin|Back-end Developer'\n",
      " 'Supervisor/Team Lead|Back-end Developer|Front-end Developer'\n",
      " 'Front-end Developer|Back-end Developer|Executive Leadership'\n",
      " 'Supervisor/Team Lead|Back-end Developer|Front-end Developer|One-person shop'\n",
      " 'Supervisor/Team Lead|DevOps/SysAdmin' 'DevOps/SysAdmin'\n",
      " 'Front-end Developer|Back-end Developer'\n",
      " 'Supervisor/Team Lead|Back-end Developer|One-person shop' 'Support'\n",
      " 'Executive Leadership|Supervisor/Team Lead|Back-end Developer'\n",
      " 'Front-end Developer|Back-end Developer|DevOps/SysAdmin'\n",
      " 'Supervisor/Team Lead|Dev Evangelist/Advocate|Back-end Developer'\n",
      " 'Back-end Developer|DevOps/SysAdmin' 'One-person shop|Back-end Developer'\n",
      " 'Back-end Developer|Supervisor/Team Lead'\n",
      " 'Front-end Developer|Back-end Developer|Sales|Executive Leadership'\n",
      " 'One-person shop|Back-end Developer|Sales|Support|DevOps/SysAdmin|Dev Evangelist/Advocate|Supervisor/Team Lead|Executive Leadership|Other'\n",
      " 'Back-end Developer|DevOps/SysAdmin|Dev Evangelist/Advocate|Supervisor/Team Lead'\n",
      " 'Front-end Developer|Back-end Developer|DevOps/SysAdmin|Supervisor/Team Lead'\n",
      " 'Executive Leadership|Supervisor/Team Lead'\n",
      " 'Supervisor/Team Lead|Back-end Developer|DevOps/SysAdmin|Dev Evangelist/Advocate'\n",
      " 'One-person shop|Designer|Front-end Developer|Support'\n",
      " 'One-person shop|Front-end Developer|Back-end Developer|DevOps/SysAdmin'\n",
      " 'Other|Executive Leadership|Supervisor/Team Lead|Back-end Developer'\n",
      " 'Executive Leadership|Supervisor/Team Lead|Dev Evangelist/Advocate|DevOps/SysAdmin|Back-end Developer|Front-end Developer'\n",
      " 'Supervisor/Team Lead|Front-end Developer'\n",
      " 'Other|Back-end Developer|Front-end Developer|Designer'\n",
      " 'Executive Leadership|DevOps/SysAdmin|Back-end Developer'\n",
      " 'Other|Supervisor/Team Lead|Back-end Developer|One-person shop'\n",
      " 'Dev Evangelist/Advocate|Support'\n",
      " 'Supervisor/Team Lead|Front-end Developer|Back-end Developer|DevOps/SysAdmin'\n",
      " 'HR' 'Dev Evangelist/Advocate'\n",
      " 'Dev Evangelist/Advocate|Back-end Developer|Support'\n",
      " 'Executive Leadership|DevOps/SysAdmin|Back-end Developer|Support'\n",
      " 'DevOps/SysAdmin|Support|Back-end Developer|Front-end Developer'\n",
      " 'Dev Evangelist/Advocate|Back-end Developer|Front-end Developer'\n",
      " 'Other|HR' 'Support|Back-end Developer' 'DevOps/SysAdmin|Support'\n",
      " 'Back-end Developer|DevOps/SysAdmin|Supervisor/Team Lead'\n",
      " 'Designer|Front-end Developer|Back-end Developer'\n",
      " 'Supervisor/Team Lead|Back-end Developer|Front-end Developer|Designer'\n",
      " 'Other|Back-end Developer|Front-end Developer'\n",
      " 'Front-end Developer|Back-end Developer|Sales|DevOps/SysAdmin'\n",
      " 'Front-end Developer|Back-end Developer|Support'\n",
      " 'One-person shop|Back-end Developer|Supervisor/Team Lead'\n",
      " 'Front-end Developer|Designer' 'Other|Support'\n",
      " 'DevOps/SysAdmin|One-person shop|Front-end Developer|Back-end Developer'\n",
      " 'DevOps/SysAdmin|Executive Leadership'\n",
      " 'Executive Leadership|Dev Evangelist/Advocate'\n",
      " 'Back-end Developer|Dev Evangelist/Advocate'\n",
      " 'Support|HR|Supervisor/Team Lead|Executive Leadership'\n",
      " 'Supervisor/Team Lead|DevOps/SysAdmin|Support|Back-end Developer|Front-end Developer|Designer'\n",
      " 'Supervisor/Team Lead|Back-end Developer|DevOps/SysAdmin'\n",
      " 'Back-end Developer|Front-end Developer|One-person shop'\n",
      " 'Front-end Developer|Back-end Developer|Supervisor/Team Lead'\n",
      " 'DevOps/SysAdmin|Front-end Developer|Back-end Developer|Support'\n",
      " 'DevOps/SysAdmin|Back-end Developer|One-person shop|Front-end Developer'\n",
      " 'One-person shop|DevOps/SysAdmin|Executive Leadership' 'Sales'\n",
      " 'Supervisor/Team Lead|DevOps/SysAdmin|Back-end Developer|Front-end Developer'\n",
      " 'Front-end Developer|Supervisor/Team Lead'\n",
      " 'Supervisor/Team Lead|DevOps/SysAdmin|Back-end Developer|Designer|Front-end Developer'\n",
      " 'Dev Evangelist/Advocate|DevOps/SysAdmin'\n",
      " 'Support|Back-end Developer|Front-end Developer'\n",
      " 'One-person shop|Front-end Developer|Back-end Developer|Supervisor/Team Lead|Executive Leadership'\n",
      " 'Dev Evangelist/Advocate|Back-end Developer|Designer|Front-end Developer'\n",
      " 'Other|Dev Evangelist/Advocate|Sales|Back-end Developer|Front-end Developer'\n",
      " 'DevOps/SysAdmin|Dev Evangelist/Advocate|Supervisor/Team Lead|Executive Leadership'\n",
      " 'Supervisor/Team Lead|DevOps/SysAdmin|Back-end Developer|Designer'\n",
      " 'HR|Supervisor/Team Lead|Executive Leadership'\n",
      " 'Other|Front-end Developer|Back-end Developer|Sales|DevOps/SysAdmin|Dev Evangelist/Advocate'\n",
      " 'DevOps/SysAdmin|Supervisor/Team Lead'\n",
      " 'One-person shop|Designer|Front-end Developer|Back-end Developer|Support|Dev Evangelist/Advocate'\n",
      " 'Dev Evangelist/Advocate|Support|Back-end Developer'\n",
      " 'One-person shop|Back-end Developer|Sales|DevOps/SysAdmin|Executive Leadership'\n",
      " 'Front-end Developer|Back-end Developer|Support|DevOps/SysAdmin'\n",
      " 'Back-end Developer|DevOps/SysAdmin|Supervisor/Team Lead|Other'\n",
      " 'Supervisor/Team Lead|Support' 'HR|Dev Evangelist/Advocate|Sales'\n",
      " 'Back-end Developer|Dev Evangelist/Advocate|Supervisor/Team Lead'\n",
      " 'DevOps/SysAdmin|One-person shop'\n",
      " 'Supervisor/Team Lead|Front-end Developer|Back-end Developer'\n",
      " 'Back-end Developer|Front-end Developer|Designer'\n",
      " 'One-person shop|Back-end Developer|Other'\n",
      " 'Supervisor/Team Lead|DevOps/SysAdmin|Support'\n",
      " 'Other|Executive Leadership|Supervisor/Team Lead|Dev Evangelist/Advocate|DevOps/SysAdmin|Back-end Developer|One-person shop'\n",
      " 'DevOps/SysAdmin|Front-end Developer|Back-end Developer'\n",
      " 'Supervisor/Team Lead|DevOps/SysAdmin|Support|Back-end Developer|Front-end Developer'\n",
      " 'DevOps/SysAdmin|Back-end Developer|Front-end Developer|Designer'\n",
      " 'One-person shop|Back-end Developer|DevOps/SysAdmin|Dev Evangelist/Advocate|Other'\n",
      " 'Other|Supervisor/Team Lead|Back-end Developer|Front-end Developer'\n",
      " 'Other|Dev Evangelist/Advocate|One-person shop'\n",
      " 'Other|Back-end Developer|Front-end Developer|One-person shop'\n",
      " 'Other|One-person shop|Back-end Developer|Sales|Support|DevOps/SysAdmin|Dev Evangelist/Advocate|Supervisor/Team Lead'\n",
      " 'Back-end Developer|One-person shop'\n",
      " 'One-person shop|Designer|Front-end Developer|Back-end Developer|Support'\n",
      " 'Designer|Front-end Developer|Back-end Developer|DevOps/SysAdmin'\n",
      " 'One-person shop|Front-end Developer|Back-end Developer|Sales|Support|DevOps/SysAdmin'\n",
      " 'DevOps/SysAdmin|Back-end Developer|One-person shop'\n",
      " 'Other|Back-end Developer'\n",
      " 'DevOps/SysAdmin|Support|Sales|One-person shop|Designer|Front-end Developer|Back-end Developer'\n",
      " 'Designer|Front-end Developer|Back-end Developer|Supervisor/Team Lead'\n",
      " 'Front-end Developer|Back-end Developer|Support|Dev Evangelist/Advocate'\n",
      " 'Executive Leadership|Supervisor/Team Lead|HR|DevOps/SysAdmin|Support|Sales|Back-end Developer|One-person shop|Designer|Front-end Developer'\n",
      " 'Front-end Developer|Back-end Developer|Support|DevOps/SysAdmin|Dev Evangelist/Advocate'\n",
      " 'Supervisor/Team Lead|Executive Leadership'\n",
      " 'One-person shop|Front-end Developer'\n",
      " 'Other|Dev Evangelist/Advocate|DevOps/SysAdmin|Support|Back-end Developer|Front-end Developer|One-person shop'\n",
      " 'Support|DevOps/SysAdmin'\n",
      " 'One-person shop|Front-end Developer|Back-end Developer|DevOps/SysAdmin|Supervisor/Team Lead'\n",
      " 'Dev Evangelist/Advocate|DevOps/SysAdmin|Back-end Developer'\n",
      " 'Dev Evangelist/Advocate|Support|Back-end Developer|Front-end Developer'\n",
      " 'One-person shop|Back-end Developer|Sales|Support|Supervisor/Team Lead|Executive Leadership'\n",
      " 'DevOps/SysAdmin|Support|Back-end Developer'\n",
      " 'Designer|Front-end Developer|Back-end Developer|Support|DevOps/SysAdmin|Supervisor/Team Lead'\n",
      " 'Other|Supervisor/Team Lead|Dev Evangelist/Advocate|DevOps/SysAdmin|Support|Back-end Developer'\n",
      " 'Executive Leadership|Supervisor/Team Lead|Sales'\n",
      " 'Other|Front-end Developer|Designer'\n",
      " 'One-person shop|Designer|Front-end Developer|Supervisor/Team Lead'\n",
      " 'Designer|Front-end Developer'\n",
      " 'Designer|Front-end Developer|Back-end Developer|DevOps/SysAdmin|Other'\n",
      " 'Other|Dev Evangelist/Advocate|Back-end Developer|Front-end Developer'\n",
      " 'DevOps/SysAdmin|Other'\n",
      " 'Other|Executive Leadership|Supervisor/Team Lead|HR|Support|Sales|Designer|One-person shop'\n",
      " 'Back-end Developer|Support|DevOps/SysAdmin'\n",
      " 'Supervisor/Team Lead|Designer|Front-end Developer|Support'\n",
      " 'Executive Leadership|One-person shop|Front-end Developer|Back-end Developer|Support|Supervisor/Team Lead'\n",
      " 'Executive Leadership|Supervisor/Team Lead|Designer'\n",
      " 'Support|Front-end Developer|Designer'\n",
      " 'Other|Support|Back-end Developer|Front-end Developer|Designer'\n",
      " 'One-person shop|Designer|Front-end Developer|Back-end Developer'\n",
      " 'Dev Evangelist/Advocate|DevOps/SysAdmin|Designer|Front-end Developer|Support'\n",
      " 'Other|Designer|Front-end Developer' 'Other|Front-end Developer'\n",
      " 'Front-end Developer|One-person shop'\n",
      " 'Designer|Front-end Developer|Back-end Developer|Sales|Supervisor/Team Lead'\n",
      " 'Front-end Developer|Back-end Developer|Dev Evangelist/Advocate'\n",
      " 'Supervisor/Team Lead|DevOps/SysAdmin|Back-end Developer|Support'\n",
      " 'Front-end Developer|Back-end Developer|Support|Supervisor/Team Lead'\n",
      " 'Supervisor/Team Lead|Front-end Developer|Back-end Developer|Dev Evangelist/Advocate'\n",
      " 'Supervisor/Team Lead|DevOps/SysAdmin|Front-end Developer|Back-end Developer'\n",
      " 'DevOps/SysAdmin|Back-end Developer|Front-end Developer|One-person shop'\n",
      " 'One-person shop|Designer'\n",
      " 'DevOps/SysAdmin|Support|Back-end Developer|One-person shop'\n",
      " 'Dev Evangelist/Advocate|Front-end Developer|Back-end Developer|DevOps/SysAdmin'\n",
      " 'DevOps/SysAdmin|Support|One-person shop'\n",
      " 'Designer|Support|Supervisor/Team Lead'\n",
      " 'Other|Supervisor/Team Lead|Dev Evangelist/Advocate|DevOps/SysAdmin|Support|Back-end Developer|Front-end Developer|Designer|One-person shop'\n",
      " 'Support|Designer' 'One-person shop|Other'\n",
      " 'Executive Leadership|Supervisor/Team Lead|Front-end Developer|Back-end Developer'\n",
      " 'Designer|Front-end Developer|Back-end Developer|Executive Leadership|Other'\n",
      " 'Designer|Front-end Developer|Back-end Developer|Supervisor/Team Lead|Executive Leadership'\n",
      " 'Supervisor/Team Lead|DevOps/SysAdmin|Support|Front-end Developer|Designer|One-person shop'\n",
      " 'Front-end Developer|Back-end Developer|DevOps/SysAdmin|Dev Evangelist/Advocate'\n",
      " 'Executive Leadership|Supervisor/Team Lead|Back-end Developer|DevOps/SysAdmin'\n",
      " 'Support|Front-end Developer|Back-end Developer'\n",
      " 'Front-end Developer|Back-end Developer|Sales|Support|DevOps/SysAdmin|Supervisor/Team Lead|Executive Leadership'\n",
      " 'One-person shop|Front-end Developer|Back-end Developer|Support|Other'\n",
      " 'One-person shop|Designer|Front-end Developer|Back-end Developer|Sales|Support'\n",
      " 'Supervisor/Team Lead|Dev Evangelist/Advocate|DevOps/SysAdmin|Support|Back-end Developer|Designer|Front-end Developer'\n",
      " 'Supervisor/Team Lead|Sales'\n",
      " 'Other|DevOps/SysAdmin|Support|Back-end Developer'\n",
      " 'Supervisor/Team Lead|Back-end Developer|Support|DevOps/SysAdmin'\n",
      " 'Dev Evangelist/Advocate|One-person shop|Back-end Developer|Support|DevOps/SysAdmin'\n",
      " 'Other|One-person shop' 'Executive Leadership|Other'\n",
      " 'One-person shop|Designer|Front-end Developer|Back-end Developer|Support|DevOps/SysAdmin|Other'\n",
      " 'Other|Dev Evangelist/Advocate|Support'\n",
      " 'Support|Designer|Front-end Developer' 'Designer|One-person shop'\n",
      " 'Designer|Supervisor/Team Lead' 'Front-end Developer|Support'\n",
      " 'Executive Leadership|Supervisor/Team Lead|DevOps/SysAdmin|Back-end Developer|Front-end Developer|One-person shop'\n",
      " 'One-person shop|Designer|Front-end Developer'\n",
      " 'Executive Leadership|Supervisor/Team Lead|DevOps/SysAdmin|Support|Back-end Developer|Front-end Developer'\n",
      " 'Front-end Developer|Back-end Developer|Supervisor/Team Lead|Executive Leadership'\n",
      " 'Executive Leadership|Supervisor/Team Lead|Back-end Developer|Front-end Developer|Designer'\n",
      " 'Other|DevOps/SysAdmin|Back-end Developer'\n",
      " 'Other|Back-end Developer|Supervisor/Team Lead'\n",
      " 'Front-end Developer|Back-end Developer|DevOps/SysAdmin|Supervisor/Team Lead|Executive Leadership'\n",
      " 'Sales|Support|DevOps/SysAdmin|Executive Leadership'\n",
      " 'Executive Leadership|Back-end Developer|Front-end Developer'\n",
      " 'DevOps/SysAdmin|Support|Front-end Developer|Back-end Developer'\n",
      " 'One-person shop|Back-end Developer|Dev Evangelist/Advocate'\n",
      " 'Supervisor/Team Lead|Dev Evangelist/Advocate|Back-end Developer|Designer|Front-end Developer'\n",
      " 'Supervisor/Team Lead|Support|Front-end Developer|Back-end Developer'\n",
      " 'Front-end Developer|Executive Leadership'\n",
      " 'Other|Dev Evangelist/Advocate'\n",
      " 'Back-end Developer|Supervisor/Team Lead|Other'\n",
      " 'Front-end Developer|Back-end Developer|Dev Evangelist/Advocate|Supervisor/Team Lead'\n",
      " 'Front-end Developer|Back-end Developer|Support|DevOps/SysAdmin|Executive Leadership'\n",
      " 'Other|Supervisor/Team Lead|Front-end Developer'\n",
      " 'Other|Supervisor/Team Lead' 'DevOps/SysAdmin|Designer'\n",
      " 'Supervisor/Team Lead|DevOps/SysAdmin|HR'\n",
      " 'DevOps/SysAdmin|Designer|Front-end Developer|Back-end Developer'\n",
      " 'Front-end Developer|Back-end Developer|Other' 'Support|Sales|Designer'\n",
      " 'Front-end Developer|Back-end Developer|Support|Other'\n",
      " 'Executive Leadership|Supervisor/Team Lead|Support|Sales|Designer|Front-end Developer|Back-end Developer'\n",
      " 'Other|Supervisor/Team Lead|DevOps/SysAdmin|Back-end Developer|Support'\n",
      " 'Other|Front-end Developer|Designer|One-person shop'\n",
      " 'Front-end Developer|Designer|One-person shop'\n",
      " 'DevOps/SysAdmin|Support|Sales|Front-end Developer|Designer|One-person shop'\n",
      " 'Supervisor/Team Lead|Front-end Developer|Back-end Developer|Support|DevOps/SysAdmin'\n",
      " 'Other|Supervisor/Team Lead|Dev Evangelist/Advocate|DevOps/SysAdmin|Support|Back-end Developer|Front-end Developer|One-person shop'\n",
      " 'Other|One-person shop|Designer|Front-end Developer|Back-end Developer|Support|Supervisor/Team Lead'\n",
      " 'Supervisor/Team Lead|Support|Back-end Developer|Front-end Developer'\n",
      " 'Other|Supervisor/Team Lead|DevOps/SysAdmin|Support|Front-end Developer|Back-end Developer'\n",
      " 'Back-end Developer|Support|Supervisor/Team Lead'\n",
      " 'Supervisor/Team Lead|Designer'\n",
      " 'Support|Back-end Developer|Front-end Developer|One-person shop'\n",
      " 'Other|One-person shop|Designer|Front-end Developer'\n",
      " 'One-person shop|Designer|Sales|Support|Supervisor/Team Lead'\n",
      " 'DevOps/SysAdmin|Support|Back-end Developer|One-person shop|Front-end Developer'\n",
      " 'Support|Sales|Back-end Developer|Front-end Developer|Designer|One-person shop'\n",
      " 'Dev Evangelist/Advocate|DevOps/SysAdmin|Designer|Front-end Developer|Back-end Developer'\n",
      " 'Supervisor/Team Lead|Front-end Developer|Designer'\n",
      " 'Executive Leadership|Supervisor/Team Lead|Dev Evangelist/Advocate|Back-end Developer'\n",
      " 'One-person shop|Designer|Sales|Executive Leadership'\n",
      " 'Support|Back-end Developer|Front-end Developer|Designer'\n",
      " 'Supervisor/Team Lead|Support|One-person shop|Designer|Front-end Developer|Sales'\n",
      " 'One-person shop|Designer|Support'\n",
      " 'Dev Evangelist/Advocate|DevOps/SysAdmin|Support|Back-end Developer|Front-end Developer|One-person shop'\n",
      " 'One-person shop|Designer|Front-end Developer|Support|Dev Evangelist/Advocate'\n",
      " 'Designer|Front-end Developer|Back-end Developer|Other'\n",
      " 'Executive Leadership|Supervisor/Team Lead|Front-end Developer'\n",
      " 'One-person shop|DevOps/SysAdmin'\n",
      " 'One-person shop|Front-end Developer|Back-end Developer|DevOps/SysAdmin|Supervisor/Team Lead|Executive Leadership'\n",
      " 'One-person shop|Designer|Front-end Developer|Back-end Developer|Dev Evangelist/Advocate|Supervisor/Team Lead'\n",
      " 'Other|Supervisor/Team Lead|Dev Evangelist/Advocate'\n",
      " 'Supervisor/Team Lead|Back-end Developer|Designer'\n",
      " 'Back-end Developer|DevOps/SysAdmin|Supervisor/Team Lead|Executive Leadership'\n",
      " 'Supervisor/Team Lead|Front-end Developer|Back-end Developer|DevOps/SysAdmin|Dev Evangelist/Advocate']\n",
      "remote_flag : ['Sometimes' 'Never' 'Always']\n"
     ]
    }
   ],
   "source": [
    "unique_object_values_in_columns(data)"
   ]
  },
  {
   "cell_type": "code",
   "execution_count": 20,
   "metadata": {},
   "outputs": [],
   "source": [
    "data.replace(to_replace = ['No','Not eligible for coverage / N/A'], value = 0, inplace= True)"
   ]
  },
  {
   "cell_type": "code",
   "execution_count": 21,
   "metadata": {},
   "outputs": [],
   "source": [
    "data.replace(to_replace = [\"I don't know\",'Maybe'], value = 0.5, inplace= True)"
   ]
  },
  {
   "cell_type": "code",
   "execution_count": 22,
   "metadata": {},
   "outputs": [],
   "source": [
    "data.replace(to_replace = ['Yes'], value = 1, inplace= True)"
   ]
  },
  {
   "cell_type": "code",
   "execution_count": 23,
   "metadata": {},
   "outputs": [
    {
     "name": "stdout",
     "output_type": "stream",
     "text": [
      "comp_no_empl : ['26-100' '6-25' nan 'More than 1000' '100-500' '500-1000' '1-5']\n",
      "mh_medical_leave : ['Very easy' 'Somewhat easy' 'Neither easy nor difficult' nan\n",
      " 'Very difficult' 'Somewhat difficult' 0.5]\n",
      "prev_mh_benefits : ['No, none did' 'Yes, they all did' 'Some did' 0.5 nan]\n",
      "prev_mh_benefits_awareness : ['N/A (not currently aware)' 'I was aware of some'\n",
      " 'Yes, I was aware of all of them' 'No, I only became aware later' nan]\n",
      "prev_mh_discussion : [0.5 'None did' 'Some did' nan 'Yes, they all did']\n",
      "prev_mh_resources : ['None did' 'Some did' nan 'Yes, they all did']\n",
      "prev_mh_anonimity : [0.5 'Yes, always' 'Sometimes' 0 nan]\n",
      "prev_mh_discuss_neg_conseq : ['Some of them' 'None of them' 0.5 'Yes, all of them' nan]\n",
      "prev_ph_discuss_neg_conseq : ['None of them' 'Some of them' 'Yes, all of them' nan]\n",
      "prev_mh_discussion_cowork : ['Some of my previous employers' 'No, at none of my previous employers'\n",
      " 'Yes, at all of my previous employers' nan]\n",
      "prev_mh_discussion_supervisor : ['Some of my previous employers' 0.5\n",
      " 'No, at none of my previous employers'\n",
      " 'Yes, at all of my previous employers' nan]\n",
      "prev_mh_importance_employer : [0.5 'Some did' 'None did' 'Yes, they all did' nan]\n",
      "prev_mh_conseq_coworkers : ['None of them' 'Some of them' nan 'Yes, all of them']\n",
      "mh_hurt_on_career : [0.5 \"No, I don't think it would\" 'Yes, I think it would' 'No, it has not'\n",
      " 'Yes, it has']\n",
      "mh_neg_view_cowork : [\"No, I don't think they would\" 0.5 'Yes, they do'\n",
      " 'Yes, I think they would' 'No, they do not']\n",
      "mh_sharing_friends/fam_flag : ['Somewhat open' 'Neutral'\n",
      " 'Not applicable to me (I do not have a mental illness)' 'Very open'\n",
      " 'Not open at all' 'Somewhat not open']\n",
      "mh_bad_response_workplace : [0 'Maybe/Not sure' 'Yes, I experienced' 'Yes, I observed' nan]\n",
      "mh_eff_treat_impact_on_work : ['Not applicable to me' 'Rarely' 'Sometimes' 'Never' 'Often']\n",
      "mh_not_eff_treat_impact_on_work : ['Not applicable to me' 'Sometimes' 'Often' 'Rarely' 'Never']\n",
      "sex : ['Male' 'male' 'Male ' 'Female' 'M' 'female' 'm' 'I identify as female.'\n",
      " 'female ' 'Bigender' 'non-binary' 'Female assigned at birth ' 'F' 'Woman'\n",
      " 'man' 'fm' 'f' 'Cis female ' 'Transitioned, M2F'\n",
      " 'Genderfluid (born female)' 'Other/Transfeminine'\n",
      " 'Female or Multi-Gender Femme' 'Female ' 'woman' 'female/woman'\n",
      " 'Cis male' 'Male.' 'Androgynous' 'male 9:1 female, roughly' nan\n",
      " 'Male (cis)' 'Other' 'nb masculine' 'Cisgender Female' 'Man'\n",
      " 'Sex is male' 'none of your business' 'genderqueer' 'cis male' 'Human'\n",
      " 'Genderfluid' 'Enby' 'Malr' 'genderqueer woman' 'mtf' 'Queer' 'Agender'\n",
      " 'Dude' 'Fluid'\n",
      " \"I'm a man why didn't you make this a drop down question. You should of asked sex? And I would of answered yes please. Seriously how much text can this take? \"\n",
      " 'mail' 'M|' 'Male/genderqueer' 'fem' 'Nonbinary' 'male ' 'human'\n",
      " 'Female (props for making this a freeform field, though)' ' Female'\n",
      " 'Unicorn' 'Cis Male' 'Male (trans, FtM)' 'Cis-woman' 'Genderqueer'\n",
      " 'cisdude' 'Genderflux demi-girl'\n",
      " 'female-bodied; no feelings about gender' 'cis man' 'AFAB'\n",
      " 'Transgender woman' 'MALE']\n",
      "country_live : ['United Kingdom' 'United States of America' 'Canada' 'Germany'\n",
      " 'Netherlands' 'Czech Republic' 'Lithuania' 'Australia' 'France'\n",
      " 'Venezuela' 'Poland' 'Belgium' 'Brazil' 'Denmark' 'Sweden' 'Russia'\n",
      " 'Spain' 'India' 'Mexico' 'Switzerland' 'Norway' 'Argentina' 'Ireland'\n",
      " 'Italy' 'Finland' 'Colombia' 'Costa Rica' 'Vietnam' 'Bulgaria'\n",
      " 'New Zealand' 'South Africa' 'Slovakia' 'Austria' 'Bangladesh' 'Algeria'\n",
      " 'Pakistan' 'Afghanistan' 'Greece' 'Romania' 'Other' 'Brunei' 'Japan'\n",
      " 'Iran' 'Hungary' 'Israel' 'Ecuador' 'Bosnia and Herzegovina' 'China'\n",
      " 'Chile' 'Guatemala' 'Taiwan' 'Serbia' 'Estonia']\n",
      "country_work : ['United Kingdom' 'United States of America' 'Canada' 'Germany'\n",
      " 'Netherlands' 'Czech Republic' 'Lithuania' 'Australia' 'France'\n",
      " 'Venezuela' 'Poland' 'Belgium' 'Brazil' 'Denmark' 'Sweden' 'Russia'\n",
      " 'Spain' 'India' 'United Arab Emirates' 'Mexico' 'Switzerland' 'Norway'\n",
      " 'Argentina' 'Ireland' 'Italy' 'Finland' 'Turkey' 'Colombia' 'Costa Rica'\n",
      " 'Vietnam' 'Bulgaria' 'New Zealand' 'South Africa' 'Slovakia' 'Austria'\n",
      " 'Bangladesh' 'Pakistan' 'Afghanistan' 'Greece' 'Other' 'Romania' 'Brunei'\n",
      " 'Iran' 'Hungary' 'Israel' 'Japan' 'Ecuador' 'Bosnia and Herzegovina'\n",
      " 'China' 'Chile' 'Guatemala' 'Serbia' 'Estonia']\n",
      "work_position : ['Back-end Developer' 'Back-end Developer|Front-end Developer'\n",
      " 'Supervisor/Team Lead'\n",
      " 'Executive Leadership|Supervisor/Team Lead|Dev Evangelist/Advocate|DevOps/SysAdmin|Support|Back-end Developer|Front-end Developer'\n",
      " 'DevOps/SysAdmin|Support|Back-end Developer|Front-end Developer|Designer'\n",
      " 'Dev Evangelist/Advocate|Back-end Developer'\n",
      " 'Support|Back-end Developer|One-person shop'\n",
      " 'One-person shop|Front-end Developer|Back-end Developer'\n",
      " 'Front-end Developer' 'Executive Leadership'\n",
      " 'Supervisor/Team Lead|Dev Evangelist/Advocate|Back-end Developer|Front-end Developer'\n",
      " 'DevOps/SysAdmin|Back-end Developer|Front-end Developer' 'Designer'\n",
      " 'Other|Executive Leadership' 'One-person shop' 'Other'\n",
      " 'Supervisor/Team Lead|Support|Back-end Developer'\n",
      " 'Supervisor/Team Lead|DevOps/SysAdmin|Back-end Developer'\n",
      " 'Other|Supervisor/Team Lead|Support|Back-end Developer|Designer'\n",
      " 'Supervisor/Team Lead|Back-end Developer'\n",
      " 'One-person shop|Front-end Developer|Back-end Developer|Dev Evangelist/Advocate|Other'\n",
      " 'Supervisor/Team Lead|DevOps/SysAdmin|Support|Back-end Developer'\n",
      " 'Executive Leadership|Front-end Developer|Back-end Developer|Sales|Supervisor/Team Lead'\n",
      " 'Support|Other' 'One-person shop|Back-end Developer|DevOps/SysAdmin'\n",
      " 'Supervisor/Team Lead|Other' 'DevOps/SysAdmin|Back-end Developer'\n",
      " 'Supervisor/Team Lead|Back-end Developer|Front-end Developer'\n",
      " 'Front-end Developer|Back-end Developer|Executive Leadership'\n",
      " 'Supervisor/Team Lead|Back-end Developer|Front-end Developer|One-person shop'\n",
      " 'Supervisor/Team Lead|DevOps/SysAdmin' 'DevOps/SysAdmin'\n",
      " 'Front-end Developer|Back-end Developer'\n",
      " 'Supervisor/Team Lead|Back-end Developer|One-person shop' 'Support'\n",
      " 'Executive Leadership|Supervisor/Team Lead|Back-end Developer'\n",
      " 'Front-end Developer|Back-end Developer|DevOps/SysAdmin'\n",
      " 'Supervisor/Team Lead|Dev Evangelist/Advocate|Back-end Developer'\n",
      " 'Back-end Developer|DevOps/SysAdmin' 'One-person shop|Back-end Developer'\n",
      " 'Back-end Developer|Supervisor/Team Lead'\n",
      " 'Front-end Developer|Back-end Developer|Sales|Executive Leadership'\n",
      " 'One-person shop|Back-end Developer|Sales|Support|DevOps/SysAdmin|Dev Evangelist/Advocate|Supervisor/Team Lead|Executive Leadership|Other'\n",
      " 'Back-end Developer|DevOps/SysAdmin|Dev Evangelist/Advocate|Supervisor/Team Lead'\n",
      " 'Front-end Developer|Back-end Developer|DevOps/SysAdmin|Supervisor/Team Lead'\n",
      " 'Executive Leadership|Supervisor/Team Lead'\n",
      " 'Supervisor/Team Lead|Back-end Developer|DevOps/SysAdmin|Dev Evangelist/Advocate'\n",
      " 'One-person shop|Designer|Front-end Developer|Support'\n",
      " 'One-person shop|Front-end Developer|Back-end Developer|DevOps/SysAdmin'\n",
      " 'Other|Executive Leadership|Supervisor/Team Lead|Back-end Developer'\n",
      " 'Executive Leadership|Supervisor/Team Lead|Dev Evangelist/Advocate|DevOps/SysAdmin|Back-end Developer|Front-end Developer'\n",
      " 'Supervisor/Team Lead|Front-end Developer'\n",
      " 'Other|Back-end Developer|Front-end Developer|Designer'\n",
      " 'Executive Leadership|DevOps/SysAdmin|Back-end Developer'\n",
      " 'Other|Supervisor/Team Lead|Back-end Developer|One-person shop'\n",
      " 'Dev Evangelist/Advocate|Support'\n",
      " 'Supervisor/Team Lead|Front-end Developer|Back-end Developer|DevOps/SysAdmin'\n",
      " 'HR' 'Dev Evangelist/Advocate'\n",
      " 'Dev Evangelist/Advocate|Back-end Developer|Support'\n",
      " 'Executive Leadership|DevOps/SysAdmin|Back-end Developer|Support'\n",
      " 'DevOps/SysAdmin|Support|Back-end Developer|Front-end Developer'\n",
      " 'Dev Evangelist/Advocate|Back-end Developer|Front-end Developer'\n",
      " 'Other|HR' 'Support|Back-end Developer' 'DevOps/SysAdmin|Support'\n",
      " 'Back-end Developer|DevOps/SysAdmin|Supervisor/Team Lead'\n",
      " 'Designer|Front-end Developer|Back-end Developer'\n",
      " 'Supervisor/Team Lead|Back-end Developer|Front-end Developer|Designer'\n",
      " 'Other|Back-end Developer|Front-end Developer'\n",
      " 'Front-end Developer|Back-end Developer|Sales|DevOps/SysAdmin'\n",
      " 'Front-end Developer|Back-end Developer|Support'\n",
      " 'One-person shop|Back-end Developer|Supervisor/Team Lead'\n",
      " 'Front-end Developer|Designer' 'Other|Support'\n",
      " 'DevOps/SysAdmin|One-person shop|Front-end Developer|Back-end Developer'\n",
      " 'DevOps/SysAdmin|Executive Leadership'\n",
      " 'Executive Leadership|Dev Evangelist/Advocate'\n",
      " 'Back-end Developer|Dev Evangelist/Advocate'\n",
      " 'Support|HR|Supervisor/Team Lead|Executive Leadership'\n",
      " 'Supervisor/Team Lead|DevOps/SysAdmin|Support|Back-end Developer|Front-end Developer|Designer'\n",
      " 'Supervisor/Team Lead|Back-end Developer|DevOps/SysAdmin'\n",
      " 'Back-end Developer|Front-end Developer|One-person shop'\n",
      " 'Front-end Developer|Back-end Developer|Supervisor/Team Lead'\n",
      " 'DevOps/SysAdmin|Front-end Developer|Back-end Developer|Support'\n",
      " 'DevOps/SysAdmin|Back-end Developer|One-person shop|Front-end Developer'\n",
      " 'One-person shop|DevOps/SysAdmin|Executive Leadership' 'Sales'\n",
      " 'Supervisor/Team Lead|DevOps/SysAdmin|Back-end Developer|Front-end Developer'\n",
      " 'Front-end Developer|Supervisor/Team Lead'\n",
      " 'Supervisor/Team Lead|DevOps/SysAdmin|Back-end Developer|Designer|Front-end Developer'\n",
      " 'Dev Evangelist/Advocate|DevOps/SysAdmin'\n",
      " 'Support|Back-end Developer|Front-end Developer'\n",
      " 'One-person shop|Front-end Developer|Back-end Developer|Supervisor/Team Lead|Executive Leadership'\n",
      " 'Dev Evangelist/Advocate|Back-end Developer|Designer|Front-end Developer'\n",
      " 'Other|Dev Evangelist/Advocate|Sales|Back-end Developer|Front-end Developer'\n",
      " 'DevOps/SysAdmin|Dev Evangelist/Advocate|Supervisor/Team Lead|Executive Leadership'\n",
      " 'Supervisor/Team Lead|DevOps/SysAdmin|Back-end Developer|Designer'\n",
      " 'HR|Supervisor/Team Lead|Executive Leadership'\n",
      " 'Other|Front-end Developer|Back-end Developer|Sales|DevOps/SysAdmin|Dev Evangelist/Advocate'\n",
      " 'DevOps/SysAdmin|Supervisor/Team Lead'\n",
      " 'One-person shop|Designer|Front-end Developer|Back-end Developer|Support|Dev Evangelist/Advocate'\n",
      " 'Dev Evangelist/Advocate|Support|Back-end Developer'\n",
      " 'One-person shop|Back-end Developer|Sales|DevOps/SysAdmin|Executive Leadership'\n",
      " 'Front-end Developer|Back-end Developer|Support|DevOps/SysAdmin'\n",
      " 'Back-end Developer|DevOps/SysAdmin|Supervisor/Team Lead|Other'\n",
      " 'Supervisor/Team Lead|Support' 'HR|Dev Evangelist/Advocate|Sales'\n",
      " 'Back-end Developer|Dev Evangelist/Advocate|Supervisor/Team Lead'\n",
      " 'DevOps/SysAdmin|One-person shop'\n",
      " 'Supervisor/Team Lead|Front-end Developer|Back-end Developer'\n",
      " 'Back-end Developer|Front-end Developer|Designer'\n",
      " 'One-person shop|Back-end Developer|Other'\n",
      " 'Supervisor/Team Lead|DevOps/SysAdmin|Support'\n",
      " 'Other|Executive Leadership|Supervisor/Team Lead|Dev Evangelist/Advocate|DevOps/SysAdmin|Back-end Developer|One-person shop'\n",
      " 'DevOps/SysAdmin|Front-end Developer|Back-end Developer'\n",
      " 'Supervisor/Team Lead|DevOps/SysAdmin|Support|Back-end Developer|Front-end Developer'\n",
      " 'DevOps/SysAdmin|Back-end Developer|Front-end Developer|Designer'\n",
      " 'One-person shop|Back-end Developer|DevOps/SysAdmin|Dev Evangelist/Advocate|Other'\n",
      " 'Other|Supervisor/Team Lead|Back-end Developer|Front-end Developer'\n",
      " 'Other|Dev Evangelist/Advocate|One-person shop'\n",
      " 'Other|Back-end Developer|Front-end Developer|One-person shop'\n",
      " 'Other|One-person shop|Back-end Developer|Sales|Support|DevOps/SysAdmin|Dev Evangelist/Advocate|Supervisor/Team Lead'\n",
      " 'Back-end Developer|One-person shop'\n",
      " 'One-person shop|Designer|Front-end Developer|Back-end Developer|Support'\n",
      " 'Designer|Front-end Developer|Back-end Developer|DevOps/SysAdmin'\n",
      " 'One-person shop|Front-end Developer|Back-end Developer|Sales|Support|DevOps/SysAdmin'\n",
      " 'DevOps/SysAdmin|Back-end Developer|One-person shop'\n",
      " 'Other|Back-end Developer'\n",
      " 'DevOps/SysAdmin|Support|Sales|One-person shop|Designer|Front-end Developer|Back-end Developer'\n",
      " 'Designer|Front-end Developer|Back-end Developer|Supervisor/Team Lead'\n",
      " 'Front-end Developer|Back-end Developer|Support|Dev Evangelist/Advocate'\n",
      " 'Executive Leadership|Supervisor/Team Lead|HR|DevOps/SysAdmin|Support|Sales|Back-end Developer|One-person shop|Designer|Front-end Developer'\n",
      " 'Front-end Developer|Back-end Developer|Support|DevOps/SysAdmin|Dev Evangelist/Advocate'\n",
      " 'Supervisor/Team Lead|Executive Leadership'\n",
      " 'One-person shop|Front-end Developer'\n",
      " 'Other|Dev Evangelist/Advocate|DevOps/SysAdmin|Support|Back-end Developer|Front-end Developer|One-person shop'\n",
      " 'Support|DevOps/SysAdmin'\n",
      " 'One-person shop|Front-end Developer|Back-end Developer|DevOps/SysAdmin|Supervisor/Team Lead'\n",
      " 'Dev Evangelist/Advocate|DevOps/SysAdmin|Back-end Developer'\n",
      " 'Dev Evangelist/Advocate|Support|Back-end Developer|Front-end Developer'\n",
      " 'One-person shop|Back-end Developer|Sales|Support|Supervisor/Team Lead|Executive Leadership'\n",
      " 'DevOps/SysAdmin|Support|Back-end Developer'\n",
      " 'Designer|Front-end Developer|Back-end Developer|Support|DevOps/SysAdmin|Supervisor/Team Lead'\n",
      " 'Other|Supervisor/Team Lead|Dev Evangelist/Advocate|DevOps/SysAdmin|Support|Back-end Developer'\n",
      " 'Executive Leadership|Supervisor/Team Lead|Sales'\n",
      " 'Other|Front-end Developer|Designer'\n",
      " 'One-person shop|Designer|Front-end Developer|Supervisor/Team Lead'\n",
      " 'Designer|Front-end Developer'\n",
      " 'Designer|Front-end Developer|Back-end Developer|DevOps/SysAdmin|Other'\n",
      " 'Other|Dev Evangelist/Advocate|Back-end Developer|Front-end Developer'\n",
      " 'DevOps/SysAdmin|Other'\n",
      " 'Other|Executive Leadership|Supervisor/Team Lead|HR|Support|Sales|Designer|One-person shop'\n",
      " 'Back-end Developer|Support|DevOps/SysAdmin'\n",
      " 'Supervisor/Team Lead|Designer|Front-end Developer|Support'\n",
      " 'Executive Leadership|One-person shop|Front-end Developer|Back-end Developer|Support|Supervisor/Team Lead'\n",
      " 'Executive Leadership|Supervisor/Team Lead|Designer'\n",
      " 'Support|Front-end Developer|Designer'\n",
      " 'Other|Support|Back-end Developer|Front-end Developer|Designer'\n",
      " 'One-person shop|Designer|Front-end Developer|Back-end Developer'\n",
      " 'Dev Evangelist/Advocate|DevOps/SysAdmin|Designer|Front-end Developer|Support'\n",
      " 'Other|Designer|Front-end Developer' 'Other|Front-end Developer'\n",
      " 'Front-end Developer|One-person shop'\n",
      " 'Designer|Front-end Developer|Back-end Developer|Sales|Supervisor/Team Lead'\n",
      " 'Front-end Developer|Back-end Developer|Dev Evangelist/Advocate'\n",
      " 'Supervisor/Team Lead|DevOps/SysAdmin|Back-end Developer|Support'\n",
      " 'Front-end Developer|Back-end Developer|Support|Supervisor/Team Lead'\n",
      " 'Supervisor/Team Lead|Front-end Developer|Back-end Developer|Dev Evangelist/Advocate'\n",
      " 'Supervisor/Team Lead|DevOps/SysAdmin|Front-end Developer|Back-end Developer'\n",
      " 'DevOps/SysAdmin|Back-end Developer|Front-end Developer|One-person shop'\n",
      " 'One-person shop|Designer'\n",
      " 'DevOps/SysAdmin|Support|Back-end Developer|One-person shop'\n",
      " 'Dev Evangelist/Advocate|Front-end Developer|Back-end Developer|DevOps/SysAdmin'\n",
      " 'DevOps/SysAdmin|Support|One-person shop'\n",
      " 'Designer|Support|Supervisor/Team Lead'\n",
      " 'Other|Supervisor/Team Lead|Dev Evangelist/Advocate|DevOps/SysAdmin|Support|Back-end Developer|Front-end Developer|Designer|One-person shop'\n",
      " 'Support|Designer' 'One-person shop|Other'\n",
      " 'Executive Leadership|Supervisor/Team Lead|Front-end Developer|Back-end Developer'\n",
      " 'Designer|Front-end Developer|Back-end Developer|Executive Leadership|Other'\n",
      " 'Designer|Front-end Developer|Back-end Developer|Supervisor/Team Lead|Executive Leadership'\n",
      " 'Supervisor/Team Lead|DevOps/SysAdmin|Support|Front-end Developer|Designer|One-person shop'\n",
      " 'Front-end Developer|Back-end Developer|DevOps/SysAdmin|Dev Evangelist/Advocate'\n",
      " 'Executive Leadership|Supervisor/Team Lead|Back-end Developer|DevOps/SysAdmin'\n",
      " 'Support|Front-end Developer|Back-end Developer'\n",
      " 'Front-end Developer|Back-end Developer|Sales|Support|DevOps/SysAdmin|Supervisor/Team Lead|Executive Leadership'\n",
      " 'One-person shop|Front-end Developer|Back-end Developer|Support|Other'\n",
      " 'One-person shop|Designer|Front-end Developer|Back-end Developer|Sales|Support'\n",
      " 'Supervisor/Team Lead|Dev Evangelist/Advocate|DevOps/SysAdmin|Support|Back-end Developer|Designer|Front-end Developer'\n",
      " 'Supervisor/Team Lead|Sales'\n",
      " 'Other|DevOps/SysAdmin|Support|Back-end Developer'\n",
      " 'Supervisor/Team Lead|Back-end Developer|Support|DevOps/SysAdmin'\n",
      " 'Dev Evangelist/Advocate|One-person shop|Back-end Developer|Support|DevOps/SysAdmin'\n",
      " 'Other|One-person shop' 'Executive Leadership|Other'\n",
      " 'One-person shop|Designer|Front-end Developer|Back-end Developer|Support|DevOps/SysAdmin|Other'\n",
      " 'Other|Dev Evangelist/Advocate|Support'\n",
      " 'Support|Designer|Front-end Developer' 'Designer|One-person shop'\n",
      " 'Designer|Supervisor/Team Lead' 'Front-end Developer|Support'\n",
      " 'Executive Leadership|Supervisor/Team Lead|DevOps/SysAdmin|Back-end Developer|Front-end Developer|One-person shop'\n",
      " 'One-person shop|Designer|Front-end Developer'\n",
      " 'Executive Leadership|Supervisor/Team Lead|DevOps/SysAdmin|Support|Back-end Developer|Front-end Developer'\n",
      " 'Front-end Developer|Back-end Developer|Supervisor/Team Lead|Executive Leadership'\n",
      " 'Executive Leadership|Supervisor/Team Lead|Back-end Developer|Front-end Developer|Designer'\n",
      " 'Other|DevOps/SysAdmin|Back-end Developer'\n",
      " 'Other|Back-end Developer|Supervisor/Team Lead'\n",
      " 'Front-end Developer|Back-end Developer|DevOps/SysAdmin|Supervisor/Team Lead|Executive Leadership'\n",
      " 'Sales|Support|DevOps/SysAdmin|Executive Leadership'\n",
      " 'Executive Leadership|Back-end Developer|Front-end Developer'\n",
      " 'DevOps/SysAdmin|Support|Front-end Developer|Back-end Developer'\n",
      " 'One-person shop|Back-end Developer|Dev Evangelist/Advocate'\n",
      " 'Supervisor/Team Lead|Dev Evangelist/Advocate|Back-end Developer|Designer|Front-end Developer'\n",
      " 'Supervisor/Team Lead|Support|Front-end Developer|Back-end Developer'\n",
      " 'Front-end Developer|Executive Leadership'\n",
      " 'Other|Dev Evangelist/Advocate'\n",
      " 'Back-end Developer|Supervisor/Team Lead|Other'\n",
      " 'Front-end Developer|Back-end Developer|Dev Evangelist/Advocate|Supervisor/Team Lead'\n",
      " 'Front-end Developer|Back-end Developer|Support|DevOps/SysAdmin|Executive Leadership'\n",
      " 'Other|Supervisor/Team Lead|Front-end Developer'\n",
      " 'Other|Supervisor/Team Lead' 'DevOps/SysAdmin|Designer'\n",
      " 'Supervisor/Team Lead|DevOps/SysAdmin|HR'\n",
      " 'DevOps/SysAdmin|Designer|Front-end Developer|Back-end Developer'\n",
      " 'Front-end Developer|Back-end Developer|Other' 'Support|Sales|Designer'\n",
      " 'Front-end Developer|Back-end Developer|Support|Other'\n",
      " 'Executive Leadership|Supervisor/Team Lead|Support|Sales|Designer|Front-end Developer|Back-end Developer'\n",
      " 'Other|Supervisor/Team Lead|DevOps/SysAdmin|Back-end Developer|Support'\n",
      " 'Other|Front-end Developer|Designer|One-person shop'\n",
      " 'Front-end Developer|Designer|One-person shop'\n",
      " 'DevOps/SysAdmin|Support|Sales|Front-end Developer|Designer|One-person shop'\n",
      " 'Supervisor/Team Lead|Front-end Developer|Back-end Developer|Support|DevOps/SysAdmin'\n",
      " 'Other|Supervisor/Team Lead|Dev Evangelist/Advocate|DevOps/SysAdmin|Support|Back-end Developer|Front-end Developer|One-person shop'\n",
      " 'Other|One-person shop|Designer|Front-end Developer|Back-end Developer|Support|Supervisor/Team Lead'\n",
      " 'Supervisor/Team Lead|Support|Back-end Developer|Front-end Developer'\n",
      " 'Other|Supervisor/Team Lead|DevOps/SysAdmin|Support|Front-end Developer|Back-end Developer'\n",
      " 'Back-end Developer|Support|Supervisor/Team Lead'\n",
      " 'Supervisor/Team Lead|Designer'\n",
      " 'Support|Back-end Developer|Front-end Developer|One-person shop'\n",
      " 'Other|One-person shop|Designer|Front-end Developer'\n",
      " 'One-person shop|Designer|Sales|Support|Supervisor/Team Lead'\n",
      " 'DevOps/SysAdmin|Support|Back-end Developer|One-person shop|Front-end Developer'\n",
      " 'Support|Sales|Back-end Developer|Front-end Developer|Designer|One-person shop'\n",
      " 'Dev Evangelist/Advocate|DevOps/SysAdmin|Designer|Front-end Developer|Back-end Developer'\n",
      " 'Supervisor/Team Lead|Front-end Developer|Designer'\n",
      " 'Executive Leadership|Supervisor/Team Lead|Dev Evangelist/Advocate|Back-end Developer'\n",
      " 'One-person shop|Designer|Sales|Executive Leadership'\n",
      " 'Support|Back-end Developer|Front-end Developer|Designer'\n",
      " 'Supervisor/Team Lead|Support|One-person shop|Designer|Front-end Developer|Sales'\n",
      " 'One-person shop|Designer|Support'\n",
      " 'Dev Evangelist/Advocate|DevOps/SysAdmin|Support|Back-end Developer|Front-end Developer|One-person shop'\n",
      " 'One-person shop|Designer|Front-end Developer|Support|Dev Evangelist/Advocate'\n",
      " 'Designer|Front-end Developer|Back-end Developer|Other'\n",
      " 'Executive Leadership|Supervisor/Team Lead|Front-end Developer'\n",
      " 'One-person shop|DevOps/SysAdmin'\n",
      " 'One-person shop|Front-end Developer|Back-end Developer|DevOps/SysAdmin|Supervisor/Team Lead|Executive Leadership'\n",
      " 'One-person shop|Designer|Front-end Developer|Back-end Developer|Dev Evangelist/Advocate|Supervisor/Team Lead'\n",
      " 'Other|Supervisor/Team Lead|Dev Evangelist/Advocate'\n",
      " 'Supervisor/Team Lead|Back-end Developer|Designer'\n",
      " 'Back-end Developer|DevOps/SysAdmin|Supervisor/Team Lead|Executive Leadership'\n",
      " 'Supervisor/Team Lead|Front-end Developer|Back-end Developer|DevOps/SysAdmin|Dev Evangelist/Advocate']\n",
      "remote_flag : ['Sometimes' 'Never' 'Always']\n"
     ]
    }
   ],
   "source": [
    "unique_object_values_in_columns(data)"
   ]
  },
  {
   "cell_type": "code",
   "execution_count": 24,
   "metadata": {},
   "outputs": [
    {
     "data": {
      "text/plain": [
       "(1433, 45)"
      ]
     },
     "execution_count": 24,
     "metadata": {},
     "output_type": "execute_result"
    }
   ],
   "source": [
    "data.shape"
   ]
  },
  {
   "cell_type": "code",
   "execution_count": null,
   "metadata": {},
   "outputs": [],
   "source": []
  },
  {
   "cell_type": "code",
   "execution_count": null,
   "metadata": {},
   "outputs": [],
   "source": [
    "data['comp_no_empl'].replace(to_replace = ['More than 1000'], value = '>1000', inplace = True)"
   ]
  },
  {
   "cell_type": "code",
   "execution_count": null,
   "metadata": {},
   "outputs": [],
   "source": []
  },
  {
   "cell_type": "code",
   "execution_count": 29,
   "metadata": {},
   "outputs": [
    {
     "data": {
      "text/plain": [
       " 1.0    531\n",
       " 0.0    319\n",
       "-1.0    296\n",
       "Name: mh_coverage_flag, dtype: int64"
      ]
     },
     "execution_count": 29,
     "metadata": {},
     "output_type": "execute_result"
    }
   ],
   "source": [
    "data.mh_coverage_flag.value_counts()"
   ]
  },
  {
   "cell_type": "markdown",
   "metadata": {},
   "source": [
    "### lets work columns by column"
   ]
  },
  {
   "cell_type": "markdown",
   "metadata": {},
   "source": [
    "### 01 work on ...self_empl_flag"
   ]
  },
  {
   "cell_type": "code",
   "execution_count": 18,
   "metadata": {},
   "outputs": [
    {
     "data": {
      "text/plain": [
       "0"
      ]
     },
     "execution_count": 18,
     "metadata": {},
     "output_type": "execute_result"
    }
   ],
   "source": [
    "data['self_empl_flag'].isnull().sum()"
   ]
  },
  {
   "cell_type": "code",
   "execution_count": 19,
   "metadata": {},
   "outputs": [
    {
     "data": {
      "text/plain": [
       "0    1146\n",
       "1     287\n",
       "Name: self_empl_flag, dtype: int64"
      ]
     },
     "execution_count": 19,
     "metadata": {},
     "output_type": "execute_result"
    }
   ],
   "source": [
    "data['self_empl_flag'].value_counts()"
   ]
  },
  {
   "cell_type": "markdown",
   "metadata": {},
   "source": [
    "### self_empl_flag is cleaned"
   ]
  },
  {
   "cell_type": "markdown",
   "metadata": {},
   "source": [
    "### 02 work on ...self_empl_flag"
   ]
  },
  {
   "cell_type": "code",
   "execution_count": 20,
   "metadata": {},
   "outputs": [
    {
     "data": {
      "text/plain": [
       "287"
      ]
     },
     "execution_count": 20,
     "metadata": {},
     "output_type": "execute_result"
    }
   ],
   "source": [
    "data['comp_no_empl'].isnull().sum()"
   ]
  },
  {
   "cell_type": "code",
   "execution_count": 21,
   "metadata": {
    "scrolled": true
   },
   "outputs": [
    {
     "data": {
      "text/plain": [
       "26-100            292\n",
       "More than 1000    256\n",
       "100-500           248\n",
       "6-25              210\n",
       "500-1000           80\n",
       "1-5                60\n",
       "Name: comp_no_empl, dtype: int64"
      ]
     },
     "execution_count": 21,
     "metadata": {},
     "output_type": "execute_result"
    }
   ],
   "source": [
    "data['comp_no_empl'].value_counts()"
   ]
  },
  {
   "cell_type": "code",
   "execution_count": 22,
   "metadata": {},
   "outputs": [
    {
     "data": {
      "text/plain": [
       "191.0"
      ]
     },
     "execution_count": 22,
     "metadata": {},
     "output_type": "execute_result"
    }
   ],
   "source": [
    "data['comp_no_empl'].value_counts().mean()"
   ]
  },
  {
   "cell_type": "code",
   "execution_count": 23,
   "metadata": {},
   "outputs": [],
   "source": [
    "# we can see 191 is avg of no. of employee class\n",
    "# and most relatable for 6-25 class which has 210 frequency\n",
    "# so we can replace null values by class 6-25 that is class 1"
   ]
  },
  {
   "cell_type": "code",
   "execution_count": 24,
   "metadata": {},
   "outputs": [],
   "source": [
    "### lets make classes\n",
    "# 1-5 -> 0\n",
    "# 6-25 -> 1\n",
    "# 26-100 -> 2\n",
    "# 100-500 -> 3\n",
    "# 500-1000 -> 4\n",
    "# More than 1000 -> 5"
   ]
  },
  {
   "cell_type": "code",
   "execution_count": 25,
   "metadata": {},
   "outputs": [],
   "source": [
    "def class_for_comp_no_empl(e):\n",
    "    if e == '1-5':\n",
    "        return 0\n",
    "    elif e == '6-25':\n",
    "        return 1\n",
    "    elif e == '26-100':\n",
    "        return 2\n",
    "    elif e == '100-500':\n",
    "        return 3\n",
    "    elif e == '500-1000':\n",
    "        return 4\n",
    "    elif e == 'More than 1000':\n",
    "        return 5    \n",
    "    else:\n",
    "        return 1 "
   ]
  },
  {
   "cell_type": "code",
   "execution_count": 26,
   "metadata": {},
   "outputs": [],
   "source": [
    "data['comp_no_empl'] = data.comp_no_empl.apply(class_for_comp_no_empl)"
   ]
  },
  {
   "cell_type": "code",
   "execution_count": 27,
   "metadata": {},
   "outputs": [
    {
     "data": {
      "text/plain": [
       "0"
      ]
     },
     "execution_count": 27,
     "metadata": {},
     "output_type": "execute_result"
    }
   ],
   "source": [
    "data.comp_no_empl.isnull().sum()"
   ]
  },
  {
   "cell_type": "code",
   "execution_count": 28,
   "metadata": {},
   "outputs": [
    {
     "data": {
      "text/plain": [
       "1    497\n",
       "2    292\n",
       "5    256\n",
       "3    248\n",
       "4     80\n",
       "0     60\n",
       "Name: comp_no_empl, dtype: int64"
      ]
     },
     "execution_count": 28,
     "metadata": {},
     "output_type": "execute_result"
    }
   ],
   "source": [
    "data['comp_no_empl'].value_counts()"
   ]
  },
  {
   "cell_type": "markdown",
   "metadata": {},
   "source": [
    "### self_empl_flag is cleaned"
   ]
  },
  {
   "cell_type": "markdown",
   "metadata": {},
   "source": [
    "### 03 work on ... tech_comp_flag"
   ]
  },
  {
   "cell_type": "code",
   "execution_count": 29,
   "metadata": {},
   "outputs": [
    {
     "data": {
      "text/plain": [
       "287"
      ]
     },
     "execution_count": 29,
     "metadata": {},
     "output_type": "execute_result"
    }
   ],
   "source": [
    "data.tech_comp_flag.isnull().sum()"
   ]
  },
  {
   "cell_type": "code",
   "execution_count": 30,
   "metadata": {},
   "outputs": [
    {
     "data": {
      "text/plain": [
       "1.0    883\n",
       "0.0    263\n",
       "Name: tech_comp_flag, dtype: int64"
      ]
     },
     "execution_count": 30,
     "metadata": {},
     "output_type": "execute_result"
    }
   ],
   "source": [
    "data.tech_comp_flag.value_counts()"
   ]
  },
  {
   "cell_type": "code",
   "execution_count": 31,
   "metadata": {},
   "outputs": [],
   "source": [
    "# to keep data balanced and avoid baised data lets replace nan by 0 bcz of minior above count "
   ]
  },
  {
   "cell_type": "code",
   "execution_count": 32,
   "metadata": {},
   "outputs": [],
   "source": [
    "data.tech_comp_flag.fillna(value = 0.0,inplace = True)"
   ]
  },
  {
   "cell_type": "code",
   "execution_count": 33,
   "metadata": {},
   "outputs": [
    {
     "data": {
      "text/plain": [
       "0"
      ]
     },
     "execution_count": 33,
     "metadata": {},
     "output_type": "execute_result"
    }
   ],
   "source": [
    "data.tech_comp_flag.isnull().sum()"
   ]
  },
  {
   "cell_type": "code",
   "execution_count": 34,
   "metadata": {},
   "outputs": [
    {
     "data": {
      "text/plain": [
       "1.0    883\n",
       "0.0    550\n",
       "Name: tech_comp_flag, dtype: int64"
      ]
     },
     "execution_count": 34,
     "metadata": {},
     "output_type": "execute_result"
    }
   ],
   "source": [
    "data.tech_comp_flag.value_counts()"
   ]
  },
  {
   "cell_type": "markdown",
   "metadata": {},
   "source": [
    "### tech_comp_flag is cleaned"
   ]
  },
  {
   "cell_type": "code",
   "execution_count": 35,
   "metadata": {},
   "outputs": [
    {
     "data": {
      "text/html": [
       "<div>\n",
       "<style scoped>\n",
       "    .dataframe tbody tr th:only-of-type {\n",
       "        vertical-align: middle;\n",
       "    }\n",
       "\n",
       "    .dataframe tbody tr th {\n",
       "        vertical-align: top;\n",
       "    }\n",
       "\n",
       "    .dataframe thead th {\n",
       "        text-align: right;\n",
       "    }\n",
       "</style>\n",
       "<table border=\"1\" class=\"dataframe\">\n",
       "  <thead>\n",
       "    <tr style=\"text-align: right;\">\n",
       "      <th></th>\n",
       "      <th>self_empl_flag</th>\n",
       "      <th>comp_no_empl</th>\n",
       "      <th>tech_comp_flag</th>\n",
       "      <th>mh_coverage_flag</th>\n",
       "      <th>mh_employer_discussion</th>\n",
       "      <th>mh_resources_provided</th>\n",
       "      <th>mh_anonimity_flag</th>\n",
       "      <th>mh_medical_leave</th>\n",
       "      <th>mh_discussion_neg_impact</th>\n",
       "      <th>ph_discussion_neg_impact</th>\n",
       "      <th>...</th>\n",
       "      <th>mh_diagnos_proffesional</th>\n",
       "      <th>mh_sought_proffes_treatm</th>\n",
       "      <th>mh_eff_treat_impact_on_work</th>\n",
       "      <th>mh_not_eff_treat_impact_on_work</th>\n",
       "      <th>age</th>\n",
       "      <th>sex</th>\n",
       "      <th>country_live</th>\n",
       "      <th>country_work</th>\n",
       "      <th>work_position</th>\n",
       "      <th>remote_flag</th>\n",
       "    </tr>\n",
       "  </thead>\n",
       "  <tbody>\n",
       "    <tr>\n",
       "      <th>0</th>\n",
       "      <td>0</td>\n",
       "      <td>2</td>\n",
       "      <td>1.0</td>\n",
       "      <td>Not eligible for coverage / N/A</td>\n",
       "      <td>No</td>\n",
       "      <td>No</td>\n",
       "      <td>I don't know</td>\n",
       "      <td>Very easy</td>\n",
       "      <td>No</td>\n",
       "      <td>No</td>\n",
       "      <td>...</td>\n",
       "      <td>Yes</td>\n",
       "      <td>0</td>\n",
       "      <td>Not applicable to me</td>\n",
       "      <td>Not applicable to me</td>\n",
       "      <td>39</td>\n",
       "      <td>Male</td>\n",
       "      <td>United Kingdom</td>\n",
       "      <td>United Kingdom</td>\n",
       "      <td>Back-end Developer</td>\n",
       "      <td>Sometimes</td>\n",
       "    </tr>\n",
       "    <tr>\n",
       "      <th>1</th>\n",
       "      <td>0</td>\n",
       "      <td>1</td>\n",
       "      <td>1.0</td>\n",
       "      <td>No</td>\n",
       "      <td>Yes</td>\n",
       "      <td>Yes</td>\n",
       "      <td>Yes</td>\n",
       "      <td>Somewhat easy</td>\n",
       "      <td>No</td>\n",
       "      <td>No</td>\n",
       "      <td>...</td>\n",
       "      <td>Yes</td>\n",
       "      <td>1</td>\n",
       "      <td>Rarely</td>\n",
       "      <td>Sometimes</td>\n",
       "      <td>29</td>\n",
       "      <td>male</td>\n",
       "      <td>United States of America</td>\n",
       "      <td>United States of America</td>\n",
       "      <td>Back-end Developer|Front-end Developer</td>\n",
       "      <td>Never</td>\n",
       "    </tr>\n",
       "    <tr>\n",
       "      <th>2</th>\n",
       "      <td>0</td>\n",
       "      <td>1</td>\n",
       "      <td>1.0</td>\n",
       "      <td>No</td>\n",
       "      <td>No</td>\n",
       "      <td>No</td>\n",
       "      <td>I don't know</td>\n",
       "      <td>Neither easy nor difficult</td>\n",
       "      <td>Maybe</td>\n",
       "      <td>No</td>\n",
       "      <td>...</td>\n",
       "      <td>No</td>\n",
       "      <td>1</td>\n",
       "      <td>Not applicable to me</td>\n",
       "      <td>Not applicable to me</td>\n",
       "      <td>38</td>\n",
       "      <td>Male</td>\n",
       "      <td>United Kingdom</td>\n",
       "      <td>United Kingdom</td>\n",
       "      <td>Back-end Developer</td>\n",
       "      <td>Always</td>\n",
       "    </tr>\n",
       "    <tr>\n",
       "      <th>3</th>\n",
       "      <td>1</td>\n",
       "      <td>1</td>\n",
       "      <td>0.0</td>\n",
       "      <td>NaN</td>\n",
       "      <td>NaN</td>\n",
       "      <td>NaN</td>\n",
       "      <td>NaN</td>\n",
       "      <td>NaN</td>\n",
       "      <td>NaN</td>\n",
       "      <td>NaN</td>\n",
       "      <td>...</td>\n",
       "      <td>Yes</td>\n",
       "      <td>1</td>\n",
       "      <td>Sometimes</td>\n",
       "      <td>Sometimes</td>\n",
       "      <td>43</td>\n",
       "      <td>male</td>\n",
       "      <td>United Kingdom</td>\n",
       "      <td>United Kingdom</td>\n",
       "      <td>Supervisor/Team Lead</td>\n",
       "      <td>Sometimes</td>\n",
       "    </tr>\n",
       "    <tr>\n",
       "      <th>4</th>\n",
       "      <td>0</td>\n",
       "      <td>1</td>\n",
       "      <td>0.0</td>\n",
       "      <td>Yes</td>\n",
       "      <td>No</td>\n",
       "      <td>No</td>\n",
       "      <td>No</td>\n",
       "      <td>Neither easy nor difficult</td>\n",
       "      <td>Yes</td>\n",
       "      <td>Maybe</td>\n",
       "      <td>...</td>\n",
       "      <td>Yes</td>\n",
       "      <td>1</td>\n",
       "      <td>Sometimes</td>\n",
       "      <td>Sometimes</td>\n",
       "      <td>43</td>\n",
       "      <td>Female</td>\n",
       "      <td>United States of America</td>\n",
       "      <td>United States of America</td>\n",
       "      <td>Executive Leadership|Supervisor/Team Lead|Dev ...</td>\n",
       "      <td>Sometimes</td>\n",
       "    </tr>\n",
       "  </tbody>\n",
       "</table>\n",
       "<p>5 rows × 45 columns</p>\n",
       "</div>"
      ],
      "text/plain": [
       "   self_empl_flag  comp_no_empl  tech_comp_flag  \\\n",
       "0               0             2             1.0   \n",
       "1               0             1             1.0   \n",
       "2               0             1             1.0   \n",
       "3               1             1             0.0   \n",
       "4               0             1             0.0   \n",
       "\n",
       "                  mh_coverage_flag mh_employer_discussion  \\\n",
       "0  Not eligible for coverage / N/A                     No   \n",
       "1                               No                    Yes   \n",
       "2                               No                     No   \n",
       "3                              NaN                    NaN   \n",
       "4                              Yes                     No   \n",
       "\n",
       "  mh_resources_provided mh_anonimity_flag            mh_medical_leave  \\\n",
       "0                    No      I don't know                   Very easy   \n",
       "1                   Yes               Yes               Somewhat easy   \n",
       "2                    No      I don't know  Neither easy nor difficult   \n",
       "3                   NaN               NaN                         NaN   \n",
       "4                    No                No  Neither easy nor difficult   \n",
       "\n",
       "  mh_discussion_neg_impact ph_discussion_neg_impact  ...  \\\n",
       "0                       No                       No  ...   \n",
       "1                       No                       No  ...   \n",
       "2                    Maybe                       No  ...   \n",
       "3                      NaN                      NaN  ...   \n",
       "4                      Yes                    Maybe  ...   \n",
       "\n",
       "  mh_diagnos_proffesional mh_sought_proffes_treatm  \\\n",
       "0                     Yes                        0   \n",
       "1                     Yes                        1   \n",
       "2                      No                        1   \n",
       "3                     Yes                        1   \n",
       "4                     Yes                        1   \n",
       "\n",
       "  mh_eff_treat_impact_on_work mh_not_eff_treat_impact_on_work  age     sex  \\\n",
       "0        Not applicable to me            Not applicable to me   39    Male   \n",
       "1                      Rarely                       Sometimes   29    male   \n",
       "2        Not applicable to me            Not applicable to me   38   Male    \n",
       "3                   Sometimes                       Sometimes   43    male   \n",
       "4                   Sometimes                       Sometimes   43  Female   \n",
       "\n",
       "               country_live              country_work  \\\n",
       "0            United Kingdom            United Kingdom   \n",
       "1  United States of America  United States of America   \n",
       "2            United Kingdom            United Kingdom   \n",
       "3            United Kingdom            United Kingdom   \n",
       "4  United States of America  United States of America   \n",
       "\n",
       "                                       work_position remote_flag  \n",
       "0                                 Back-end Developer   Sometimes  \n",
       "1             Back-end Developer|Front-end Developer       Never  \n",
       "2                                 Back-end Developer      Always  \n",
       "3                               Supervisor/Team Lead   Sometimes  \n",
       "4  Executive Leadership|Supervisor/Team Lead|Dev ...   Sometimes  \n",
       "\n",
       "[5 rows x 45 columns]"
      ]
     },
     "execution_count": 35,
     "metadata": {},
     "output_type": "execute_result"
    }
   ],
   "source": [
    "data.head(5)"
   ]
  },
  {
   "cell_type": "markdown",
   "metadata": {},
   "source": [
    "### 04 work on mh_coverage_flag"
   ]
  },
  {
   "cell_type": "code",
   "execution_count": 36,
   "metadata": {},
   "outputs": [
    {
     "data": {
      "text/plain": [
       "287"
      ]
     },
     "execution_count": 36,
     "metadata": {},
     "output_type": "execute_result"
    }
   ],
   "source": [
    "data.mh_coverage_flag.isnull().sum()"
   ]
  },
  {
   "cell_type": "code",
   "execution_count": 37,
   "metadata": {},
   "outputs": [
    {
     "data": {
      "text/plain": [
       "Yes                                531\n",
       "I don't know                       319\n",
       "No                                 213\n",
       "Not eligible for coverage / N/A     83\n",
       "Name: mh_coverage_flag, dtype: int64"
      ]
     },
     "execution_count": 37,
     "metadata": {},
     "output_type": "execute_result"
    }
   ],
   "source": [
    "data.mh_coverage_flag.value_counts()"
   ]
  },
  {
   "cell_type": "code",
   "execution_count": 38,
   "metadata": {},
   "outputs": [],
   "source": [
    "# from above counts we can conclude only 'yes' class has mental helth coverage rest all is 'NO'\n",
    "# so to make class balanced we can set nan also as in 'no' class"
   ]
  },
  {
   "cell_type": "code",
   "execution_count": 39,
   "metadata": {},
   "outputs": [],
   "source": [
    "def class_for_mh_coverage_flag(e):\n",
    "    if e == 'Yes':\n",
    "        return 1\n",
    "    else:\n",
    "        return 0"
   ]
  },
  {
   "cell_type": "code",
   "execution_count": 40,
   "metadata": {},
   "outputs": [],
   "source": [
    "data['mh_coverage_flag'] = data.mh_coverage_flag.apply(class_for_mh_coverage_flag)"
   ]
  },
  {
   "cell_type": "code",
   "execution_count": 41,
   "metadata": {},
   "outputs": [
    {
     "data": {
      "text/plain": [
       "0"
      ]
     },
     "execution_count": 41,
     "metadata": {},
     "output_type": "execute_result"
    }
   ],
   "source": [
    "data.mh_coverage_flag.isnull().sum()"
   ]
  },
  {
   "cell_type": "code",
   "execution_count": 42,
   "metadata": {},
   "outputs": [
    {
     "data": {
      "text/plain": [
       "0    902\n",
       "1    531\n",
       "Name: mh_coverage_flag, dtype: int64"
      ]
     },
     "execution_count": 42,
     "metadata": {},
     "output_type": "execute_result"
    }
   ],
   "source": [
    "data.mh_coverage_flag.value_counts()"
   ]
  },
  {
   "cell_type": "markdown",
   "metadata": {},
   "source": [
    "### mh_coverage_flag is  cleaned"
   ]
  },
  {
   "cell_type": "code",
   "execution_count": 43,
   "metadata": {},
   "outputs": [
    {
     "data": {
      "text/html": [
       "<div>\n",
       "<style scoped>\n",
       "    .dataframe tbody tr th:only-of-type {\n",
       "        vertical-align: middle;\n",
       "    }\n",
       "\n",
       "    .dataframe tbody tr th {\n",
       "        vertical-align: top;\n",
       "    }\n",
       "\n",
       "    .dataframe thead th {\n",
       "        text-align: right;\n",
       "    }\n",
       "</style>\n",
       "<table border=\"1\" class=\"dataframe\">\n",
       "  <thead>\n",
       "    <tr style=\"text-align: right;\">\n",
       "      <th></th>\n",
       "      <th>self_empl_flag</th>\n",
       "      <th>comp_no_empl</th>\n",
       "      <th>tech_comp_flag</th>\n",
       "      <th>mh_coverage_flag</th>\n",
       "      <th>mh_employer_discussion</th>\n",
       "      <th>mh_resources_provided</th>\n",
       "      <th>mh_anonimity_flag</th>\n",
       "      <th>mh_medical_leave</th>\n",
       "      <th>mh_discussion_neg_impact</th>\n",
       "      <th>ph_discussion_neg_impact</th>\n",
       "      <th>...</th>\n",
       "      <th>mh_diagnos_proffesional</th>\n",
       "      <th>mh_sought_proffes_treatm</th>\n",
       "      <th>mh_eff_treat_impact_on_work</th>\n",
       "      <th>mh_not_eff_treat_impact_on_work</th>\n",
       "      <th>age</th>\n",
       "      <th>sex</th>\n",
       "      <th>country_live</th>\n",
       "      <th>country_work</th>\n",
       "      <th>work_position</th>\n",
       "      <th>remote_flag</th>\n",
       "    </tr>\n",
       "  </thead>\n",
       "  <tbody>\n",
       "    <tr>\n",
       "      <th>0</th>\n",
       "      <td>0</td>\n",
       "      <td>2</td>\n",
       "      <td>1.0</td>\n",
       "      <td>0</td>\n",
       "      <td>No</td>\n",
       "      <td>No</td>\n",
       "      <td>I don't know</td>\n",
       "      <td>Very easy</td>\n",
       "      <td>No</td>\n",
       "      <td>No</td>\n",
       "      <td>...</td>\n",
       "      <td>Yes</td>\n",
       "      <td>0</td>\n",
       "      <td>Not applicable to me</td>\n",
       "      <td>Not applicable to me</td>\n",
       "      <td>39</td>\n",
       "      <td>Male</td>\n",
       "      <td>United Kingdom</td>\n",
       "      <td>United Kingdom</td>\n",
       "      <td>Back-end Developer</td>\n",
       "      <td>Sometimes</td>\n",
       "    </tr>\n",
       "    <tr>\n",
       "      <th>1</th>\n",
       "      <td>0</td>\n",
       "      <td>1</td>\n",
       "      <td>1.0</td>\n",
       "      <td>0</td>\n",
       "      <td>Yes</td>\n",
       "      <td>Yes</td>\n",
       "      <td>Yes</td>\n",
       "      <td>Somewhat easy</td>\n",
       "      <td>No</td>\n",
       "      <td>No</td>\n",
       "      <td>...</td>\n",
       "      <td>Yes</td>\n",
       "      <td>1</td>\n",
       "      <td>Rarely</td>\n",
       "      <td>Sometimes</td>\n",
       "      <td>29</td>\n",
       "      <td>male</td>\n",
       "      <td>United States of America</td>\n",
       "      <td>United States of America</td>\n",
       "      <td>Back-end Developer|Front-end Developer</td>\n",
       "      <td>Never</td>\n",
       "    </tr>\n",
       "    <tr>\n",
       "      <th>2</th>\n",
       "      <td>0</td>\n",
       "      <td>1</td>\n",
       "      <td>1.0</td>\n",
       "      <td>0</td>\n",
       "      <td>No</td>\n",
       "      <td>No</td>\n",
       "      <td>I don't know</td>\n",
       "      <td>Neither easy nor difficult</td>\n",
       "      <td>Maybe</td>\n",
       "      <td>No</td>\n",
       "      <td>...</td>\n",
       "      <td>No</td>\n",
       "      <td>1</td>\n",
       "      <td>Not applicable to me</td>\n",
       "      <td>Not applicable to me</td>\n",
       "      <td>38</td>\n",
       "      <td>Male</td>\n",
       "      <td>United Kingdom</td>\n",
       "      <td>United Kingdom</td>\n",
       "      <td>Back-end Developer</td>\n",
       "      <td>Always</td>\n",
       "    </tr>\n",
       "    <tr>\n",
       "      <th>3</th>\n",
       "      <td>1</td>\n",
       "      <td>1</td>\n",
       "      <td>0.0</td>\n",
       "      <td>0</td>\n",
       "      <td>NaN</td>\n",
       "      <td>NaN</td>\n",
       "      <td>NaN</td>\n",
       "      <td>NaN</td>\n",
       "      <td>NaN</td>\n",
       "      <td>NaN</td>\n",
       "      <td>...</td>\n",
       "      <td>Yes</td>\n",
       "      <td>1</td>\n",
       "      <td>Sometimes</td>\n",
       "      <td>Sometimes</td>\n",
       "      <td>43</td>\n",
       "      <td>male</td>\n",
       "      <td>United Kingdom</td>\n",
       "      <td>United Kingdom</td>\n",
       "      <td>Supervisor/Team Lead</td>\n",
       "      <td>Sometimes</td>\n",
       "    </tr>\n",
       "    <tr>\n",
       "      <th>4</th>\n",
       "      <td>0</td>\n",
       "      <td>1</td>\n",
       "      <td>0.0</td>\n",
       "      <td>1</td>\n",
       "      <td>No</td>\n",
       "      <td>No</td>\n",
       "      <td>No</td>\n",
       "      <td>Neither easy nor difficult</td>\n",
       "      <td>Yes</td>\n",
       "      <td>Maybe</td>\n",
       "      <td>...</td>\n",
       "      <td>Yes</td>\n",
       "      <td>1</td>\n",
       "      <td>Sometimes</td>\n",
       "      <td>Sometimes</td>\n",
       "      <td>43</td>\n",
       "      <td>Female</td>\n",
       "      <td>United States of America</td>\n",
       "      <td>United States of America</td>\n",
       "      <td>Executive Leadership|Supervisor/Team Lead|Dev ...</td>\n",
       "      <td>Sometimes</td>\n",
       "    </tr>\n",
       "  </tbody>\n",
       "</table>\n",
       "<p>5 rows × 45 columns</p>\n",
       "</div>"
      ],
      "text/plain": [
       "   self_empl_flag  comp_no_empl  tech_comp_flag  mh_coverage_flag  \\\n",
       "0               0             2             1.0                 0   \n",
       "1               0             1             1.0                 0   \n",
       "2               0             1             1.0                 0   \n",
       "3               1             1             0.0                 0   \n",
       "4               0             1             0.0                 1   \n",
       "\n",
       "  mh_employer_discussion mh_resources_provided mh_anonimity_flag  \\\n",
       "0                     No                    No      I don't know   \n",
       "1                    Yes                   Yes               Yes   \n",
       "2                     No                    No      I don't know   \n",
       "3                    NaN                   NaN               NaN   \n",
       "4                     No                    No                No   \n",
       "\n",
       "             mh_medical_leave mh_discussion_neg_impact  \\\n",
       "0                   Very easy                       No   \n",
       "1               Somewhat easy                       No   \n",
       "2  Neither easy nor difficult                    Maybe   \n",
       "3                         NaN                      NaN   \n",
       "4  Neither easy nor difficult                      Yes   \n",
       "\n",
       "  ph_discussion_neg_impact  ... mh_diagnos_proffesional  \\\n",
       "0                       No  ...                     Yes   \n",
       "1                       No  ...                     Yes   \n",
       "2                       No  ...                      No   \n",
       "3                      NaN  ...                     Yes   \n",
       "4                    Maybe  ...                     Yes   \n",
       "\n",
       "  mh_sought_proffes_treatm mh_eff_treat_impact_on_work  \\\n",
       "0                        0        Not applicable to me   \n",
       "1                        1                      Rarely   \n",
       "2                        1        Not applicable to me   \n",
       "3                        1                   Sometimes   \n",
       "4                        1                   Sometimes   \n",
       "\n",
       "  mh_not_eff_treat_impact_on_work  age     sex              country_live  \\\n",
       "0            Not applicable to me   39    Male            United Kingdom   \n",
       "1                       Sometimes   29    male  United States of America   \n",
       "2            Not applicable to me   38   Male             United Kingdom   \n",
       "3                       Sometimes   43    male            United Kingdom   \n",
       "4                       Sometimes   43  Female  United States of America   \n",
       "\n",
       "               country_work  \\\n",
       "0            United Kingdom   \n",
       "1  United States of America   \n",
       "2            United Kingdom   \n",
       "3            United Kingdom   \n",
       "4  United States of America   \n",
       "\n",
       "                                       work_position remote_flag  \n",
       "0                                 Back-end Developer   Sometimes  \n",
       "1             Back-end Developer|Front-end Developer       Never  \n",
       "2                                 Back-end Developer      Always  \n",
       "3                               Supervisor/Team Lead   Sometimes  \n",
       "4  Executive Leadership|Supervisor/Team Lead|Dev ...   Sometimes  \n",
       "\n",
       "[5 rows x 45 columns]"
      ]
     },
     "execution_count": 43,
     "metadata": {},
     "output_type": "execute_result"
    }
   ],
   "source": [
    "data.head(5)"
   ]
  },
  {
   "cell_type": "markdown",
   "metadata": {},
   "source": [
    "### 05 work on... mh_employer_discussion"
   ]
  },
  {
   "cell_type": "code",
   "execution_count": 44,
   "metadata": {},
   "outputs": [
    {
     "data": {
      "text/plain": [
       "287"
      ]
     },
     "execution_count": 44,
     "metadata": {},
     "output_type": "execute_result"
    }
   ],
   "source": [
    "data.mh_employer_discussion.isnull().sum()"
   ]
  },
  {
   "cell_type": "code",
   "execution_count": 45,
   "metadata": {},
   "outputs": [
    {
     "data": {
      "text/plain": [
       "No              813\n",
       "Yes             230\n",
       "I don't know    103\n",
       "Name: mh_employer_discussion, dtype: int64"
      ]
     },
     "execution_count": 45,
     "metadata": {},
     "output_type": "execute_result"
    }
   ],
   "source": [
    "data.mh_employer_discussion.value_counts()"
   ]
  },
  {
   "cell_type": "code",
   "execution_count": 46,
   "metadata": {},
   "outputs": [],
   "source": [
    "# from above counts we can conclude only 'yes' class has mental helth discussion rest all is 'NO'\n",
    "# so to make class balanced we can set nan also as in 'no' class"
   ]
  },
  {
   "cell_type": "code",
   "execution_count": 47,
   "metadata": {},
   "outputs": [],
   "source": [
    "def class_for_mh_employer_discussion(e):\n",
    "    if e == 'Yes':\n",
    "        return 1\n",
    "    elif e == 'No' or e == \"I don't know\":\n",
    "        return 0\n",
    "    else:\n",
    "        return 1"
   ]
  },
  {
   "cell_type": "code",
   "execution_count": 48,
   "metadata": {},
   "outputs": [],
   "source": [
    "data['mh_employer_discussion'] = data.mh_employer_discussion.apply(class_for_mh_employer_discussion)"
   ]
  },
  {
   "cell_type": "code",
   "execution_count": 49,
   "metadata": {},
   "outputs": [
    {
     "data": {
      "text/plain": [
       "0"
      ]
     },
     "execution_count": 49,
     "metadata": {},
     "output_type": "execute_result"
    }
   ],
   "source": [
    "data.mh_employer_discussion.isnull().sum()"
   ]
  },
  {
   "cell_type": "code",
   "execution_count": 50,
   "metadata": {},
   "outputs": [
    {
     "data": {
      "text/plain": [
       "0    916\n",
       "1    517\n",
       "Name: mh_employer_discussion, dtype: int64"
      ]
     },
     "execution_count": 50,
     "metadata": {},
     "output_type": "execute_result"
    }
   ],
   "source": [
    "data.mh_employer_discussion.value_counts()"
   ]
  },
  {
   "cell_type": "markdown",
   "metadata": {},
   "source": [
    "### mh_employer_discussion is cleaned"
   ]
  },
  {
   "cell_type": "markdown",
   "metadata": {},
   "source": [
    "### 06 work on... mh_resources_provided"
   ]
  },
  {
   "cell_type": "code",
   "execution_count": 51,
   "metadata": {},
   "outputs": [
    {
     "data": {
      "text/plain": [
       "287"
      ]
     },
     "execution_count": 51,
     "metadata": {},
     "output_type": "execute_result"
    }
   ],
   "source": [
    "data.mh_resources_provided.isnull().sum()"
   ]
  },
  {
   "cell_type": "code",
   "execution_count": 52,
   "metadata": {},
   "outputs": [
    {
     "data": {
      "text/plain": [
       "No              531\n",
       "I don't know    320\n",
       "Yes             295\n",
       "Name: mh_resources_provided, dtype: int64"
      ]
     },
     "execution_count": 52,
     "metadata": {},
     "output_type": "execute_result"
    }
   ],
   "source": [
    "data.mh_resources_provided.value_counts()"
   ]
  },
  {
   "cell_type": "code",
   "execution_count": 53,
   "metadata": {},
   "outputs": [],
   "source": [
    "# from above counts we can conclude only 'yes' class has mental helth discussion rest all is 'NO'\n",
    "# so to make class balanced we can set nan also as in 'no' class"
   ]
  },
  {
   "cell_type": "code",
   "execution_count": 54,
   "metadata": {},
   "outputs": [],
   "source": [
    "def class_for_mh_resources_provided(e):\n",
    "    if e == 'Yes':\n",
    "        return 1\n",
    "    elif e == 'No' or e == \"I don't know\":\n",
    "        return 0\n",
    "    else:\n",
    "        return 1"
   ]
  },
  {
   "cell_type": "code",
   "execution_count": 55,
   "metadata": {},
   "outputs": [],
   "source": [
    "data['mh_resources_provided'] = data.mh_resources_provided.apply(class_for_mh_employer_discussion)"
   ]
  },
  {
   "cell_type": "code",
   "execution_count": 56,
   "metadata": {},
   "outputs": [
    {
     "data": {
      "text/plain": [
       "0"
      ]
     },
     "execution_count": 56,
     "metadata": {},
     "output_type": "execute_result"
    }
   ],
   "source": [
    "data.mh_employer_discussion.isnull().sum()"
   ]
  },
  {
   "cell_type": "code",
   "execution_count": 57,
   "metadata": {},
   "outputs": [
    {
     "data": {
      "text/plain": [
       "0    916\n",
       "1    517\n",
       "Name: mh_employer_discussion, dtype: int64"
      ]
     },
     "execution_count": 57,
     "metadata": {},
     "output_type": "execute_result"
    }
   ],
   "source": [
    "data.mh_employer_discussion.value_counts()"
   ]
  },
  {
   "cell_type": "markdown",
   "metadata": {},
   "source": [
    "### mh_resources_provided is cleaned"
   ]
  },
  {
   "cell_type": "code",
   "execution_count": 58,
   "metadata": {},
   "outputs": [
    {
     "data": {
      "text/html": [
       "<div>\n",
       "<style scoped>\n",
       "    .dataframe tbody tr th:only-of-type {\n",
       "        vertical-align: middle;\n",
       "    }\n",
       "\n",
       "    .dataframe tbody tr th {\n",
       "        vertical-align: top;\n",
       "    }\n",
       "\n",
       "    .dataframe thead th {\n",
       "        text-align: right;\n",
       "    }\n",
       "</style>\n",
       "<table border=\"1\" class=\"dataframe\">\n",
       "  <thead>\n",
       "    <tr style=\"text-align: right;\">\n",
       "      <th></th>\n",
       "      <th>self_empl_flag</th>\n",
       "      <th>comp_no_empl</th>\n",
       "      <th>tech_comp_flag</th>\n",
       "      <th>mh_coverage_flag</th>\n",
       "      <th>mh_employer_discussion</th>\n",
       "      <th>mh_resources_provided</th>\n",
       "      <th>mh_anonimity_flag</th>\n",
       "      <th>mh_medical_leave</th>\n",
       "      <th>mh_discussion_neg_impact</th>\n",
       "      <th>ph_discussion_neg_impact</th>\n",
       "      <th>...</th>\n",
       "      <th>mh_diagnos_proffesional</th>\n",
       "      <th>mh_sought_proffes_treatm</th>\n",
       "      <th>mh_eff_treat_impact_on_work</th>\n",
       "      <th>mh_not_eff_treat_impact_on_work</th>\n",
       "      <th>age</th>\n",
       "      <th>sex</th>\n",
       "      <th>country_live</th>\n",
       "      <th>country_work</th>\n",
       "      <th>work_position</th>\n",
       "      <th>remote_flag</th>\n",
       "    </tr>\n",
       "  </thead>\n",
       "  <tbody>\n",
       "    <tr>\n",
       "      <th>0</th>\n",
       "      <td>0</td>\n",
       "      <td>2</td>\n",
       "      <td>1.0</td>\n",
       "      <td>0</td>\n",
       "      <td>0</td>\n",
       "      <td>0</td>\n",
       "      <td>I don't know</td>\n",
       "      <td>Very easy</td>\n",
       "      <td>No</td>\n",
       "      <td>No</td>\n",
       "      <td>...</td>\n",
       "      <td>Yes</td>\n",
       "      <td>0</td>\n",
       "      <td>Not applicable to me</td>\n",
       "      <td>Not applicable to me</td>\n",
       "      <td>39</td>\n",
       "      <td>Male</td>\n",
       "      <td>United Kingdom</td>\n",
       "      <td>United Kingdom</td>\n",
       "      <td>Back-end Developer</td>\n",
       "      <td>Sometimes</td>\n",
       "    </tr>\n",
       "    <tr>\n",
       "      <th>1</th>\n",
       "      <td>0</td>\n",
       "      <td>1</td>\n",
       "      <td>1.0</td>\n",
       "      <td>0</td>\n",
       "      <td>1</td>\n",
       "      <td>1</td>\n",
       "      <td>Yes</td>\n",
       "      <td>Somewhat easy</td>\n",
       "      <td>No</td>\n",
       "      <td>No</td>\n",
       "      <td>...</td>\n",
       "      <td>Yes</td>\n",
       "      <td>1</td>\n",
       "      <td>Rarely</td>\n",
       "      <td>Sometimes</td>\n",
       "      <td>29</td>\n",
       "      <td>male</td>\n",
       "      <td>United States of America</td>\n",
       "      <td>United States of America</td>\n",
       "      <td>Back-end Developer|Front-end Developer</td>\n",
       "      <td>Never</td>\n",
       "    </tr>\n",
       "    <tr>\n",
       "      <th>2</th>\n",
       "      <td>0</td>\n",
       "      <td>1</td>\n",
       "      <td>1.0</td>\n",
       "      <td>0</td>\n",
       "      <td>0</td>\n",
       "      <td>0</td>\n",
       "      <td>I don't know</td>\n",
       "      <td>Neither easy nor difficult</td>\n",
       "      <td>Maybe</td>\n",
       "      <td>No</td>\n",
       "      <td>...</td>\n",
       "      <td>No</td>\n",
       "      <td>1</td>\n",
       "      <td>Not applicable to me</td>\n",
       "      <td>Not applicable to me</td>\n",
       "      <td>38</td>\n",
       "      <td>Male</td>\n",
       "      <td>United Kingdom</td>\n",
       "      <td>United Kingdom</td>\n",
       "      <td>Back-end Developer</td>\n",
       "      <td>Always</td>\n",
       "    </tr>\n",
       "    <tr>\n",
       "      <th>3</th>\n",
       "      <td>1</td>\n",
       "      <td>1</td>\n",
       "      <td>0.0</td>\n",
       "      <td>0</td>\n",
       "      <td>1</td>\n",
       "      <td>1</td>\n",
       "      <td>NaN</td>\n",
       "      <td>NaN</td>\n",
       "      <td>NaN</td>\n",
       "      <td>NaN</td>\n",
       "      <td>...</td>\n",
       "      <td>Yes</td>\n",
       "      <td>1</td>\n",
       "      <td>Sometimes</td>\n",
       "      <td>Sometimes</td>\n",
       "      <td>43</td>\n",
       "      <td>male</td>\n",
       "      <td>United Kingdom</td>\n",
       "      <td>United Kingdom</td>\n",
       "      <td>Supervisor/Team Lead</td>\n",
       "      <td>Sometimes</td>\n",
       "    </tr>\n",
       "    <tr>\n",
       "      <th>4</th>\n",
       "      <td>0</td>\n",
       "      <td>1</td>\n",
       "      <td>0.0</td>\n",
       "      <td>1</td>\n",
       "      <td>0</td>\n",
       "      <td>0</td>\n",
       "      <td>No</td>\n",
       "      <td>Neither easy nor difficult</td>\n",
       "      <td>Yes</td>\n",
       "      <td>Maybe</td>\n",
       "      <td>...</td>\n",
       "      <td>Yes</td>\n",
       "      <td>1</td>\n",
       "      <td>Sometimes</td>\n",
       "      <td>Sometimes</td>\n",
       "      <td>43</td>\n",
       "      <td>Female</td>\n",
       "      <td>United States of America</td>\n",
       "      <td>United States of America</td>\n",
       "      <td>Executive Leadership|Supervisor/Team Lead|Dev ...</td>\n",
       "      <td>Sometimes</td>\n",
       "    </tr>\n",
       "  </tbody>\n",
       "</table>\n",
       "<p>5 rows × 45 columns</p>\n",
       "</div>"
      ],
      "text/plain": [
       "   self_empl_flag  comp_no_empl  tech_comp_flag  mh_coverage_flag  \\\n",
       "0               0             2             1.0                 0   \n",
       "1               0             1             1.0                 0   \n",
       "2               0             1             1.0                 0   \n",
       "3               1             1             0.0                 0   \n",
       "4               0             1             0.0                 1   \n",
       "\n",
       "   mh_employer_discussion  mh_resources_provided mh_anonimity_flag  \\\n",
       "0                       0                      0      I don't know   \n",
       "1                       1                      1               Yes   \n",
       "2                       0                      0      I don't know   \n",
       "3                       1                      1               NaN   \n",
       "4                       0                      0                No   \n",
       "\n",
       "             mh_medical_leave mh_discussion_neg_impact  \\\n",
       "0                   Very easy                       No   \n",
       "1               Somewhat easy                       No   \n",
       "2  Neither easy nor difficult                    Maybe   \n",
       "3                         NaN                      NaN   \n",
       "4  Neither easy nor difficult                      Yes   \n",
       "\n",
       "  ph_discussion_neg_impact  ... mh_diagnos_proffesional  \\\n",
       "0                       No  ...                     Yes   \n",
       "1                       No  ...                     Yes   \n",
       "2                       No  ...                      No   \n",
       "3                      NaN  ...                     Yes   \n",
       "4                    Maybe  ...                     Yes   \n",
       "\n",
       "  mh_sought_proffes_treatm mh_eff_treat_impact_on_work  \\\n",
       "0                        0        Not applicable to me   \n",
       "1                        1                      Rarely   \n",
       "2                        1        Not applicable to me   \n",
       "3                        1                   Sometimes   \n",
       "4                        1                   Sometimes   \n",
       "\n",
       "  mh_not_eff_treat_impact_on_work  age     sex              country_live  \\\n",
       "0            Not applicable to me   39    Male            United Kingdom   \n",
       "1                       Sometimes   29    male  United States of America   \n",
       "2            Not applicable to me   38   Male             United Kingdom   \n",
       "3                       Sometimes   43    male            United Kingdom   \n",
       "4                       Sometimes   43  Female  United States of America   \n",
       "\n",
       "               country_work  \\\n",
       "0            United Kingdom   \n",
       "1  United States of America   \n",
       "2            United Kingdom   \n",
       "3            United Kingdom   \n",
       "4  United States of America   \n",
       "\n",
       "                                       work_position remote_flag  \n",
       "0                                 Back-end Developer   Sometimes  \n",
       "1             Back-end Developer|Front-end Developer       Never  \n",
       "2                                 Back-end Developer      Always  \n",
       "3                               Supervisor/Team Lead   Sometimes  \n",
       "4  Executive Leadership|Supervisor/Team Lead|Dev ...   Sometimes  \n",
       "\n",
       "[5 rows x 45 columns]"
      ]
     },
     "execution_count": 58,
     "metadata": {},
     "output_type": "execute_result"
    }
   ],
   "source": [
    "data.head(5)"
   ]
  },
  {
   "cell_type": "markdown",
   "metadata": {},
   "source": [
    "### 07 work on... mh_anonimity_flag"
   ]
  },
  {
   "cell_type": "code",
   "execution_count": 59,
   "metadata": {},
   "outputs": [
    {
     "data": {
      "text/plain": [
       "287"
      ]
     },
     "execution_count": 59,
     "metadata": {},
     "output_type": "execute_result"
    }
   ],
   "source": [
    "data.mh_anonimity_flag.isnull().sum()"
   ]
  },
  {
   "cell_type": "code",
   "execution_count": 60,
   "metadata": {},
   "outputs": [
    {
     "data": {
      "text/plain": [
       "I don't know    742\n",
       "Yes             320\n",
       "No               84\n",
       "Name: mh_anonimity_flag, dtype: int64"
      ]
     },
     "execution_count": 60,
     "metadata": {},
     "output_type": "execute_result"
    }
   ],
   "source": [
    "data.mh_anonimity_flag.value_counts()"
   ]
  },
  {
   "cell_type": "code",
   "execution_count": 61,
   "metadata": {},
   "outputs": [],
   "source": [
    "# from above counts we can conclude only 'yes' class has mental helth discussion rest all is 'NO'\n",
    "# so to make class balanced we can set nan also as in 'no' class"
   ]
  },
  {
   "cell_type": "code",
   "execution_count": 62,
   "metadata": {},
   "outputs": [],
   "source": [
    "def class_for_mh_anonimity_flag(e):\n",
    "    if e == 'Yes':\n",
    "        return 1\n",
    "    elif e == 'No' or e == \"I don't know\":\n",
    "        return 0\n",
    "    else:\n",
    "        return 1"
   ]
  },
  {
   "cell_type": "code",
   "execution_count": 63,
   "metadata": {},
   "outputs": [],
   "source": [
    "data['mh_anonimity_flag'] = data.mh_anonimity_flag.apply(class_for_mh_employer_discussion)"
   ]
  },
  {
   "cell_type": "code",
   "execution_count": 64,
   "metadata": {},
   "outputs": [
    {
     "data": {
      "text/plain": [
       "0"
      ]
     },
     "execution_count": 64,
     "metadata": {},
     "output_type": "execute_result"
    }
   ],
   "source": [
    "data.mh_anonimity_flag.isnull().sum()"
   ]
  },
  {
   "cell_type": "code",
   "execution_count": 65,
   "metadata": {},
   "outputs": [
    {
     "data": {
      "text/plain": [
       "0    916\n",
       "1    517\n",
       "Name: mh_employer_discussion, dtype: int64"
      ]
     },
     "execution_count": 65,
     "metadata": {},
     "output_type": "execute_result"
    }
   ],
   "source": [
    "data.mh_employer_discussion.value_counts()"
   ]
  },
  {
   "cell_type": "markdown",
   "metadata": {},
   "source": [
    "### mh_anonimity_flag is cleaned"
   ]
  },
  {
   "cell_type": "code",
   "execution_count": 66,
   "metadata": {},
   "outputs": [
    {
     "data": {
      "text/html": [
       "<div>\n",
       "<style scoped>\n",
       "    .dataframe tbody tr th:only-of-type {\n",
       "        vertical-align: middle;\n",
       "    }\n",
       "\n",
       "    .dataframe tbody tr th {\n",
       "        vertical-align: top;\n",
       "    }\n",
       "\n",
       "    .dataframe thead th {\n",
       "        text-align: right;\n",
       "    }\n",
       "</style>\n",
       "<table border=\"1\" class=\"dataframe\">\n",
       "  <thead>\n",
       "    <tr style=\"text-align: right;\">\n",
       "      <th></th>\n",
       "      <th>self_empl_flag</th>\n",
       "      <th>comp_no_empl</th>\n",
       "      <th>tech_comp_flag</th>\n",
       "      <th>mh_coverage_flag</th>\n",
       "      <th>mh_employer_discussion</th>\n",
       "      <th>mh_resources_provided</th>\n",
       "      <th>mh_anonimity_flag</th>\n",
       "      <th>mh_medical_leave</th>\n",
       "      <th>mh_discussion_neg_impact</th>\n",
       "      <th>ph_discussion_neg_impact</th>\n",
       "      <th>...</th>\n",
       "      <th>mh_diagnos_proffesional</th>\n",
       "      <th>mh_sought_proffes_treatm</th>\n",
       "      <th>mh_eff_treat_impact_on_work</th>\n",
       "      <th>mh_not_eff_treat_impact_on_work</th>\n",
       "      <th>age</th>\n",
       "      <th>sex</th>\n",
       "      <th>country_live</th>\n",
       "      <th>country_work</th>\n",
       "      <th>work_position</th>\n",
       "      <th>remote_flag</th>\n",
       "    </tr>\n",
       "  </thead>\n",
       "  <tbody>\n",
       "    <tr>\n",
       "      <th>0</th>\n",
       "      <td>0</td>\n",
       "      <td>2</td>\n",
       "      <td>1.0</td>\n",
       "      <td>0</td>\n",
       "      <td>0</td>\n",
       "      <td>0</td>\n",
       "      <td>0</td>\n",
       "      <td>Very easy</td>\n",
       "      <td>No</td>\n",
       "      <td>No</td>\n",
       "      <td>...</td>\n",
       "      <td>Yes</td>\n",
       "      <td>0</td>\n",
       "      <td>Not applicable to me</td>\n",
       "      <td>Not applicable to me</td>\n",
       "      <td>39</td>\n",
       "      <td>Male</td>\n",
       "      <td>United Kingdom</td>\n",
       "      <td>United Kingdom</td>\n",
       "      <td>Back-end Developer</td>\n",
       "      <td>Sometimes</td>\n",
       "    </tr>\n",
       "    <tr>\n",
       "      <th>1</th>\n",
       "      <td>0</td>\n",
       "      <td>1</td>\n",
       "      <td>1.0</td>\n",
       "      <td>0</td>\n",
       "      <td>1</td>\n",
       "      <td>1</td>\n",
       "      <td>1</td>\n",
       "      <td>Somewhat easy</td>\n",
       "      <td>No</td>\n",
       "      <td>No</td>\n",
       "      <td>...</td>\n",
       "      <td>Yes</td>\n",
       "      <td>1</td>\n",
       "      <td>Rarely</td>\n",
       "      <td>Sometimes</td>\n",
       "      <td>29</td>\n",
       "      <td>male</td>\n",
       "      <td>United States of America</td>\n",
       "      <td>United States of America</td>\n",
       "      <td>Back-end Developer|Front-end Developer</td>\n",
       "      <td>Never</td>\n",
       "    </tr>\n",
       "    <tr>\n",
       "      <th>2</th>\n",
       "      <td>0</td>\n",
       "      <td>1</td>\n",
       "      <td>1.0</td>\n",
       "      <td>0</td>\n",
       "      <td>0</td>\n",
       "      <td>0</td>\n",
       "      <td>0</td>\n",
       "      <td>Neither easy nor difficult</td>\n",
       "      <td>Maybe</td>\n",
       "      <td>No</td>\n",
       "      <td>...</td>\n",
       "      <td>No</td>\n",
       "      <td>1</td>\n",
       "      <td>Not applicable to me</td>\n",
       "      <td>Not applicable to me</td>\n",
       "      <td>38</td>\n",
       "      <td>Male</td>\n",
       "      <td>United Kingdom</td>\n",
       "      <td>United Kingdom</td>\n",
       "      <td>Back-end Developer</td>\n",
       "      <td>Always</td>\n",
       "    </tr>\n",
       "    <tr>\n",
       "      <th>3</th>\n",
       "      <td>1</td>\n",
       "      <td>1</td>\n",
       "      <td>0.0</td>\n",
       "      <td>0</td>\n",
       "      <td>1</td>\n",
       "      <td>1</td>\n",
       "      <td>1</td>\n",
       "      <td>NaN</td>\n",
       "      <td>NaN</td>\n",
       "      <td>NaN</td>\n",
       "      <td>...</td>\n",
       "      <td>Yes</td>\n",
       "      <td>1</td>\n",
       "      <td>Sometimes</td>\n",
       "      <td>Sometimes</td>\n",
       "      <td>43</td>\n",
       "      <td>male</td>\n",
       "      <td>United Kingdom</td>\n",
       "      <td>United Kingdom</td>\n",
       "      <td>Supervisor/Team Lead</td>\n",
       "      <td>Sometimes</td>\n",
       "    </tr>\n",
       "    <tr>\n",
       "      <th>4</th>\n",
       "      <td>0</td>\n",
       "      <td>1</td>\n",
       "      <td>0.0</td>\n",
       "      <td>1</td>\n",
       "      <td>0</td>\n",
       "      <td>0</td>\n",
       "      <td>0</td>\n",
       "      <td>Neither easy nor difficult</td>\n",
       "      <td>Yes</td>\n",
       "      <td>Maybe</td>\n",
       "      <td>...</td>\n",
       "      <td>Yes</td>\n",
       "      <td>1</td>\n",
       "      <td>Sometimes</td>\n",
       "      <td>Sometimes</td>\n",
       "      <td>43</td>\n",
       "      <td>Female</td>\n",
       "      <td>United States of America</td>\n",
       "      <td>United States of America</td>\n",
       "      <td>Executive Leadership|Supervisor/Team Lead|Dev ...</td>\n",
       "      <td>Sometimes</td>\n",
       "    </tr>\n",
       "  </tbody>\n",
       "</table>\n",
       "<p>5 rows × 45 columns</p>\n",
       "</div>"
      ],
      "text/plain": [
       "   self_empl_flag  comp_no_empl  tech_comp_flag  mh_coverage_flag  \\\n",
       "0               0             2             1.0                 0   \n",
       "1               0             1             1.0                 0   \n",
       "2               0             1             1.0                 0   \n",
       "3               1             1             0.0                 0   \n",
       "4               0             1             0.0                 1   \n",
       "\n",
       "   mh_employer_discussion  mh_resources_provided  mh_anonimity_flag  \\\n",
       "0                       0                      0                  0   \n",
       "1                       1                      1                  1   \n",
       "2                       0                      0                  0   \n",
       "3                       1                      1                  1   \n",
       "4                       0                      0                  0   \n",
       "\n",
       "             mh_medical_leave mh_discussion_neg_impact  \\\n",
       "0                   Very easy                       No   \n",
       "1               Somewhat easy                       No   \n",
       "2  Neither easy nor difficult                    Maybe   \n",
       "3                         NaN                      NaN   \n",
       "4  Neither easy nor difficult                      Yes   \n",
       "\n",
       "  ph_discussion_neg_impact  ... mh_diagnos_proffesional  \\\n",
       "0                       No  ...                     Yes   \n",
       "1                       No  ...                     Yes   \n",
       "2                       No  ...                      No   \n",
       "3                      NaN  ...                     Yes   \n",
       "4                    Maybe  ...                     Yes   \n",
       "\n",
       "  mh_sought_proffes_treatm mh_eff_treat_impact_on_work  \\\n",
       "0                        0        Not applicable to me   \n",
       "1                        1                      Rarely   \n",
       "2                        1        Not applicable to me   \n",
       "3                        1                   Sometimes   \n",
       "4                        1                   Sometimes   \n",
       "\n",
       "  mh_not_eff_treat_impact_on_work  age     sex              country_live  \\\n",
       "0            Not applicable to me   39    Male            United Kingdom   \n",
       "1                       Sometimes   29    male  United States of America   \n",
       "2            Not applicable to me   38   Male             United Kingdom   \n",
       "3                       Sometimes   43    male            United Kingdom   \n",
       "4                       Sometimes   43  Female  United States of America   \n",
       "\n",
       "               country_work  \\\n",
       "0            United Kingdom   \n",
       "1  United States of America   \n",
       "2            United Kingdom   \n",
       "3            United Kingdom   \n",
       "4  United States of America   \n",
       "\n",
       "                                       work_position remote_flag  \n",
       "0                                 Back-end Developer   Sometimes  \n",
       "1             Back-end Developer|Front-end Developer       Never  \n",
       "2                                 Back-end Developer      Always  \n",
       "3                               Supervisor/Team Lead   Sometimes  \n",
       "4  Executive Leadership|Supervisor/Team Lead|Dev ...   Sometimes  \n",
       "\n",
       "[5 rows x 45 columns]"
      ]
     },
     "execution_count": 66,
     "metadata": {},
     "output_type": "execute_result"
    }
   ],
   "source": [
    "data.head(5)"
   ]
  },
  {
   "cell_type": "code",
   "execution_count": 67,
   "metadata": {},
   "outputs": [
    {
     "data": {
      "text/plain": [
       "<matplotlib.collections.PathCollection at 0x28a38413488>"
      ]
     },
     "execution_count": 67,
     "metadata": {},
     "output_type": "execute_result"
    },
    {
     "data": {
      "image/png": "[encoded data removed]",
      "text/plain": [
       "<Figure size 864x576 with 1 Axes>"
      ]
     },
     "metadata": {},
     "output_type": "display_data"
    }
   ],
   "source": [
    "plt.figure(figsize = (12,8))\n",
    "plt.ylim((-100,1200))\n",
    "plt.plot(range(len(temp1.values)),[292]*len(temp1.values), alpha = 0.5, linewidth = 1.8, color = 'green')\n",
    "plt.scatter(range(len(temp1.values)),temp1.values,alpha = 0.8,color = 'red') "
   ]
  },
  {
   "cell_type": "markdown",
   "metadata": {},
   "source": [
    "### 08 work on ... mh_medical_leave"
   ]
  },
  {
   "cell_type": "code",
   "execution_count": 68,
   "metadata": {},
   "outputs": [
    {
     "data": {
      "text/plain": [
       "287"
      ]
     },
     "execution_count": 68,
     "metadata": {},
     "output_type": "execute_result"
    }
   ],
   "source": [
    "data['mh_medical_leave'].isnull().sum()"
   ]
  },
  {
   "cell_type": "code",
   "execution_count": 69,
   "metadata": {
    "scrolled": true
   },
   "outputs": [
    {
     "data": {
      "text/plain": [
       "Somewhat easy                 281\n",
       "Very easy                     220\n",
       "Somewhat difficult            199\n",
       "Neither easy nor difficult    178\n",
       "I don't know                  150\n",
       "Very difficult                118\n",
       "Name: mh_medical_leave, dtype: int64"
      ]
     },
     "execution_count": 69,
     "metadata": {},
     "output_type": "execute_result"
    }
   ],
   "source": [
    "data['mh_medical_leave'].value_counts()"
   ]
  },
  {
   "cell_type": "code",
   "execution_count": 70,
   "metadata": {},
   "outputs": [
    {
     "data": {
      "text/plain": [
       "191.0"
      ]
     },
     "execution_count": 70,
     "metadata": {},
     "output_type": "execute_result"
    }
   ],
   "source": [
    "data['mh_medical_leave'].value_counts().mean()"
   ]
  },
  {
   "cell_type": "code",
   "execution_count": 71,
   "metadata": {},
   "outputs": [],
   "source": [
    "def class_for_mh_medical_leave(e):\n",
    "    if e == 'Very easy':\n",
    "        return 0\n",
    "    elif e == 'Somewhat easy':\n",
    "        return 1\n",
    "    elif e == \"I don't know\" or e == \"Neither easy nor difficult\":\n",
    "        return 2\n",
    "    elif e == 'Somewhat difficult':\n",
    "        return 3\n",
    "    elif e == 'Very difficult':\n",
    "        return 4    \n",
    "    else:\n",
    "        return 3 "
   ]
  },
  {
   "cell_type": "code",
   "execution_count": 72,
   "metadata": {},
   "outputs": [],
   "source": [
    "data['mh_medical_leave'] = data.mh_medical_leave.apply(class_for_mh_medical_leave)"
   ]
  },
  {
   "cell_type": "code",
   "execution_count": 73,
   "metadata": {},
   "outputs": [
    {
     "data": {
      "text/plain": [
       "0"
      ]
     },
     "execution_count": 73,
     "metadata": {},
     "output_type": "execute_result"
    }
   ],
   "source": [
    "data['mh_medical_leave'].isnull().sum()"
   ]
  },
  {
   "cell_type": "code",
   "execution_count": 74,
   "metadata": {},
   "outputs": [
    {
     "data": {
      "text/plain": [
       "3    486\n",
       "2    328\n",
       "1    281\n",
       "0    220\n",
       "4    118\n",
       "Name: mh_medical_leave, dtype: int64"
      ]
     },
     "execution_count": 74,
     "metadata": {},
     "output_type": "execute_result"
    }
   ],
   "source": [
    "data['mh_medical_leave'].value_counts()"
   ]
  },
  {
   "cell_type": "markdown",
   "metadata": {},
   "source": [
    "### mh_medical_leave is cleaned"
   ]
  },
  {
   "cell_type": "code",
   "execution_count": 75,
   "metadata": {},
   "outputs": [
    {
     "data": {
      "text/html": [
       "<div>\n",
       "<style scoped>\n",
       "    .dataframe tbody tr th:only-of-type {\n",
       "        vertical-align: middle;\n",
       "    }\n",
       "\n",
       "    .dataframe tbody tr th {\n",
       "        vertical-align: top;\n",
       "    }\n",
       "\n",
       "    .dataframe thead th {\n",
       "        text-align: right;\n",
       "    }\n",
       "</style>\n",
       "<table border=\"1\" class=\"dataframe\">\n",
       "  <thead>\n",
       "    <tr style=\"text-align: right;\">\n",
       "      <th></th>\n",
       "      <th>self_empl_flag</th>\n",
       "      <th>comp_no_empl</th>\n",
       "      <th>tech_comp_flag</th>\n",
       "      <th>mh_coverage_flag</th>\n",
       "      <th>mh_employer_discussion</th>\n",
       "      <th>mh_resources_provided</th>\n",
       "      <th>mh_anonimity_flag</th>\n",
       "      <th>mh_medical_leave</th>\n",
       "      <th>mh_discussion_neg_impact</th>\n",
       "      <th>ph_discussion_neg_impact</th>\n",
       "      <th>...</th>\n",
       "      <th>mh_diagnos_proffesional</th>\n",
       "      <th>mh_sought_proffes_treatm</th>\n",
       "      <th>mh_eff_treat_impact_on_work</th>\n",
       "      <th>mh_not_eff_treat_impact_on_work</th>\n",
       "      <th>age</th>\n",
       "      <th>sex</th>\n",
       "      <th>country_live</th>\n",
       "      <th>country_work</th>\n",
       "      <th>work_position</th>\n",
       "      <th>remote_flag</th>\n",
       "    </tr>\n",
       "  </thead>\n",
       "  <tbody>\n",
       "    <tr>\n",
       "      <th>0</th>\n",
       "      <td>0</td>\n",
       "      <td>2</td>\n",
       "      <td>1.0</td>\n",
       "      <td>0</td>\n",
       "      <td>0</td>\n",
       "      <td>0</td>\n",
       "      <td>0</td>\n",
       "      <td>0</td>\n",
       "      <td>No</td>\n",
       "      <td>No</td>\n",
       "      <td>...</td>\n",
       "      <td>Yes</td>\n",
       "      <td>0</td>\n",
       "      <td>Not applicable to me</td>\n",
       "      <td>Not applicable to me</td>\n",
       "      <td>39</td>\n",
       "      <td>Male</td>\n",
       "      <td>United Kingdom</td>\n",
       "      <td>United Kingdom</td>\n",
       "      <td>Back-end Developer</td>\n",
       "      <td>Sometimes</td>\n",
       "    </tr>\n",
       "    <tr>\n",
       "      <th>1</th>\n",
       "      <td>0</td>\n",
       "      <td>1</td>\n",
       "      <td>1.0</td>\n",
       "      <td>0</td>\n",
       "      <td>1</td>\n",
       "      <td>1</td>\n",
       "      <td>1</td>\n",
       "      <td>1</td>\n",
       "      <td>No</td>\n",
       "      <td>No</td>\n",
       "      <td>...</td>\n",
       "      <td>Yes</td>\n",
       "      <td>1</td>\n",
       "      <td>Rarely</td>\n",
       "      <td>Sometimes</td>\n",
       "      <td>29</td>\n",
       "      <td>male</td>\n",
       "      <td>United States of America</td>\n",
       "      <td>United States of America</td>\n",
       "      <td>Back-end Developer|Front-end Developer</td>\n",
       "      <td>Never</td>\n",
       "    </tr>\n",
       "    <tr>\n",
       "      <th>2</th>\n",
       "      <td>0</td>\n",
       "      <td>1</td>\n",
       "      <td>1.0</td>\n",
       "      <td>0</td>\n",
       "      <td>0</td>\n",
       "      <td>0</td>\n",
       "      <td>0</td>\n",
       "      <td>2</td>\n",
       "      <td>Maybe</td>\n",
       "      <td>No</td>\n",
       "      <td>...</td>\n",
       "      <td>No</td>\n",
       "      <td>1</td>\n",
       "      <td>Not applicable to me</td>\n",
       "      <td>Not applicable to me</td>\n",
       "      <td>38</td>\n",
       "      <td>Male</td>\n",
       "      <td>United Kingdom</td>\n",
       "      <td>United Kingdom</td>\n",
       "      <td>Back-end Developer</td>\n",
       "      <td>Always</td>\n",
       "    </tr>\n",
       "    <tr>\n",
       "      <th>3</th>\n",
       "      <td>1</td>\n",
       "      <td>1</td>\n",
       "      <td>0.0</td>\n",
       "      <td>0</td>\n",
       "      <td>1</td>\n",
       "      <td>1</td>\n",
       "      <td>1</td>\n",
       "      <td>3</td>\n",
       "      <td>NaN</td>\n",
       "      <td>NaN</td>\n",
       "      <td>...</td>\n",
       "      <td>Yes</td>\n",
       "      <td>1</td>\n",
       "      <td>Sometimes</td>\n",
       "      <td>Sometimes</td>\n",
       "      <td>43</td>\n",
       "      <td>male</td>\n",
       "      <td>United Kingdom</td>\n",
       "      <td>United Kingdom</td>\n",
       "      <td>Supervisor/Team Lead</td>\n",
       "      <td>Sometimes</td>\n",
       "    </tr>\n",
       "    <tr>\n",
       "      <th>4</th>\n",
       "      <td>0</td>\n",
       "      <td>1</td>\n",
       "      <td>0.0</td>\n",
       "      <td>1</td>\n",
       "      <td>0</td>\n",
       "      <td>0</td>\n",
       "      <td>0</td>\n",
       "      <td>2</td>\n",
       "      <td>Yes</td>\n",
       "      <td>Maybe</td>\n",
       "      <td>...</td>\n",
       "      <td>Yes</td>\n",
       "      <td>1</td>\n",
       "      <td>Sometimes</td>\n",
       "      <td>Sometimes</td>\n",
       "      <td>43</td>\n",
       "      <td>Female</td>\n",
       "      <td>United States of America</td>\n",
       "      <td>United States of America</td>\n",
       "      <td>Executive Leadership|Supervisor/Team Lead|Dev ...</td>\n",
       "      <td>Sometimes</td>\n",
       "    </tr>\n",
       "  </tbody>\n",
       "</table>\n",
       "<p>5 rows × 45 columns</p>\n",
       "</div>"
      ],
      "text/plain": [
       "   self_empl_flag  comp_no_empl  tech_comp_flag  mh_coverage_flag  \\\n",
       "0               0             2             1.0                 0   \n",
       "1               0             1             1.0                 0   \n",
       "2               0             1             1.0                 0   \n",
       "3               1             1             0.0                 0   \n",
       "4               0             1             0.0                 1   \n",
       "\n",
       "   mh_employer_discussion  mh_resources_provided  mh_anonimity_flag  \\\n",
       "0                       0                      0                  0   \n",
       "1                       1                      1                  1   \n",
       "2                       0                      0                  0   \n",
       "3                       1                      1                  1   \n",
       "4                       0                      0                  0   \n",
       "\n",
       "   mh_medical_leave mh_discussion_neg_impact ph_discussion_neg_impact  ...  \\\n",
       "0                 0                       No                       No  ...   \n",
       "1                 1                       No                       No  ...   \n",
       "2                 2                    Maybe                       No  ...   \n",
       "3                 3                      NaN                      NaN  ...   \n",
       "4                 2                      Yes                    Maybe  ...   \n",
       "\n",
       "  mh_diagnos_proffesional mh_sought_proffes_treatm  \\\n",
       "0                     Yes                        0   \n",
       "1                     Yes                        1   \n",
       "2                      No                        1   \n",
       "3                     Yes                        1   \n",
       "4                     Yes                        1   \n",
       "\n",
       "  mh_eff_treat_impact_on_work mh_not_eff_treat_impact_on_work  age     sex  \\\n",
       "0        Not applicable to me            Not applicable to me   39    Male   \n",
       "1                      Rarely                       Sometimes   29    male   \n",
       "2        Not applicable to me            Not applicable to me   38   Male    \n",
       "3                   Sometimes                       Sometimes   43    male   \n",
       "4                   Sometimes                       Sometimes   43  Female   \n",
       "\n",
       "               country_live              country_work  \\\n",
       "0            United Kingdom            United Kingdom   \n",
       "1  United States of America  United States of America   \n",
       "2            United Kingdom            United Kingdom   \n",
       "3            United Kingdom            United Kingdom   \n",
       "4  United States of America  United States of America   \n",
       "\n",
       "                                       work_position remote_flag  \n",
       "0                                 Back-end Developer   Sometimes  \n",
       "1             Back-end Developer|Front-end Developer       Never  \n",
       "2                                 Back-end Developer      Always  \n",
       "3                               Supervisor/Team Lead   Sometimes  \n",
       "4  Executive Leadership|Supervisor/Team Lead|Dev ...   Sometimes  \n",
       "\n",
       "[5 rows x 45 columns]"
      ]
     },
     "execution_count": 75,
     "metadata": {},
     "output_type": "execute_result"
    }
   ],
   "source": [
    "data.head(5)"
   ]
  },
  {
   "cell_type": "markdown",
   "metadata": {},
   "source": [
    "### 09 work on ... mh_discussion_neg_impact"
   ]
  },
  {
   "cell_type": "code",
   "execution_count": 76,
   "metadata": {},
   "outputs": [
    {
     "data": {
      "text/plain": [
       "287"
      ]
     },
     "execution_count": 76,
     "metadata": {},
     "output_type": "execute_result"
    }
   ],
   "source": [
    "data.mh_discussion_neg_impact.isnull().sum()"
   ]
  },
  {
   "cell_type": "code",
   "execution_count": 77,
   "metadata": {},
   "outputs": [],
   "source": [
    "data.mh_discussion_neg_impact.fillna('Maybe',inplace = True)"
   ]
  },
  {
   "cell_type": "code",
   "execution_count": 78,
   "metadata": {
    "scrolled": true
   },
   "outputs": [
    {
     "data": {
      "text/plain": [
       "Maybe    774\n",
       "No       438\n",
       "Yes      221\n",
       "Name: mh_discussion_neg_impact, dtype: int64"
      ]
     },
     "execution_count": 78,
     "metadata": {},
     "output_type": "execute_result"
    }
   ],
   "source": [
    "data.mh_discussion_neg_impact.value_counts()"
   ]
  },
  {
   "cell_type": "markdown",
   "metadata": {},
   "source": [
    "### mh_discussion_neg_impact is cleaned"
   ]
  },
  {
   "cell_type": "markdown",
   "metadata": {},
   "source": [
    "### 10 work on ... ph_discussion_neg_impact "
   ]
  },
  {
   "cell_type": "code",
   "execution_count": 79,
   "metadata": {},
   "outputs": [
    {
     "data": {
      "text/plain": [
       "287"
      ]
     },
     "execution_count": 79,
     "metadata": {},
     "output_type": "execute_result"
    }
   ],
   "source": [
    "data.ph_discussion_neg_impact.isnull().sum()"
   ]
  },
  {
   "cell_type": "code",
   "execution_count": 80,
   "metadata": {},
   "outputs": [],
   "source": [
    "data.ph_discussion_neg_impact.fillna('Yes',inplace = True)"
   ]
  },
  {
   "cell_type": "code",
   "execution_count": 81,
   "metadata": {},
   "outputs": [
    {
     "data": {
      "text/plain": [
       "No       837\n",
       "Yes      328\n",
       "Maybe    268\n",
       "Name: ph_discussion_neg_impact, dtype: int64"
      ]
     },
     "execution_count": 81,
     "metadata": {},
     "output_type": "execute_result"
    }
   ],
   "source": [
    "data.ph_discussion_neg_impact.value_counts()"
   ]
  },
  {
   "cell_type": "markdown",
   "metadata": {},
   "source": [
    "### ph_discussion_neg_impact is cleaned"
   ]
  },
  {
   "cell_type": "code",
   "execution_count": 82,
   "metadata": {},
   "outputs": [],
   "source": [
    "######### lets check again over graph for null values"
   ]
  },
  {
   "cell_type": "code",
   "execution_count": 83,
   "metadata": {},
   "outputs": [
    {
     "data": {
      "text/plain": [
       "self_empl_flag                       0\n",
       "comp_no_empl                         0\n",
       "tech_comp_flag                       0\n",
       "mh_coverage_flag                     0\n",
       "mh_employer_discussion               0\n",
       "mh_resources_provided                0\n",
       "mh_anonimity_flag                    0\n",
       "mh_medical_leave                     0\n",
       "mh_discussion_neg_impact             0\n",
       "ph_discussion_neg_impact             0\n",
       "mh_discussion_cowork               287\n",
       "mh_discussion_supervis             287\n",
       "mh_eq_ph_employer                  287\n",
       "mh_conseq_coworkers                287\n",
       "prev_employers_flag                  0\n",
       "prev_mh_benefits                   169\n",
       "prev_mh_benefits_awareness         169\n",
       "prev_mh_discussion                 169\n",
       "prev_mh_resources                  169\n",
       "prev_mh_anonimity                  169\n",
       "prev_mh_discuss_neg_conseq         169\n",
       "prev_ph_discuss_neg_conseq         169\n",
       "prev_mh_discussion_cowork          169\n",
       "prev_mh_discussion_supervisor      169\n",
       "prev_mh_importance_employer        169\n",
       "prev_mh_conseq_coworkers           169\n",
       "future_ph_specification              0\n",
       "future_mh_specification              0\n",
       "mh_hurt_on_career                    0\n",
       "mh_neg_view_cowork                   0\n",
       "mh_sharing_friends/fam_flag          0\n",
       "mh_bad_response_workplace           89\n",
       "mh_family_hist                       0\n",
       "mh_disorder_past                     0\n",
       "mh_disorder_current                  0\n",
       "mh_diagnos_proffesional              0\n",
       "mh_sought_proffes_treatm             0\n",
       "mh_eff_treat_impact_on_work          0\n",
       "mh_not_eff_treat_impact_on_work      0\n",
       "age                                  0\n",
       "sex                                  3\n",
       "country_live                         0\n",
       "country_work                         0\n",
       "work_position                        0\n",
       "remote_flag                          0\n",
       "dtype: int64"
      ]
     },
     "execution_count": 83,
     "metadata": {},
     "output_type": "execute_result"
    }
   ],
   "source": [
    "temp1 = data.isnull().sum()\n",
    "temp1"
   ]
  },
  {
   "cell_type": "code",
   "execution_count": 84,
   "metadata": {},
   "outputs": [
    {
     "data": {
      "text/plain": [
       "<matplotlib.collections.PathCollection at 0x28a384dca08>"
      ]
     },
     "execution_count": 84,
     "metadata": {},
     "output_type": "execute_result"
    },
    {
     "data": {
      "image/png": "[encoded data removed]",
      "text/plain": [
       "<Figure size 864x576 with 1 Axes>"
      ]
     },
     "metadata": {},
     "output_type": "display_data"
    }
   ],
   "source": [
    "plt.figure(figsize = (12,8))\n",
    "plt.ylim((-100,1200))\n",
    "plt.plot(range(len(temp1.values)),[292]*len(temp1.values), alpha = 0.5, linewidth = 1.8, color = 'green')\n",
    "plt.scatter(range(len(temp1.values)),temp1.values,alpha = 0.8,color = 'red') "
   ]
  },
  {
   "cell_type": "code",
   "execution_count": 85,
   "metadata": {},
   "outputs": [
    {
     "data": {
      "text/plain": [
       "Index(['self_empl_flag', 'comp_no_empl', 'tech_comp_flag', 'mh_coverage_flag',\n",
       "       'mh_employer_discussion', 'mh_resources_provided', 'mh_anonimity_flag',\n",
       "       'mh_medical_leave', 'mh_discussion_neg_impact',\n",
       "       'ph_discussion_neg_impact', 'mh_discussion_cowork',\n",
       "       'mh_discussion_supervis', 'mh_eq_ph_employer', 'mh_conseq_coworkers',\n",
       "       'prev_employers_flag', 'prev_mh_benefits', 'prev_mh_benefits_awareness',\n",
       "       'prev_mh_discussion', 'prev_mh_resources', 'prev_mh_anonimity',\n",
       "       'prev_mh_discuss_neg_conseq', 'prev_ph_discuss_neg_conseq',\n",
       "       'prev_mh_discussion_cowork', 'prev_mh_discussion_supervisor',\n",
       "       'prev_mh_importance_employer', 'prev_mh_conseq_coworkers',\n",
       "       'future_ph_specification', 'future_mh_specification',\n",
       "       'mh_hurt_on_career', 'mh_neg_view_cowork',\n",
       "       'mh_sharing_friends/fam_flag', 'mh_bad_response_workplace',\n",
       "       'mh_family_hist', 'mh_disorder_past', 'mh_disorder_current',\n",
       "       'mh_diagnos_proffesional', 'mh_sought_proffes_treatm',\n",
       "       'mh_eff_treat_impact_on_work', 'mh_not_eff_treat_impact_on_work', 'age',\n",
       "       'sex', 'country_live', 'country_work', 'work_position', 'remote_flag'],\n",
       "      dtype='object')"
      ]
     },
     "execution_count": 85,
     "metadata": {},
     "output_type": "execute_result"
    }
   ],
   "source": [
    "data.columns"
   ]
  },
  {
   "cell_type": "markdown",
   "metadata": {},
   "source": [
    "### 11 work on ... mh_discussion_cowork"
   ]
  },
  {
   "cell_type": "code",
   "execution_count": 86,
   "metadata": {},
   "outputs": [
    {
     "data": {
      "text/plain": [
       "287"
      ]
     },
     "execution_count": 86,
     "metadata": {},
     "output_type": "execute_result"
    }
   ],
   "source": [
    "data.mh_discussion_cowork.isnull().sum()"
   ]
  },
  {
   "cell_type": "code",
   "execution_count": 87,
   "metadata": {},
   "outputs": [
    {
     "data": {
      "text/plain": [
       "Maybe    479\n",
       "No       392\n",
       "Yes      275\n",
       "Name: mh_discussion_cowork, dtype: int64"
      ]
     },
     "execution_count": 87,
     "metadata": {},
     "output_type": "execute_result"
    }
   ],
   "source": [
    "data.mh_discussion_cowork.value_counts()"
   ]
  },
  {
   "cell_type": "code",
   "execution_count": 88,
   "metadata": {},
   "outputs": [],
   "source": [
    "data.mh_discussion_cowork.fillna('Maybe',inplace = True)"
   ]
  },
  {
   "cell_type": "code",
   "execution_count": 89,
   "metadata": {},
   "outputs": [
    {
     "data": {
      "text/plain": [
       "Maybe    766\n",
       "No       392\n",
       "Yes      275\n",
       "Name: mh_discussion_cowork, dtype: int64"
      ]
     },
     "execution_count": 89,
     "metadata": {},
     "output_type": "execute_result"
    }
   ],
   "source": [
    "data.mh_discussion_cowork.value_counts()"
   ]
  },
  {
   "cell_type": "markdown",
   "metadata": {},
   "source": [
    "### mh_discussion_cowork  is cleaned"
   ]
  },
  {
   "cell_type": "markdown",
   "metadata": {},
   "source": [
    "### 12 work on ... mh_discussion_supervis"
   ]
  },
  {
   "cell_type": "code",
   "execution_count": 90,
   "metadata": {},
   "outputs": [
    {
     "data": {
      "text/plain": [
       "287"
      ]
     },
     "execution_count": 90,
     "metadata": {},
     "output_type": "execute_result"
    }
   ],
   "source": [
    "data.mh_discussion_supervis.isnull().sum()"
   ]
  },
  {
   "cell_type": "code",
   "execution_count": 91,
   "metadata": {},
   "outputs": [
    {
     "data": {
      "text/plain": [
       "Yes      428\n",
       "Maybe    382\n",
       "No       336\n",
       "Name: mh_discussion_supervis, dtype: int64"
      ]
     },
     "execution_count": 91,
     "metadata": {},
     "output_type": "execute_result"
    }
   ],
   "source": [
    "data.mh_discussion_supervis.value_counts()"
   ]
  },
  {
   "cell_type": "code",
   "execution_count": 92,
   "metadata": {},
   "outputs": [],
   "source": [
    "data.mh_discussion_supervis.fillna('Maybe',inplace = True)"
   ]
  },
  {
   "cell_type": "code",
   "execution_count": 93,
   "metadata": {},
   "outputs": [
    {
     "data": {
      "text/plain": [
       "Maybe    669\n",
       "Yes      428\n",
       "No       336\n",
       "Name: mh_discussion_supervis, dtype: int64"
      ]
     },
     "execution_count": 93,
     "metadata": {},
     "output_type": "execute_result"
    }
   ],
   "source": [
    "data.mh_discussion_supervis.value_counts()"
   ]
  },
  {
   "cell_type": "code",
   "execution_count": null,
   "metadata": {},
   "outputs": [],
   "source": []
  }
 ],
 "metadata": {
  "kernelspec": {
   "display_name": "Python [conda env:tensorflow_2] *",
   "language": "python",
   "name": "conda-env-tensorflow_2-py"
  },
  "language_info": {
   "codemirror_mode": {
    "name": "ipython",
    "version": 3
   },
   "file_extension": ".py",
   "mimetype": "text/x-python",
   "name": "python",
   "nbconvert_exporter": "python",
   "pygments_lexer": "ipython3",
   "version": "3.7.9"
  }
 },
 "nbformat": 4,
 "nbformat_minor": 4
}
