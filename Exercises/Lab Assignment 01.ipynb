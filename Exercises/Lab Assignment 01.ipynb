{
 "cells": [
  {
   "cell_type": "markdown",
   "metadata": {},
   "source": [
    "### Name : Ahbaz Memon\n",
    "### Roll : PB11\n",
    "### ERP : 1032180046\n",
    "### Sub : DWDM\n",
    "### Ex : Lab Assignment 01"
   ]
  },
  {
   "cell_type": "markdown",
   "metadata": {},
   "source": [
    "# Header files"
   ]
  },
  {
   "cell_type": "code",
   "execution_count": 1,
   "metadata": {},
   "outputs": [],
   "source": [
    "import numpy as np\n",
    "import pandas as pd\n",
    "import matplotlib.pyplot as plt\n",
    "import seaborn as sns\n",
    "from sklearn import preprocessing\n",
    "from sklearn import datasets\n",
    "from sklearn import decomposition\n",
    "from sklearn import ensemble\n",
    "from mlxtend.feature_selection import ExhaustiveFeatureSelector as EFS"
   ]
  },
  {
   "cell_type": "markdown",
   "metadata": {},
   "source": [
    "# Loading"
   ]
  },
  {
   "cell_type": "code",
   "execution_count": 2,
   "metadata": {},
   "outputs": [],
   "source": [
    "car=pd.read_csv('Car_Uncleaned.csv')"
   ]
  },
  {
   "cell_type": "markdown",
   "metadata": {},
   "source": [
    "## identifying cleaning part and performing some operations"
   ]
  },
  {
   "cell_type": "code",
   "execution_count": 3,
   "metadata": {},
   "outputs": [
    {
     "data": {
      "text/html": [
       "<div>\n",
       "<style scoped>\n",
       "    .dataframe tbody tr th:only-of-type {\n",
       "        vertical-align: middle;\n",
       "    }\n",
       "\n",
       "    .dataframe tbody tr th {\n",
       "        vertical-align: top;\n",
       "    }\n",
       "\n",
       "    .dataframe thead th {\n",
       "        text-align: right;\n",
       "    }\n",
       "</style>\n",
       "<table border=\"1\" class=\"dataframe\">\n",
       "  <thead>\n",
       "    <tr style=\"text-align: right;\">\n",
       "      <th></th>\n",
       "      <th>Unnamed: 0</th>\n",
       "      <th>Unnamed: 1</th>\n",
       "      <th>model</th>\n",
       "      <th>year</th>\n",
       "      <th>price</th>\n",
       "      <th>transmission</th>\n",
       "      <th>mileage</th>\n",
       "      <th>fuel type</th>\n",
       "      <th>engine size</th>\n",
       "      <th>reference</th>\n",
       "    </tr>\n",
       "  </thead>\n",
       "  <tbody>\n",
       "    <tr>\n",
       "      <th>0</th>\n",
       "      <td>NaN</td>\n",
       "      <td>NaN</td>\n",
       "      <td>C Class</td>\n",
       "      <td>2020.0</td>\n",
       "      <td>£30,495</td>\n",
       "      <td>Automatic</td>\n",
       "      <td>NaN</td>\n",
       "      <td>Hybrid</td>\n",
       "      <td>2</td>\n",
       "      <td>/ad/25017331</td>\n",
       "    </tr>\n",
       "    <tr>\n",
       "      <th>1</th>\n",
       "      <td>NaN</td>\n",
       "      <td>NaN</td>\n",
       "      <td>C Class</td>\n",
       "      <td>2020.0</td>\n",
       "      <td>£29,989</td>\n",
       "      <td>Automatic</td>\n",
       "      <td>NaN</td>\n",
       "      <td>Petrol</td>\n",
       "      <td>1.5</td>\n",
       "      <td>/ad/25043746</td>\n",
       "    </tr>\n",
       "    <tr>\n",
       "      <th>2</th>\n",
       "      <td>NaN</td>\n",
       "      <td>NaN</td>\n",
       "      <td>C Class</td>\n",
       "      <td>2020.0</td>\n",
       "      <td>£37,899</td>\n",
       "      <td>Automatic</td>\n",
       "      <td>NaN</td>\n",
       "      <td>Diesel</td>\n",
       "      <td>2</td>\n",
       "      <td>/ad/25142894</td>\n",
       "    </tr>\n",
       "    <tr>\n",
       "      <th>3</th>\n",
       "      <td>as</td>\n",
       "      <td>as</td>\n",
       "      <td>C Class</td>\n",
       "      <td>2019.0</td>\n",
       "      <td>£30,399</td>\n",
       "      <td>Automatic</td>\n",
       "      <td>NaN</td>\n",
       "      <td>Hybrid</td>\n",
       "      <td>2</td>\n",
       "      <td>/ad/24942816</td>\n",
       "    </tr>\n",
       "    <tr>\n",
       "      <th>4</th>\n",
       "      <td>NaN</td>\n",
       "      <td>NaN</td>\n",
       "      <td>C Class</td>\n",
       "      <td>2019.0</td>\n",
       "      <td>£29,899</td>\n",
       "      <td>Automatic</td>\n",
       "      <td>NaN</td>\n",
       "      <td>Diesel</td>\n",
       "      <td>2</td>\n",
       "      <td>/ad/24913660</td>\n",
       "    </tr>\n",
       "  </tbody>\n",
       "</table>\n",
       "</div>"
      ],
      "text/plain": [
       "  Unnamed: 0 Unnamed: 1     model    year     price transmission mileage  \\\n",
       "0        NaN        NaN   C Class  2020.0   £30,495    Automatic     NaN   \n",
       "1        NaN        NaN   C Class  2020.0   £29,989    Automatic     NaN   \n",
       "2        NaN        NaN   C Class  2020.0   £37,899    Automatic     NaN   \n",
       "3         as         as   C Class  2019.0   £30,399    Automatic     NaN   \n",
       "4        NaN        NaN   C Class  2019.0   £29,899    Automatic     NaN   \n",
       "\n",
       "  fuel type engine size     reference  \n",
       "0    Hybrid           2  /ad/25017331  \n",
       "1    Petrol         1.5  /ad/25043746  \n",
       "2    Diesel           2  /ad/25142894  \n",
       "3    Hybrid           2  /ad/24942816  \n",
       "4    Diesel           2  /ad/24913660  "
      ]
     },
     "execution_count": 3,
     "metadata": {},
     "output_type": "execute_result"
    }
   ],
   "source": [
    "car.head()"
   ]
  },
  {
   "cell_type": "code",
   "execution_count": 4,
   "metadata": {},
   "outputs": [
    {
     "data": {
      "text/html": [
       "<div>\n",
       "<style scoped>\n",
       "    .dataframe tbody tr th:only-of-type {\n",
       "        vertical-align: middle;\n",
       "    }\n",
       "\n",
       "    .dataframe tbody tr th {\n",
       "        vertical-align: top;\n",
       "    }\n",
       "\n",
       "    .dataframe thead th {\n",
       "        text-align: right;\n",
       "    }\n",
       "</style>\n",
       "<table border=\"1\" class=\"dataframe\">\n",
       "  <thead>\n",
       "    <tr style=\"text-align: right;\">\n",
       "      <th></th>\n",
       "      <th>Unnamed: 0</th>\n",
       "      <th>Unnamed: 1</th>\n",
       "      <th>model</th>\n",
       "      <th>year</th>\n",
       "      <th>price</th>\n",
       "      <th>transmission</th>\n",
       "      <th>mileage</th>\n",
       "      <th>fuel type</th>\n",
       "      <th>engine size</th>\n",
       "      <th>reference</th>\n",
       "    </tr>\n",
       "  </thead>\n",
       "  <tbody>\n",
       "    <tr>\n",
       "      <th>0</th>\n",
       "      <td>NaN</td>\n",
       "      <td>NaN</td>\n",
       "      <td>C Class</td>\n",
       "      <td>2020.0</td>\n",
       "      <td>£30,495</td>\n",
       "      <td>Automatic</td>\n",
       "      <td>NaN</td>\n",
       "      <td>Hybrid</td>\n",
       "      <td>2</td>\n",
       "      <td>/ad/25017331</td>\n",
       "    </tr>\n",
       "    <tr>\n",
       "      <th>1</th>\n",
       "      <td>NaN</td>\n",
       "      <td>NaN</td>\n",
       "      <td>C Class</td>\n",
       "      <td>2020.0</td>\n",
       "      <td>£29,989</td>\n",
       "      <td>Automatic</td>\n",
       "      <td>NaN</td>\n",
       "      <td>Petrol</td>\n",
       "      <td>1.5</td>\n",
       "      <td>/ad/25043746</td>\n",
       "    </tr>\n",
       "    <tr>\n",
       "      <th>2</th>\n",
       "      <td>NaN</td>\n",
       "      <td>NaN</td>\n",
       "      <td>C Class</td>\n",
       "      <td>2020.0</td>\n",
       "      <td>£37,899</td>\n",
       "      <td>Automatic</td>\n",
       "      <td>NaN</td>\n",
       "      <td>Diesel</td>\n",
       "      <td>2</td>\n",
       "      <td>/ad/25142894</td>\n",
       "    </tr>\n",
       "    <tr>\n",
       "      <th>3</th>\n",
       "      <td>as</td>\n",
       "      <td>as</td>\n",
       "      <td>C Class</td>\n",
       "      <td>2019.0</td>\n",
       "      <td>£30,399</td>\n",
       "      <td>Automatic</td>\n",
       "      <td>NaN</td>\n",
       "      <td>Hybrid</td>\n",
       "      <td>2</td>\n",
       "      <td>/ad/24942816</td>\n",
       "    </tr>\n",
       "    <tr>\n",
       "      <th>4</th>\n",
       "      <td>NaN</td>\n",
       "      <td>NaN</td>\n",
       "      <td>C Class</td>\n",
       "      <td>2019.0</td>\n",
       "      <td>£29,899</td>\n",
       "      <td>Automatic</td>\n",
       "      <td>NaN</td>\n",
       "      <td>Diesel</td>\n",
       "      <td>2</td>\n",
       "      <td>/ad/24913660</td>\n",
       "    </tr>\n",
       "    <tr>\n",
       "      <th>5</th>\n",
       "      <td>NaN</td>\n",
       "      <td>NaN</td>\n",
       "      <td>C Class</td>\n",
       "      <td>2020.0</td>\n",
       "      <td>£30,999</td>\n",
       "      <td>Automatic</td>\n",
       "      <td>NaN</td>\n",
       "      <td>Hybrid</td>\n",
       "      <td>2</td>\n",
       "      <td>/ad/25059312</td>\n",
       "    </tr>\n",
       "    <tr>\n",
       "      <th>6</th>\n",
       "      <td>NaN</td>\n",
       "      <td>NaN</td>\n",
       "      <td>C Class</td>\n",
       "      <td>2020.0</td>\n",
       "      <td>£35,999</td>\n",
       "      <td>Automatic</td>\n",
       "      <td>NaN</td>\n",
       "      <td>Diesel</td>\n",
       "      <td>2</td>\n",
       "      <td>/ad/25418851</td>\n",
       "    </tr>\n",
       "    <tr>\n",
       "      <th>7</th>\n",
       "      <td>NaN</td>\n",
       "      <td>NaN</td>\n",
       "      <td>C Class</td>\n",
       "      <td>2019.0</td>\n",
       "      <td>£37,990</td>\n",
       "      <td>Automatic</td>\n",
       "      <td>NaN</td>\n",
       "      <td>Petrol</td>\n",
       "      <td>3</td>\n",
       "      <td>/ad/25449314</td>\n",
       "    </tr>\n",
       "    <tr>\n",
       "      <th>8</th>\n",
       "      <td>NaN</td>\n",
       "      <td>NaN</td>\n",
       "      <td>C Class</td>\n",
       "      <td>2019.0</td>\n",
       "      <td>£28,990</td>\n",
       "      <td>Automatic</td>\n",
       "      <td>NaN</td>\n",
       "      <td>Hybrid</td>\n",
       "      <td>2</td>\n",
       "      <td>/ad/25046820</td>\n",
       "    </tr>\n",
       "    <tr>\n",
       "      <th>9</th>\n",
       "      <td>NaN</td>\n",
       "      <td>NaN</td>\n",
       "      <td>C Class</td>\n",
       "      <td>2019.0</td>\n",
       "      <td>£28,990</td>\n",
       "      <td>Automatic</td>\n",
       "      <td>NaN</td>\n",
       "      <td>Hybrid</td>\n",
       "      <td>2</td>\n",
       "      <td>/ad/25046821</td>\n",
       "    </tr>\n",
       "  </tbody>\n",
       "</table>\n",
       "</div>"
      ],
      "text/plain": [
       "  Unnamed: 0 Unnamed: 1     model    year     price transmission mileage  \\\n",
       "0        NaN        NaN   C Class  2020.0   £30,495    Automatic     NaN   \n",
       "1        NaN        NaN   C Class  2020.0   £29,989    Automatic     NaN   \n",
       "2        NaN        NaN   C Class  2020.0   £37,899    Automatic     NaN   \n",
       "3         as         as   C Class  2019.0   £30,399    Automatic     NaN   \n",
       "4        NaN        NaN   C Class  2019.0   £29,899    Automatic     NaN   \n",
       "5        NaN        NaN   C Class  2020.0   £30,999    Automatic     NaN   \n",
       "6        NaN        NaN   C Class  2020.0   £35,999    Automatic     NaN   \n",
       "7        NaN        NaN   C Class  2019.0   £37,990    Automatic     NaN   \n",
       "8        NaN        NaN   C Class  2019.0   £28,990    Automatic     NaN   \n",
       "9        NaN        NaN   C Class  2019.0   £28,990    Automatic     NaN   \n",
       "\n",
       "  fuel type engine size     reference  \n",
       "0    Hybrid           2  /ad/25017331  \n",
       "1    Petrol         1.5  /ad/25043746  \n",
       "2    Diesel           2  /ad/25142894  \n",
       "3    Hybrid           2  /ad/24942816  \n",
       "4    Diesel           2  /ad/24913660  \n",
       "5    Hybrid           2  /ad/25059312  \n",
       "6    Diesel           2  /ad/25418851  \n",
       "7    Petrol           3  /ad/25449314  \n",
       "8    Hybrid           2  /ad/25046820  \n",
       "9    Hybrid           2  /ad/25046821  "
      ]
     },
     "execution_count": 4,
     "metadata": {},
     "output_type": "execute_result"
    }
   ],
   "source": [
    "car.head(10)"
   ]
  },
  {
   "cell_type": "code",
   "execution_count": 5,
   "metadata": {},
   "outputs": [
    {
     "data": {
      "text/html": [
       "<div>\n",
       "<style scoped>\n",
       "    .dataframe tbody tr th:only-of-type {\n",
       "        vertical-align: middle;\n",
       "    }\n",
       "\n",
       "    .dataframe tbody tr th {\n",
       "        vertical-align: top;\n",
       "    }\n",
       "\n",
       "    .dataframe thead th {\n",
       "        text-align: right;\n",
       "    }\n",
       "</style>\n",
       "<table border=\"1\" class=\"dataframe\">\n",
       "  <thead>\n",
       "    <tr style=\"text-align: right;\">\n",
       "      <th></th>\n",
       "      <th>Unnamed: 0</th>\n",
       "      <th>Unnamed: 1</th>\n",
       "      <th>model</th>\n",
       "      <th>year</th>\n",
       "      <th>price</th>\n",
       "      <th>transmission</th>\n",
       "      <th>mileage</th>\n",
       "      <th>fuel type</th>\n",
       "      <th>engine size</th>\n",
       "      <th>reference</th>\n",
       "    </tr>\n",
       "  </thead>\n",
       "  <tbody>\n",
       "    <tr>\n",
       "      <th>4001</th>\n",
       "      <td>NaN</td>\n",
       "      <td>NaN</td>\n",
       "      <td>C Class</td>\n",
       "      <td>2017.0</td>\n",
       "      <td>£14,700</td>\n",
       "      <td>Manual</td>\n",
       "      <td>31,357</td>\n",
       "      <td>Diesel</td>\n",
       "      <td>£150</td>\n",
       "      <td>/ad/25451436</td>\n",
       "    </tr>\n",
       "    <tr>\n",
       "      <th>4002</th>\n",
       "      <td>NaN</td>\n",
       "      <td>NaN</td>\n",
       "      <td>C Class</td>\n",
       "      <td>2018.0</td>\n",
       "      <td>£18,500</td>\n",
       "      <td>Automatic</td>\n",
       "      <td>28,248</td>\n",
       "      <td>Hybrid</td>\n",
       "      <td>£150</td>\n",
       "      <td>/ad/25451481</td>\n",
       "    </tr>\n",
       "    <tr>\n",
       "      <th>4003</th>\n",
       "      <td>NaN</td>\n",
       "      <td>NaN</td>\n",
       "      <td>C Class</td>\n",
       "      <td>2014.0</td>\n",
       "      <td>£11,900</td>\n",
       "      <td>Manual</td>\n",
       "      <td>48,055</td>\n",
       "      <td>Petrol</td>\n",
       "      <td>£20</td>\n",
       "      <td>/ad/25057204</td>\n",
       "    </tr>\n",
       "    <tr>\n",
       "      <th>4004</th>\n",
       "      <td>NaN</td>\n",
       "      <td>NaN</td>\n",
       "      <td>C Class</td>\n",
       "      <td>2014.0</td>\n",
       "      <td>£11,300</td>\n",
       "      <td>Automatic</td>\n",
       "      <td>49,865</td>\n",
       "      <td>Diesel</td>\n",
       "      <td>£145</td>\n",
       "      <td>/ad/25144481</td>\n",
       "    </tr>\n",
       "    <tr>\n",
       "      <th>4005</th>\n",
       "      <td>NaN</td>\n",
       "      <td>NaN</td>\n",
       "      <td>C Class</td>\n",
       "      <td>2014.0</td>\n",
       "      <td>£14,800</td>\n",
       "      <td>Automatic</td>\n",
       "      <td>55,445</td>\n",
       "      <td>Hybrid</td>\n",
       "      <td>£30</td>\n",
       "      <td>/ad/25154247</td>\n",
       "    </tr>\n",
       "  </tbody>\n",
       "</table>\n",
       "</div>"
      ],
      "text/plain": [
       "     Unnamed: 0 Unnamed: 1     model    year     price transmission mileage  \\\n",
       "4001        NaN        NaN   C Class  2017.0   £14,700       Manual  31,357   \n",
       "4002        NaN        NaN   C Class  2018.0   £18,500    Automatic  28,248   \n",
       "4003        NaN        NaN   C Class  2014.0   £11,900       Manual  48,055   \n",
       "4004        NaN        NaN   C Class  2014.0   £11,300    Automatic  49,865   \n",
       "4005        NaN        NaN   C Class  2014.0   £14,800    Automatic  55,445   \n",
       "\n",
       "     fuel type engine size     reference  \n",
       "4001    Diesel        £150  /ad/25451436  \n",
       "4002    Hybrid        £150  /ad/25451481  \n",
       "4003    Petrol         £20  /ad/25057204  \n",
       "4004    Diesel        £145  /ad/25144481  \n",
       "4005    Hybrid         £30  /ad/25154247  "
      ]
     },
     "execution_count": 5,
     "metadata": {},
     "output_type": "execute_result"
    }
   ],
   "source": [
    "car.tail()"
   ]
  },
  {
   "cell_type": "code",
   "execution_count": 6,
   "metadata": {},
   "outputs": [
    {
     "data": {
      "text/plain": [
       "40060"
      ]
     },
     "execution_count": 6,
     "metadata": {},
     "output_type": "execute_result"
    }
   ],
   "source": [
    "car.size"
   ]
  },
  {
   "cell_type": "code",
   "execution_count": 7,
   "metadata": {},
   "outputs": [
    {
     "data": {
      "text/plain": [
       "2"
      ]
     },
     "execution_count": 7,
     "metadata": {},
     "output_type": "execute_result"
    }
   ],
   "source": [
    "car.ndim"
   ]
  },
  {
   "cell_type": "code",
   "execution_count": 8,
   "metadata": {},
   "outputs": [
    {
     "data": {
      "text/plain": [
       "(4006, 10)"
      ]
     },
     "execution_count": 8,
     "metadata": {},
     "output_type": "execute_result"
    }
   ],
   "source": [
    "car.shape"
   ]
  },
  {
   "cell_type": "code",
   "execution_count": 9,
   "metadata": {},
   "outputs": [
    {
     "data": {
      "text/plain": [
       "Unnamed: 0       object\n",
       "Unnamed: 1       object\n",
       "model            object\n",
       "year            float64\n",
       "price            object\n",
       "transmission     object\n",
       "mileage          object\n",
       "fuel type        object\n",
       "engine size      object\n",
       "reference        object\n",
       "dtype: object"
      ]
     },
     "execution_count": 9,
     "metadata": {},
     "output_type": "execute_result"
    }
   ],
   "source": [
    "car.dtypes"
   ]
  },
  {
   "cell_type": "code",
   "execution_count": 10,
   "metadata": {},
   "outputs": [
    {
     "data": {
      "text/html": [
       "<div>\n",
       "<style scoped>\n",
       "    .dataframe tbody tr th:only-of-type {\n",
       "        vertical-align: middle;\n",
       "    }\n",
       "\n",
       "    .dataframe tbody tr th {\n",
       "        vertical-align: top;\n",
       "    }\n",
       "\n",
       "    .dataframe thead th {\n",
       "        text-align: right;\n",
       "    }\n",
       "</style>\n",
       "<table border=\"1\" class=\"dataframe\">\n",
       "  <thead>\n",
       "    <tr style=\"text-align: right;\">\n",
       "      <th></th>\n",
       "      <th>year</th>\n",
       "    </tr>\n",
       "  </thead>\n",
       "  <tbody>\n",
       "    <tr>\n",
       "      <th>count</th>\n",
       "      <td>3904.000000</td>\n",
       "    </tr>\n",
       "    <tr>\n",
       "      <th>mean</th>\n",
       "      <td>2017.341189</td>\n",
       "    </tr>\n",
       "    <tr>\n",
       "      <th>std</th>\n",
       "      <td>2.213643</td>\n",
       "    </tr>\n",
       "    <tr>\n",
       "      <th>min</th>\n",
       "      <td>1991.000000</td>\n",
       "    </tr>\n",
       "    <tr>\n",
       "      <th>25%</th>\n",
       "      <td>2016.000000</td>\n",
       "    </tr>\n",
       "    <tr>\n",
       "      <th>50%</th>\n",
       "      <td>2018.000000</td>\n",
       "    </tr>\n",
       "    <tr>\n",
       "      <th>75%</th>\n",
       "      <td>2019.000000</td>\n",
       "    </tr>\n",
       "    <tr>\n",
       "      <th>max</th>\n",
       "      <td>2020.000000</td>\n",
       "    </tr>\n",
       "  </tbody>\n",
       "</table>\n",
       "</div>"
      ],
      "text/plain": [
       "              year\n",
       "count  3904.000000\n",
       "mean   2017.341189\n",
       "std       2.213643\n",
       "min    1991.000000\n",
       "25%    2016.000000\n",
       "50%    2018.000000\n",
       "75%    2019.000000\n",
       "max    2020.000000"
      ]
     },
     "execution_count": 10,
     "metadata": {},
     "output_type": "execute_result"
    }
   ],
   "source": [
    "car.describe()"
   ]
  },
  {
   "cell_type": "code",
   "execution_count": 11,
   "metadata": {},
   "outputs": [
    {
     "name": "stdout",
     "output_type": "stream",
     "text": [
      "<class 'pandas.core.frame.DataFrame'>\n",
      "RangeIndex: 4006 entries, 0 to 4005\n",
      "Data columns (total 10 columns):\n",
      " #   Column        Non-Null Count  Dtype  \n",
      "---  ------        --------------  -----  \n",
      " 0   Unnamed: 0    1 non-null      object \n",
      " 1   Unnamed: 1    1 non-null      object \n",
      " 2   model         3907 non-null   object \n",
      " 3   year          3904 non-null   float64\n",
      " 4   price         3907 non-null   object \n",
      " 5   transmission  3907 non-null   object \n",
      " 6   mileage       3808 non-null   object \n",
      " 7   fuel type     4006 non-null   object \n",
      " 8   engine size   3842 non-null   object \n",
      " 9   reference     3907 non-null   object \n",
      "dtypes: float64(1), object(9)\n",
      "memory usage: 313.1+ KB\n"
     ]
    }
   ],
   "source": [
    "car.info()"
   ]
  },
  {
   "cell_type": "code",
   "execution_count": 12,
   "metadata": {},
   "outputs": [
    {
     "data": {
      "text/plain": [
       "Unnamed: 0      4005\n",
       "Unnamed: 1      4005\n",
       "model             99\n",
       "year             102\n",
       "price             99\n",
       "transmission      99\n",
       "mileage          198\n",
       "fuel type          0\n",
       "engine size      164\n",
       "reference         99\n",
       "dtype: int64"
      ]
     },
     "execution_count": 12,
     "metadata": {},
     "output_type": "execute_result"
    }
   ],
   "source": [
    "car.isnull().sum()"
   ]
  },
  {
   "cell_type": "markdown",
   "metadata": {},
   "source": [
    "# Cleaning starts..."
   ]
  },
  {
   "cell_type": "markdown",
   "metadata": {},
   "source": [
    "### working on 'unamed' columns"
   ]
  },
  {
   "cell_type": "code",
   "execution_count": 13,
   "metadata": {},
   "outputs": [],
   "source": [
    "car.drop(columns=['Unnamed: 0','Unnamed: 1'],axis=1,inplace=True)"
   ]
  },
  {
   "cell_type": "code",
   "execution_count": 14,
   "metadata": {},
   "outputs": [
    {
     "data": {
      "text/html": [
       "<div>\n",
       "<style scoped>\n",
       "    .dataframe tbody tr th:only-of-type {\n",
       "        vertical-align: middle;\n",
       "    }\n",
       "\n",
       "    .dataframe tbody tr th {\n",
       "        vertical-align: top;\n",
       "    }\n",
       "\n",
       "    .dataframe thead th {\n",
       "        text-align: right;\n",
       "    }\n",
       "</style>\n",
       "<table border=\"1\" class=\"dataframe\">\n",
       "  <thead>\n",
       "    <tr style=\"text-align: right;\">\n",
       "      <th></th>\n",
       "      <th>model</th>\n",
       "      <th>year</th>\n",
       "      <th>price</th>\n",
       "      <th>transmission</th>\n",
       "      <th>mileage</th>\n",
       "      <th>fuel type</th>\n",
       "      <th>engine size</th>\n",
       "      <th>reference</th>\n",
       "    </tr>\n",
       "  </thead>\n",
       "  <tbody>\n",
       "    <tr>\n",
       "      <th>0</th>\n",
       "      <td>C Class</td>\n",
       "      <td>2020.0</td>\n",
       "      <td>£30,495</td>\n",
       "      <td>Automatic</td>\n",
       "      <td>NaN</td>\n",
       "      <td>Hybrid</td>\n",
       "      <td>2</td>\n",
       "      <td>/ad/25017331</td>\n",
       "    </tr>\n",
       "    <tr>\n",
       "      <th>1</th>\n",
       "      <td>C Class</td>\n",
       "      <td>2020.0</td>\n",
       "      <td>£29,989</td>\n",
       "      <td>Automatic</td>\n",
       "      <td>NaN</td>\n",
       "      <td>Petrol</td>\n",
       "      <td>1.5</td>\n",
       "      <td>/ad/25043746</td>\n",
       "    </tr>\n",
       "    <tr>\n",
       "      <th>2</th>\n",
       "      <td>C Class</td>\n",
       "      <td>2020.0</td>\n",
       "      <td>£37,899</td>\n",
       "      <td>Automatic</td>\n",
       "      <td>NaN</td>\n",
       "      <td>Diesel</td>\n",
       "      <td>2</td>\n",
       "      <td>/ad/25142894</td>\n",
       "    </tr>\n",
       "    <tr>\n",
       "      <th>3</th>\n",
       "      <td>C Class</td>\n",
       "      <td>2019.0</td>\n",
       "      <td>£30,399</td>\n",
       "      <td>Automatic</td>\n",
       "      <td>NaN</td>\n",
       "      <td>Hybrid</td>\n",
       "      <td>2</td>\n",
       "      <td>/ad/24942816</td>\n",
       "    </tr>\n",
       "    <tr>\n",
       "      <th>4</th>\n",
       "      <td>C Class</td>\n",
       "      <td>2019.0</td>\n",
       "      <td>£29,899</td>\n",
       "      <td>Automatic</td>\n",
       "      <td>NaN</td>\n",
       "      <td>Diesel</td>\n",
       "      <td>2</td>\n",
       "      <td>/ad/24913660</td>\n",
       "    </tr>\n",
       "  </tbody>\n",
       "</table>\n",
       "</div>"
      ],
      "text/plain": [
       "      model    year     price transmission mileage fuel type engine size  \\\n",
       "0   C Class  2020.0   £30,495    Automatic     NaN    Hybrid           2   \n",
       "1   C Class  2020.0   £29,989    Automatic     NaN    Petrol         1.5   \n",
       "2   C Class  2020.0   £37,899    Automatic     NaN    Diesel           2   \n",
       "3   C Class  2019.0   £30,399    Automatic     NaN    Hybrid           2   \n",
       "4   C Class  2019.0   £29,899    Automatic     NaN    Diesel           2   \n",
       "\n",
       "      reference  \n",
       "0  /ad/25017331  \n",
       "1  /ad/25043746  \n",
       "2  /ad/25142894  \n",
       "3  /ad/24942816  \n",
       "4  /ad/24913660  "
      ]
     },
     "execution_count": 14,
     "metadata": {},
     "output_type": "execute_result"
    }
   ],
   "source": [
    "car.head()"
   ]
  },
  {
   "cell_type": "markdown",
   "metadata": {},
   "source": [
    "### working on 'model' columns"
   ]
  },
  {
   "cell_type": "code",
   "execution_count": 15,
   "metadata": {},
   "outputs": [
    {
     "data": {
      "text/plain": [
       " C Class    3907\n",
       "Name: model, dtype: int64"
      ]
     },
     "execution_count": 15,
     "metadata": {},
     "output_type": "execute_result"
    }
   ],
   "source": [
    "car['model'].value_counts()"
   ]
  },
  {
   "cell_type": "code",
   "execution_count": 16,
   "metadata": {},
   "outputs": [],
   "source": [
    "#as only one type of data is present we can delete column\n",
    "car.drop(columns=['model'],axis=1,inplace=True)"
   ]
  },
  {
   "cell_type": "code",
   "execution_count": 17,
   "metadata": {},
   "outputs": [
    {
     "data": {
      "text/html": [
       "<div>\n",
       "<style scoped>\n",
       "    .dataframe tbody tr th:only-of-type {\n",
       "        vertical-align: middle;\n",
       "    }\n",
       "\n",
       "    .dataframe tbody tr th {\n",
       "        vertical-align: top;\n",
       "    }\n",
       "\n",
       "    .dataframe thead th {\n",
       "        text-align: right;\n",
       "    }\n",
       "</style>\n",
       "<table border=\"1\" class=\"dataframe\">\n",
       "  <thead>\n",
       "    <tr style=\"text-align: right;\">\n",
       "      <th></th>\n",
       "      <th>year</th>\n",
       "      <th>price</th>\n",
       "      <th>transmission</th>\n",
       "      <th>mileage</th>\n",
       "      <th>fuel type</th>\n",
       "      <th>engine size</th>\n",
       "      <th>reference</th>\n",
       "    </tr>\n",
       "  </thead>\n",
       "  <tbody>\n",
       "    <tr>\n",
       "      <th>0</th>\n",
       "      <td>2020.0</td>\n",
       "      <td>£30,495</td>\n",
       "      <td>Automatic</td>\n",
       "      <td>NaN</td>\n",
       "      <td>Hybrid</td>\n",
       "      <td>2</td>\n",
       "      <td>/ad/25017331</td>\n",
       "    </tr>\n",
       "    <tr>\n",
       "      <th>1</th>\n",
       "      <td>2020.0</td>\n",
       "      <td>£29,989</td>\n",
       "      <td>Automatic</td>\n",
       "      <td>NaN</td>\n",
       "      <td>Petrol</td>\n",
       "      <td>1.5</td>\n",
       "      <td>/ad/25043746</td>\n",
       "    </tr>\n",
       "    <tr>\n",
       "      <th>2</th>\n",
       "      <td>2020.0</td>\n",
       "      <td>£37,899</td>\n",
       "      <td>Automatic</td>\n",
       "      <td>NaN</td>\n",
       "      <td>Diesel</td>\n",
       "      <td>2</td>\n",
       "      <td>/ad/25142894</td>\n",
       "    </tr>\n",
       "    <tr>\n",
       "      <th>3</th>\n",
       "      <td>2019.0</td>\n",
       "      <td>£30,399</td>\n",
       "      <td>Automatic</td>\n",
       "      <td>NaN</td>\n",
       "      <td>Hybrid</td>\n",
       "      <td>2</td>\n",
       "      <td>/ad/24942816</td>\n",
       "    </tr>\n",
       "    <tr>\n",
       "      <th>4</th>\n",
       "      <td>2019.0</td>\n",
       "      <td>£29,899</td>\n",
       "      <td>Automatic</td>\n",
       "      <td>NaN</td>\n",
       "      <td>Diesel</td>\n",
       "      <td>2</td>\n",
       "      <td>/ad/24913660</td>\n",
       "    </tr>\n",
       "  </tbody>\n",
       "</table>\n",
       "</div>"
      ],
      "text/plain": [
       "     year     price transmission mileage fuel type engine size     reference\n",
       "0  2020.0   £30,495    Automatic     NaN    Hybrid           2  /ad/25017331\n",
       "1  2020.0   £29,989    Automatic     NaN    Petrol         1.5  /ad/25043746\n",
       "2  2020.0   £37,899    Automatic     NaN    Diesel           2  /ad/25142894\n",
       "3  2019.0   £30,399    Automatic     NaN    Hybrid           2  /ad/24942816\n",
       "4  2019.0   £29,899    Automatic     NaN    Diesel           2  /ad/24913660"
      ]
     },
     "execution_count": 17,
     "metadata": {},
     "output_type": "execute_result"
    }
   ],
   "source": [
    "car.head()"
   ]
  },
  {
   "cell_type": "markdown",
   "metadata": {},
   "source": [
    "### working for 'year' column"
   ]
  },
  {
   "cell_type": "code",
   "execution_count": 18,
   "metadata": {},
   "outputs": [
    {
     "data": {
      "text/plain": [
       "dtype('float64')"
      ]
     },
     "execution_count": 18,
     "metadata": {},
     "output_type": "execute_result"
    }
   ],
   "source": [
    "car['year'].dtypes"
   ]
  },
  {
   "cell_type": "code",
   "execution_count": 19,
   "metadata": {},
   "outputs": [
    {
     "data": {
      "text/plain": [
       "4006"
      ]
     },
     "execution_count": 19,
     "metadata": {},
     "output_type": "execute_result"
    }
   ],
   "source": [
    "car['year'].size"
   ]
  },
  {
   "cell_type": "code",
   "execution_count": 20,
   "metadata": {},
   "outputs": [],
   "source": [
    "car.dropna(subset=['year'],inplace=True)"
   ]
  },
  {
   "cell_type": "code",
   "execution_count": 21,
   "metadata": {},
   "outputs": [
    {
     "data": {
      "text/plain": [
       "3904"
      ]
     },
     "execution_count": 21,
     "metadata": {},
     "output_type": "execute_result"
    }
   ],
   "source": [
    "car['year'].size"
   ]
  },
  {
   "cell_type": "code",
   "execution_count": 22,
   "metadata": {},
   "outputs": [],
   "source": [
    "car['year']=car.year.astype(int)"
   ]
  },
  {
   "cell_type": "code",
   "execution_count": 23,
   "metadata": {},
   "outputs": [
    {
     "data": {
      "text/html": [
       "<div>\n",
       "<style scoped>\n",
       "    .dataframe tbody tr th:only-of-type {\n",
       "        vertical-align: middle;\n",
       "    }\n",
       "\n",
       "    .dataframe tbody tr th {\n",
       "        vertical-align: top;\n",
       "    }\n",
       "\n",
       "    .dataframe thead th {\n",
       "        text-align: right;\n",
       "    }\n",
       "</style>\n",
       "<table border=\"1\" class=\"dataframe\">\n",
       "  <thead>\n",
       "    <tr style=\"text-align: right;\">\n",
       "      <th></th>\n",
       "      <th>year</th>\n",
       "      <th>price</th>\n",
       "      <th>transmission</th>\n",
       "      <th>mileage</th>\n",
       "      <th>fuel type</th>\n",
       "      <th>engine size</th>\n",
       "      <th>reference</th>\n",
       "    </tr>\n",
       "  </thead>\n",
       "  <tbody>\n",
       "    <tr>\n",
       "      <th>0</th>\n",
       "      <td>2020</td>\n",
       "      <td>£30,495</td>\n",
       "      <td>Automatic</td>\n",
       "      <td>NaN</td>\n",
       "      <td>Hybrid</td>\n",
       "      <td>2</td>\n",
       "      <td>/ad/25017331</td>\n",
       "    </tr>\n",
       "    <tr>\n",
       "      <th>1</th>\n",
       "      <td>2020</td>\n",
       "      <td>£29,989</td>\n",
       "      <td>Automatic</td>\n",
       "      <td>NaN</td>\n",
       "      <td>Petrol</td>\n",
       "      <td>1.5</td>\n",
       "      <td>/ad/25043746</td>\n",
       "    </tr>\n",
       "    <tr>\n",
       "      <th>2</th>\n",
       "      <td>2020</td>\n",
       "      <td>£37,899</td>\n",
       "      <td>Automatic</td>\n",
       "      <td>NaN</td>\n",
       "      <td>Diesel</td>\n",
       "      <td>2</td>\n",
       "      <td>/ad/25142894</td>\n",
       "    </tr>\n",
       "    <tr>\n",
       "      <th>3</th>\n",
       "      <td>2019</td>\n",
       "      <td>£30,399</td>\n",
       "      <td>Automatic</td>\n",
       "      <td>NaN</td>\n",
       "      <td>Hybrid</td>\n",
       "      <td>2</td>\n",
       "      <td>/ad/24942816</td>\n",
       "    </tr>\n",
       "    <tr>\n",
       "      <th>4</th>\n",
       "      <td>2019</td>\n",
       "      <td>£29,899</td>\n",
       "      <td>Automatic</td>\n",
       "      <td>NaN</td>\n",
       "      <td>Diesel</td>\n",
       "      <td>2</td>\n",
       "      <td>/ad/24913660</td>\n",
       "    </tr>\n",
       "  </tbody>\n",
       "</table>\n",
       "</div>"
      ],
      "text/plain": [
       "   year     price transmission mileage fuel type engine size     reference\n",
       "0  2020   £30,495    Automatic     NaN    Hybrid           2  /ad/25017331\n",
       "1  2020   £29,989    Automatic     NaN    Petrol         1.5  /ad/25043746\n",
       "2  2020   £37,899    Automatic     NaN    Diesel           2  /ad/25142894\n",
       "3  2019   £30,399    Automatic     NaN    Hybrid           2  /ad/24942816\n",
       "4  2019   £29,899    Automatic     NaN    Diesel           2  /ad/24913660"
      ]
     },
     "execution_count": 23,
     "metadata": {},
     "output_type": "execute_result"
    }
   ],
   "source": [
    "car.head()"
   ]
  },
  {
   "cell_type": "code",
   "execution_count": 24,
   "metadata": {},
   "outputs": [
    {
     "data": {
      "text/plain": [
       "dtype('int32')"
      ]
     },
     "execution_count": 24,
     "metadata": {},
     "output_type": "execute_result"
    }
   ],
   "source": [
    "car['year'].dtype"
   ]
  },
  {
   "cell_type": "code",
   "execution_count": 25,
   "metadata": {},
   "outputs": [
    {
     "data": {
      "text/plain": [
       "2019    1590\n",
       "2017     666\n",
       "2016     545\n",
       "2018     362\n",
       "2015     321\n",
       "2014     136\n",
       "2020     130\n",
       "2013      64\n",
       "2012      26\n",
       "2011      13\n",
       "2010      10\n",
       "2008       8\n",
       "2007       7\n",
       "2009       7\n",
       "2005       5\n",
       "2002       4\n",
       "2006       3\n",
       "2004       3\n",
       "2003       1\n",
       "1995       1\n",
       "1991       1\n",
       "1998       1\n",
       "Name: year, dtype: int64"
      ]
     },
     "execution_count": 25,
     "metadata": {},
     "output_type": "execute_result"
    }
   ],
   "source": [
    "car['year'].value_counts()"
   ]
  },
  {
   "cell_type": "markdown",
   "metadata": {},
   "source": [
    "### working on 'price' column"
   ]
  },
  {
   "cell_type": "code",
   "execution_count": 26,
   "metadata": {},
   "outputs": [
    {
     "data": {
      "text/html": [
       "<div>\n",
       "<style scoped>\n",
       "    .dataframe tbody tr th:only-of-type {\n",
       "        vertical-align: middle;\n",
       "    }\n",
       "\n",
       "    .dataframe tbody tr th {\n",
       "        vertical-align: top;\n",
       "    }\n",
       "\n",
       "    .dataframe thead th {\n",
       "        text-align: right;\n",
       "    }\n",
       "</style>\n",
       "<table border=\"1\" class=\"dataframe\">\n",
       "  <thead>\n",
       "    <tr style=\"text-align: right;\">\n",
       "      <th></th>\n",
       "      <th>year</th>\n",
       "      <th>price</th>\n",
       "      <th>transmission</th>\n",
       "      <th>mileage</th>\n",
       "      <th>fuel type</th>\n",
       "      <th>engine size</th>\n",
       "      <th>reference</th>\n",
       "    </tr>\n",
       "  </thead>\n",
       "  <tbody>\n",
       "    <tr>\n",
       "      <th>0</th>\n",
       "      <td>2020</td>\n",
       "      <td>£30,495</td>\n",
       "      <td>Automatic</td>\n",
       "      <td>NaN</td>\n",
       "      <td>Hybrid</td>\n",
       "      <td>2</td>\n",
       "      <td>/ad/25017331</td>\n",
       "    </tr>\n",
       "    <tr>\n",
       "      <th>1</th>\n",
       "      <td>2020</td>\n",
       "      <td>£29,989</td>\n",
       "      <td>Automatic</td>\n",
       "      <td>NaN</td>\n",
       "      <td>Petrol</td>\n",
       "      <td>1.5</td>\n",
       "      <td>/ad/25043746</td>\n",
       "    </tr>\n",
       "    <tr>\n",
       "      <th>2</th>\n",
       "      <td>2020</td>\n",
       "      <td>£37,899</td>\n",
       "      <td>Automatic</td>\n",
       "      <td>NaN</td>\n",
       "      <td>Diesel</td>\n",
       "      <td>2</td>\n",
       "      <td>/ad/25142894</td>\n",
       "    </tr>\n",
       "    <tr>\n",
       "      <th>3</th>\n",
       "      <td>2019</td>\n",
       "      <td>£30,399</td>\n",
       "      <td>Automatic</td>\n",
       "      <td>NaN</td>\n",
       "      <td>Hybrid</td>\n",
       "      <td>2</td>\n",
       "      <td>/ad/24942816</td>\n",
       "    </tr>\n",
       "    <tr>\n",
       "      <th>4</th>\n",
       "      <td>2019</td>\n",
       "      <td>£29,899</td>\n",
       "      <td>Automatic</td>\n",
       "      <td>NaN</td>\n",
       "      <td>Diesel</td>\n",
       "      <td>2</td>\n",
       "      <td>/ad/24913660</td>\n",
       "    </tr>\n",
       "  </tbody>\n",
       "</table>\n",
       "</div>"
      ],
      "text/plain": [
       "   year     price transmission mileage fuel type engine size     reference\n",
       "0  2020   £30,495    Automatic     NaN    Hybrid           2  /ad/25017331\n",
       "1  2020   £29,989    Automatic     NaN    Petrol         1.5  /ad/25043746\n",
       "2  2020   £37,899    Automatic     NaN    Diesel           2  /ad/25142894\n",
       "3  2019   £30,399    Automatic     NaN    Hybrid           2  /ad/24942816\n",
       "4  2019   £29,899    Automatic     NaN    Diesel           2  /ad/24913660"
      ]
     },
     "execution_count": 26,
     "metadata": {},
     "output_type": "execute_result"
    }
   ],
   "source": [
    "car.head()"
   ]
  },
  {
   "cell_type": "code",
   "execution_count": 27,
   "metadata": {},
   "outputs": [
    {
     "data": {
      "text/plain": [
       "dtype('O')"
      ]
     },
     "execution_count": 27,
     "metadata": {},
     "output_type": "execute_result"
    }
   ],
   "source": [
    "car['price'].dtype"
   ]
  },
  {
   "cell_type": "code",
   "execution_count": 28,
   "metadata": {},
   "outputs": [],
   "source": [
    "def clean_car_price(p):\n",
    "    s=''\n",
    "    for e in p:\n",
    "        if e.isdigit():\n",
    "            s=s+e\n",
    "    return float(str(s))"
   ]
  },
  {
   "cell_type": "code",
   "execution_count": 29,
   "metadata": {},
   "outputs": [],
   "source": [
    "car['price']=car.price.apply(func=clean_car_price)"
   ]
  },
  {
   "cell_type": "code",
   "execution_count": 30,
   "metadata": {},
   "outputs": [
    {
     "data": {
      "text/html": [
       "<div>\n",
       "<style scoped>\n",
       "    .dataframe tbody tr th:only-of-type {\n",
       "        vertical-align: middle;\n",
       "    }\n",
       "\n",
       "    .dataframe tbody tr th {\n",
       "        vertical-align: top;\n",
       "    }\n",
       "\n",
       "    .dataframe thead th {\n",
       "        text-align: right;\n",
       "    }\n",
       "</style>\n",
       "<table border=\"1\" class=\"dataframe\">\n",
       "  <thead>\n",
       "    <tr style=\"text-align: right;\">\n",
       "      <th></th>\n",
       "      <th>year</th>\n",
       "      <th>price</th>\n",
       "      <th>transmission</th>\n",
       "      <th>mileage</th>\n",
       "      <th>fuel type</th>\n",
       "      <th>engine size</th>\n",
       "      <th>reference</th>\n",
       "    </tr>\n",
       "  </thead>\n",
       "  <tbody>\n",
       "    <tr>\n",
       "      <th>0</th>\n",
       "      <td>2020</td>\n",
       "      <td>30495.0</td>\n",
       "      <td>Automatic</td>\n",
       "      <td>NaN</td>\n",
       "      <td>Hybrid</td>\n",
       "      <td>2</td>\n",
       "      <td>/ad/25017331</td>\n",
       "    </tr>\n",
       "    <tr>\n",
       "      <th>1</th>\n",
       "      <td>2020</td>\n",
       "      <td>29989.0</td>\n",
       "      <td>Automatic</td>\n",
       "      <td>NaN</td>\n",
       "      <td>Petrol</td>\n",
       "      <td>1.5</td>\n",
       "      <td>/ad/25043746</td>\n",
       "    </tr>\n",
       "    <tr>\n",
       "      <th>2</th>\n",
       "      <td>2020</td>\n",
       "      <td>37899.0</td>\n",
       "      <td>Automatic</td>\n",
       "      <td>NaN</td>\n",
       "      <td>Diesel</td>\n",
       "      <td>2</td>\n",
       "      <td>/ad/25142894</td>\n",
       "    </tr>\n",
       "    <tr>\n",
       "      <th>3</th>\n",
       "      <td>2019</td>\n",
       "      <td>30399.0</td>\n",
       "      <td>Automatic</td>\n",
       "      <td>NaN</td>\n",
       "      <td>Hybrid</td>\n",
       "      <td>2</td>\n",
       "      <td>/ad/24942816</td>\n",
       "    </tr>\n",
       "    <tr>\n",
       "      <th>4</th>\n",
       "      <td>2019</td>\n",
       "      <td>29899.0</td>\n",
       "      <td>Automatic</td>\n",
       "      <td>NaN</td>\n",
       "      <td>Diesel</td>\n",
       "      <td>2</td>\n",
       "      <td>/ad/24913660</td>\n",
       "    </tr>\n",
       "  </tbody>\n",
       "</table>\n",
       "</div>"
      ],
      "text/plain": [
       "   year    price transmission mileage fuel type engine size     reference\n",
       "0  2020  30495.0    Automatic     NaN    Hybrid           2  /ad/25017331\n",
       "1  2020  29989.0    Automatic     NaN    Petrol         1.5  /ad/25043746\n",
       "2  2020  37899.0    Automatic     NaN    Diesel           2  /ad/25142894\n",
       "3  2019  30399.0    Automatic     NaN    Hybrid           2  /ad/24942816\n",
       "4  2019  29899.0    Automatic     NaN    Diesel           2  /ad/24913660"
      ]
     },
     "execution_count": 30,
     "metadata": {},
     "output_type": "execute_result"
    }
   ],
   "source": [
    "car.head()"
   ]
  },
  {
   "cell_type": "code",
   "execution_count": 31,
   "metadata": {},
   "outputs": [
    {
     "data": {
      "text/plain": [
       "dtype('float64')"
      ]
     },
     "execution_count": 31,
     "metadata": {},
     "output_type": "execute_result"
    }
   ],
   "source": [
    "car['price'].dtype"
   ]
  },
  {
   "cell_type": "markdown",
   "metadata": {},
   "source": [
    "### working on 'transmission' column"
   ]
  },
  {
   "cell_type": "code",
   "execution_count": 32,
   "metadata": {},
   "outputs": [
    {
     "data": {
      "text/plain": [
       "dtype('O')"
      ]
     },
     "execution_count": 32,
     "metadata": {},
     "output_type": "execute_result"
    }
   ],
   "source": [
    "car.transmission.dtype"
   ]
  },
  {
   "cell_type": "code",
   "execution_count": 33,
   "metadata": {},
   "outputs": [
    {
     "data": {
      "text/plain": [
       "Semi-Auto    2071\n",
       "Automatic    1633\n",
       "Manual        199\n",
       "Other           1\n",
       "Name: transmission, dtype: int64"
      ]
     },
     "execution_count": 33,
     "metadata": {},
     "output_type": "execute_result"
    }
   ],
   "source": [
    "car.transmission.value_counts()"
   ]
  },
  {
   "cell_type": "code",
   "execution_count": 34,
   "metadata": {},
   "outputs": [],
   "source": [
    "# its look like this column is fine"
   ]
  },
  {
   "cell_type": "markdown",
   "metadata": {},
   "source": [
    "### working on 'mileage' column"
   ]
  },
  {
   "cell_type": "code",
   "execution_count": 35,
   "metadata": {},
   "outputs": [
    {
     "data": {
      "text/plain": [
       "dtype('O')"
      ]
     },
     "execution_count": 35,
     "metadata": {},
     "output_type": "execute_result"
    }
   ],
   "source": [
    "car.mileage.dtype"
   ]
  },
  {
   "cell_type": "code",
   "execution_count": 36,
   "metadata": {},
   "outputs": [
    {
     "data": {
      "text/plain": [
       "97"
      ]
     },
     "execution_count": 36,
     "metadata": {},
     "output_type": "execute_result"
    }
   ],
   "source": [
    "car.mileage.isnull().sum()"
   ]
  },
  {
   "cell_type": "code",
   "execution_count": 37,
   "metadata": {},
   "outputs": [],
   "source": [
    "car['mileage'].fillna('0',inplace=True)"
   ]
  },
  {
   "cell_type": "code",
   "execution_count": 38,
   "metadata": {},
   "outputs": [
    {
     "data": {
      "text/html": [
       "<div>\n",
       "<style scoped>\n",
       "    .dataframe tbody tr th:only-of-type {\n",
       "        vertical-align: middle;\n",
       "    }\n",
       "\n",
       "    .dataframe tbody tr th {\n",
       "        vertical-align: top;\n",
       "    }\n",
       "\n",
       "    .dataframe thead th {\n",
       "        text-align: right;\n",
       "    }\n",
       "</style>\n",
       "<table border=\"1\" class=\"dataframe\">\n",
       "  <thead>\n",
       "    <tr style=\"text-align: right;\">\n",
       "      <th></th>\n",
       "      <th>year</th>\n",
       "      <th>price</th>\n",
       "      <th>transmission</th>\n",
       "      <th>mileage</th>\n",
       "      <th>fuel type</th>\n",
       "      <th>engine size</th>\n",
       "      <th>reference</th>\n",
       "    </tr>\n",
       "  </thead>\n",
       "  <tbody>\n",
       "    <tr>\n",
       "      <th>0</th>\n",
       "      <td>2020</td>\n",
       "      <td>30495.0</td>\n",
       "      <td>Automatic</td>\n",
       "      <td>0</td>\n",
       "      <td>Hybrid</td>\n",
       "      <td>2</td>\n",
       "      <td>/ad/25017331</td>\n",
       "    </tr>\n",
       "    <tr>\n",
       "      <th>1</th>\n",
       "      <td>2020</td>\n",
       "      <td>29989.0</td>\n",
       "      <td>Automatic</td>\n",
       "      <td>0</td>\n",
       "      <td>Petrol</td>\n",
       "      <td>1.5</td>\n",
       "      <td>/ad/25043746</td>\n",
       "    </tr>\n",
       "    <tr>\n",
       "      <th>2</th>\n",
       "      <td>2020</td>\n",
       "      <td>37899.0</td>\n",
       "      <td>Automatic</td>\n",
       "      <td>0</td>\n",
       "      <td>Diesel</td>\n",
       "      <td>2</td>\n",
       "      <td>/ad/25142894</td>\n",
       "    </tr>\n",
       "    <tr>\n",
       "      <th>3</th>\n",
       "      <td>2019</td>\n",
       "      <td>30399.0</td>\n",
       "      <td>Automatic</td>\n",
       "      <td>0</td>\n",
       "      <td>Hybrid</td>\n",
       "      <td>2</td>\n",
       "      <td>/ad/24942816</td>\n",
       "    </tr>\n",
       "    <tr>\n",
       "      <th>4</th>\n",
       "      <td>2019</td>\n",
       "      <td>29899.0</td>\n",
       "      <td>Automatic</td>\n",
       "      <td>0</td>\n",
       "      <td>Diesel</td>\n",
       "      <td>2</td>\n",
       "      <td>/ad/24913660</td>\n",
       "    </tr>\n",
       "  </tbody>\n",
       "</table>\n",
       "</div>"
      ],
      "text/plain": [
       "   year    price transmission mileage fuel type engine size     reference\n",
       "0  2020  30495.0    Automatic       0    Hybrid           2  /ad/25017331\n",
       "1  2020  29989.0    Automatic       0    Petrol         1.5  /ad/25043746\n",
       "2  2020  37899.0    Automatic       0    Diesel           2  /ad/25142894\n",
       "3  2019  30399.0    Automatic       0    Hybrid           2  /ad/24942816\n",
       "4  2019  29899.0    Automatic       0    Diesel           2  /ad/24913660"
      ]
     },
     "execution_count": 38,
     "metadata": {},
     "output_type": "execute_result"
    }
   ],
   "source": [
    "car.head()"
   ]
  },
  {
   "cell_type": "code",
   "execution_count": 39,
   "metadata": {},
   "outputs": [],
   "source": [
    "def clean_car_mileage(m):\n",
    "    s=''\n",
    "    for e in m:\n",
    "        if e.isdigit():\n",
    "            s=s+e\n",
    "    if s=='':\n",
    "        s=0\n",
    "    return float(str(s))"
   ]
  },
  {
   "cell_type": "code",
   "execution_count": 40,
   "metadata": {},
   "outputs": [],
   "source": [
    "car['mileage']=car['mileage'].apply(func=clean_car_mileage)"
   ]
  },
  {
   "cell_type": "code",
   "execution_count": 41,
   "metadata": {},
   "outputs": [],
   "source": [
    "mileage_median=car['mileage'].median()"
   ]
  },
  {
   "cell_type": "code",
   "execution_count": 42,
   "metadata": {},
   "outputs": [],
   "source": [
    "car['mileage']=car.mileage.replace(0.0,mileage_median)"
   ]
  },
  {
   "cell_type": "code",
   "execution_count": 43,
   "metadata": {},
   "outputs": [
    {
     "data": {
      "text/html": [
       "<div>\n",
       "<style scoped>\n",
       "    .dataframe tbody tr th:only-of-type {\n",
       "        vertical-align: middle;\n",
       "    }\n",
       "\n",
       "    .dataframe tbody tr th {\n",
       "        vertical-align: top;\n",
       "    }\n",
       "\n",
       "    .dataframe thead th {\n",
       "        text-align: right;\n",
       "    }\n",
       "</style>\n",
       "<table border=\"1\" class=\"dataframe\">\n",
       "  <thead>\n",
       "    <tr style=\"text-align: right;\">\n",
       "      <th></th>\n",
       "      <th>year</th>\n",
       "      <th>price</th>\n",
       "      <th>transmission</th>\n",
       "      <th>mileage</th>\n",
       "      <th>fuel type</th>\n",
       "      <th>engine size</th>\n",
       "      <th>reference</th>\n",
       "    </tr>\n",
       "  </thead>\n",
       "  <tbody>\n",
       "    <tr>\n",
       "      <th>0</th>\n",
       "      <td>2020</td>\n",
       "      <td>30495.0</td>\n",
       "      <td>Automatic</td>\n",
       "      <td>14137.0</td>\n",
       "      <td>Hybrid</td>\n",
       "      <td>2</td>\n",
       "      <td>/ad/25017331</td>\n",
       "    </tr>\n",
       "    <tr>\n",
       "      <th>1</th>\n",
       "      <td>2020</td>\n",
       "      <td>29989.0</td>\n",
       "      <td>Automatic</td>\n",
       "      <td>14137.0</td>\n",
       "      <td>Petrol</td>\n",
       "      <td>1.5</td>\n",
       "      <td>/ad/25043746</td>\n",
       "    </tr>\n",
       "    <tr>\n",
       "      <th>2</th>\n",
       "      <td>2020</td>\n",
       "      <td>37899.0</td>\n",
       "      <td>Automatic</td>\n",
       "      <td>14137.0</td>\n",
       "      <td>Diesel</td>\n",
       "      <td>2</td>\n",
       "      <td>/ad/25142894</td>\n",
       "    </tr>\n",
       "    <tr>\n",
       "      <th>3</th>\n",
       "      <td>2019</td>\n",
       "      <td>30399.0</td>\n",
       "      <td>Automatic</td>\n",
       "      <td>14137.0</td>\n",
       "      <td>Hybrid</td>\n",
       "      <td>2</td>\n",
       "      <td>/ad/24942816</td>\n",
       "    </tr>\n",
       "    <tr>\n",
       "      <th>4</th>\n",
       "      <td>2019</td>\n",
       "      <td>29899.0</td>\n",
       "      <td>Automatic</td>\n",
       "      <td>14137.0</td>\n",
       "      <td>Diesel</td>\n",
       "      <td>2</td>\n",
       "      <td>/ad/24913660</td>\n",
       "    </tr>\n",
       "  </tbody>\n",
       "</table>\n",
       "</div>"
      ],
      "text/plain": [
       "   year    price transmission  mileage fuel type engine size     reference\n",
       "0  2020  30495.0    Automatic  14137.0    Hybrid           2  /ad/25017331\n",
       "1  2020  29989.0    Automatic  14137.0    Petrol         1.5  /ad/25043746\n",
       "2  2020  37899.0    Automatic  14137.0    Diesel           2  /ad/25142894\n",
       "3  2019  30399.0    Automatic  14137.0    Hybrid           2  /ad/24942816\n",
       "4  2019  29899.0    Automatic  14137.0    Diesel           2  /ad/24913660"
      ]
     },
     "execution_count": 43,
     "metadata": {},
     "output_type": "execute_result"
    }
   ],
   "source": [
    "car.head()"
   ]
  },
  {
   "cell_type": "code",
   "execution_count": 44,
   "metadata": {},
   "outputs": [
    {
     "data": {
      "text/plain": [
       "dtype('float64')"
      ]
     },
     "execution_count": 44,
     "metadata": {},
     "output_type": "execute_result"
    }
   ],
   "source": [
    "car['mileage'].dtype"
   ]
  },
  {
   "cell_type": "markdown",
   "metadata": {},
   "source": [
    "### working on 'fuel type' column"
   ]
  },
  {
   "cell_type": "code",
   "execution_count": 45,
   "metadata": {},
   "outputs": [
    {
     "data": {
      "text/plain": [
       "dtype('O')"
      ]
     },
     "execution_count": 45,
     "metadata": {},
     "output_type": "execute_result"
    }
   ],
   "source": [
    "car['fuel type'].dtype"
   ]
  },
  {
   "cell_type": "code",
   "execution_count": 46,
   "metadata": {},
   "outputs": [
    {
     "data": {
      "text/plain": [
       "Petrol    1324\n",
       "Hybrid    1293\n",
       "Diesel    1287\n",
       "Name: fuel type, dtype: int64"
      ]
     },
     "execution_count": 46,
     "metadata": {},
     "output_type": "execute_result"
    }
   ],
   "source": [
    "car['fuel type'].value_counts()"
   ]
  },
  {
   "cell_type": "code",
   "execution_count": 47,
   "metadata": {},
   "outputs": [],
   "source": [
    "# its look like this column is fine"
   ]
  },
  {
   "cell_type": "markdown",
   "metadata": {},
   "source": [
    "### working on 'engine size' column"
   ]
  },
  {
   "cell_type": "code",
   "execution_count": 48,
   "metadata": {},
   "outputs": [
    {
     "data": {
      "text/plain": [
       "dtype('O')"
      ]
     },
     "execution_count": 48,
     "metadata": {},
     "output_type": "execute_result"
    }
   ],
   "source": [
    "car['engine size'].dtype"
   ]
  },
  {
   "cell_type": "code",
   "execution_count": 49,
   "metadata": {},
   "outputs": [],
   "source": [
    "def clean_car_engine_size(ez):\n",
    "    s=''\n",
    "    if ez!=np.nan:\n",
    "        for e in str(ez):\n",
    "            if e.isdigit():\n",
    "                s=s+e\n",
    "        return s   "
   ]
  },
  {
   "cell_type": "code",
   "execution_count": 50,
   "metadata": {},
   "outputs": [],
   "source": [
    "car['engine size']=car['engine size'].apply(func=clean_car_engine_size)"
   ]
  },
  {
   "cell_type": "code",
   "execution_count": 51,
   "metadata": {},
   "outputs": [
    {
     "data": {
      "text/html": [
       "<div>\n",
       "<style scoped>\n",
       "    .dataframe tbody tr th:only-of-type {\n",
       "        vertical-align: middle;\n",
       "    }\n",
       "\n",
       "    .dataframe tbody tr th {\n",
       "        vertical-align: top;\n",
       "    }\n",
       "\n",
       "    .dataframe thead th {\n",
       "        text-align: right;\n",
       "    }\n",
       "</style>\n",
       "<table border=\"1\" class=\"dataframe\">\n",
       "  <thead>\n",
       "    <tr style=\"text-align: right;\">\n",
       "      <th></th>\n",
       "      <th>year</th>\n",
       "      <th>price</th>\n",
       "      <th>transmission</th>\n",
       "      <th>mileage</th>\n",
       "      <th>fuel type</th>\n",
       "      <th>engine size</th>\n",
       "      <th>reference</th>\n",
       "    </tr>\n",
       "  </thead>\n",
       "  <tbody>\n",
       "    <tr>\n",
       "      <th>0</th>\n",
       "      <td>2020</td>\n",
       "      <td>30495.0</td>\n",
       "      <td>Automatic</td>\n",
       "      <td>14137.0</td>\n",
       "      <td>Hybrid</td>\n",
       "      <td>2</td>\n",
       "      <td>/ad/25017331</td>\n",
       "    </tr>\n",
       "    <tr>\n",
       "      <th>1</th>\n",
       "      <td>2020</td>\n",
       "      <td>29989.0</td>\n",
       "      <td>Automatic</td>\n",
       "      <td>14137.0</td>\n",
       "      <td>Petrol</td>\n",
       "      <td>15</td>\n",
       "      <td>/ad/25043746</td>\n",
       "    </tr>\n",
       "    <tr>\n",
       "      <th>2</th>\n",
       "      <td>2020</td>\n",
       "      <td>37899.0</td>\n",
       "      <td>Automatic</td>\n",
       "      <td>14137.0</td>\n",
       "      <td>Diesel</td>\n",
       "      <td>2</td>\n",
       "      <td>/ad/25142894</td>\n",
       "    </tr>\n",
       "    <tr>\n",
       "      <th>3</th>\n",
       "      <td>2019</td>\n",
       "      <td>30399.0</td>\n",
       "      <td>Automatic</td>\n",
       "      <td>14137.0</td>\n",
       "      <td>Hybrid</td>\n",
       "      <td>2</td>\n",
       "      <td>/ad/24942816</td>\n",
       "    </tr>\n",
       "    <tr>\n",
       "      <th>4</th>\n",
       "      <td>2019</td>\n",
       "      <td>29899.0</td>\n",
       "      <td>Automatic</td>\n",
       "      <td>14137.0</td>\n",
       "      <td>Diesel</td>\n",
       "      <td>2</td>\n",
       "      <td>/ad/24913660</td>\n",
       "    </tr>\n",
       "  </tbody>\n",
       "</table>\n",
       "</div>"
      ],
      "text/plain": [
       "   year    price transmission  mileage fuel type engine size     reference\n",
       "0  2020  30495.0    Automatic  14137.0    Hybrid           2  /ad/25017331\n",
       "1  2020  29989.0    Automatic  14137.0    Petrol          15  /ad/25043746\n",
       "2  2020  37899.0    Automatic  14137.0    Diesel           2  /ad/25142894\n",
       "3  2019  30399.0    Automatic  14137.0    Hybrid           2  /ad/24942816\n",
       "4  2019  29899.0    Automatic  14137.0    Diesel           2  /ad/24913660"
      ]
     },
     "execution_count": 51,
     "metadata": {},
     "output_type": "execute_result"
    }
   ],
   "source": [
    "car.head()"
   ]
  },
  {
   "cell_type": "code",
   "execution_count": 52,
   "metadata": {},
   "outputs": [],
   "source": [
    "car['engine size']=car['engine size'].replace(to_replace='',value='0').astype(int)"
   ]
  },
  {
   "cell_type": "code",
   "execution_count": 53,
   "metadata": {},
   "outputs": [
    {
     "data": {
      "text/plain": [
       "184"
      ]
     },
     "execution_count": 53,
     "metadata": {},
     "output_type": "execute_result"
    }
   ],
   "source": [
    "(car['engine size']==0).sum()"
   ]
  },
  {
   "cell_type": "code",
   "execution_count": 54,
   "metadata": {},
   "outputs": [],
   "source": [
    "car['engine size']=car['engine size'].replace(to_replace=0,value=car['engine size'].mean())"
   ]
  },
  {
   "cell_type": "code",
   "execution_count": 55,
   "metadata": {},
   "outputs": [
    {
     "data": {
      "text/html": [
       "<div>\n",
       "<style scoped>\n",
       "    .dataframe tbody tr th:only-of-type {\n",
       "        vertical-align: middle;\n",
       "    }\n",
       "\n",
       "    .dataframe tbody tr th {\n",
       "        vertical-align: top;\n",
       "    }\n",
       "\n",
       "    .dataframe thead th {\n",
       "        text-align: right;\n",
       "    }\n",
       "</style>\n",
       "<table border=\"1\" class=\"dataframe\">\n",
       "  <thead>\n",
       "    <tr style=\"text-align: right;\">\n",
       "      <th></th>\n",
       "      <th>year</th>\n",
       "      <th>price</th>\n",
       "      <th>transmission</th>\n",
       "      <th>mileage</th>\n",
       "      <th>fuel type</th>\n",
       "      <th>engine size</th>\n",
       "      <th>reference</th>\n",
       "    </tr>\n",
       "  </thead>\n",
       "  <tbody>\n",
       "    <tr>\n",
       "      <th>0</th>\n",
       "      <td>2020</td>\n",
       "      <td>30495.0</td>\n",
       "      <td>Automatic</td>\n",
       "      <td>14137.0</td>\n",
       "      <td>Hybrid</td>\n",
       "      <td>2.0</td>\n",
       "      <td>/ad/25017331</td>\n",
       "    </tr>\n",
       "    <tr>\n",
       "      <th>1</th>\n",
       "      <td>2020</td>\n",
       "      <td>29989.0</td>\n",
       "      <td>Automatic</td>\n",
       "      <td>14137.0</td>\n",
       "      <td>Petrol</td>\n",
       "      <td>15.0</td>\n",
       "      <td>/ad/25043746</td>\n",
       "    </tr>\n",
       "    <tr>\n",
       "      <th>2</th>\n",
       "      <td>2020</td>\n",
       "      <td>37899.0</td>\n",
       "      <td>Automatic</td>\n",
       "      <td>14137.0</td>\n",
       "      <td>Diesel</td>\n",
       "      <td>2.0</td>\n",
       "      <td>/ad/25142894</td>\n",
       "    </tr>\n",
       "    <tr>\n",
       "      <th>3</th>\n",
       "      <td>2019</td>\n",
       "      <td>30399.0</td>\n",
       "      <td>Automatic</td>\n",
       "      <td>14137.0</td>\n",
       "      <td>Hybrid</td>\n",
       "      <td>2.0</td>\n",
       "      <td>/ad/24942816</td>\n",
       "    </tr>\n",
       "    <tr>\n",
       "      <th>4</th>\n",
       "      <td>2019</td>\n",
       "      <td>29899.0</td>\n",
       "      <td>Automatic</td>\n",
       "      <td>14137.0</td>\n",
       "      <td>Diesel</td>\n",
       "      <td>2.0</td>\n",
       "      <td>/ad/24913660</td>\n",
       "    </tr>\n",
       "  </tbody>\n",
       "</table>\n",
       "</div>"
      ],
      "text/plain": [
       "   year    price transmission  mileage fuel type  engine size     reference\n",
       "0  2020  30495.0    Automatic  14137.0    Hybrid          2.0  /ad/25017331\n",
       "1  2020  29989.0    Automatic  14137.0    Petrol         15.0  /ad/25043746\n",
       "2  2020  37899.0    Automatic  14137.0    Diesel          2.0  /ad/25142894\n",
       "3  2019  30399.0    Automatic  14137.0    Hybrid          2.0  /ad/24942816\n",
       "4  2019  29899.0    Automatic  14137.0    Diesel          2.0  /ad/24913660"
      ]
     },
     "execution_count": 55,
     "metadata": {},
     "output_type": "execute_result"
    }
   ],
   "source": [
    "car.head()"
   ]
  },
  {
   "cell_type": "markdown",
   "metadata": {},
   "source": [
    "### working on 'reference' column"
   ]
  },
  {
   "cell_type": "code",
   "execution_count": 56,
   "metadata": {},
   "outputs": [],
   "source": [
    "car.dropna(subset=['reference'],inplace=True)"
   ]
  },
  {
   "cell_type": "code",
   "execution_count": 57,
   "metadata": {},
   "outputs": [],
   "source": [
    "def clean_car_reference(ref):\n",
    "    s=''\n",
    "    for e in ref:\n",
    "        if e.isdigit():\n",
    "            s=s+e\n",
    "    return str(s)       "
   ]
  },
  {
   "cell_type": "code",
   "execution_count": 58,
   "metadata": {},
   "outputs": [],
   "source": [
    "car['reference']=car.reference.apply(func=clean_car_reference)"
   ]
  },
  {
   "cell_type": "code",
   "execution_count": 59,
   "metadata": {},
   "outputs": [
    {
     "data": {
      "text/html": [
       "<div>\n",
       "<style scoped>\n",
       "    .dataframe tbody tr th:only-of-type {\n",
       "        vertical-align: middle;\n",
       "    }\n",
       "\n",
       "    .dataframe tbody tr th {\n",
       "        vertical-align: top;\n",
       "    }\n",
       "\n",
       "    .dataframe thead th {\n",
       "        text-align: right;\n",
       "    }\n",
       "</style>\n",
       "<table border=\"1\" class=\"dataframe\">\n",
       "  <thead>\n",
       "    <tr style=\"text-align: right;\">\n",
       "      <th></th>\n",
       "      <th>year</th>\n",
       "      <th>price</th>\n",
       "      <th>transmission</th>\n",
       "      <th>mileage</th>\n",
       "      <th>fuel type</th>\n",
       "      <th>engine size</th>\n",
       "      <th>reference</th>\n",
       "    </tr>\n",
       "  </thead>\n",
       "  <tbody>\n",
       "    <tr>\n",
       "      <th>0</th>\n",
       "      <td>2020</td>\n",
       "      <td>30495.0</td>\n",
       "      <td>Automatic</td>\n",
       "      <td>14137.0</td>\n",
       "      <td>Hybrid</td>\n",
       "      <td>2.0</td>\n",
       "      <td>25017331</td>\n",
       "    </tr>\n",
       "    <tr>\n",
       "      <th>1</th>\n",
       "      <td>2020</td>\n",
       "      <td>29989.0</td>\n",
       "      <td>Automatic</td>\n",
       "      <td>14137.0</td>\n",
       "      <td>Petrol</td>\n",
       "      <td>15.0</td>\n",
       "      <td>25043746</td>\n",
       "    </tr>\n",
       "    <tr>\n",
       "      <th>2</th>\n",
       "      <td>2020</td>\n",
       "      <td>37899.0</td>\n",
       "      <td>Automatic</td>\n",
       "      <td>14137.0</td>\n",
       "      <td>Diesel</td>\n",
       "      <td>2.0</td>\n",
       "      <td>25142894</td>\n",
       "    </tr>\n",
       "    <tr>\n",
       "      <th>3</th>\n",
       "      <td>2019</td>\n",
       "      <td>30399.0</td>\n",
       "      <td>Automatic</td>\n",
       "      <td>14137.0</td>\n",
       "      <td>Hybrid</td>\n",
       "      <td>2.0</td>\n",
       "      <td>24942816</td>\n",
       "    </tr>\n",
       "    <tr>\n",
       "      <th>4</th>\n",
       "      <td>2019</td>\n",
       "      <td>29899.0</td>\n",
       "      <td>Automatic</td>\n",
       "      <td>14137.0</td>\n",
       "      <td>Diesel</td>\n",
       "      <td>2.0</td>\n",
       "      <td>24913660</td>\n",
       "    </tr>\n",
       "  </tbody>\n",
       "</table>\n",
       "</div>"
      ],
      "text/plain": [
       "   year    price transmission  mileage fuel type  engine size reference\n",
       "0  2020  30495.0    Automatic  14137.0    Hybrid          2.0  25017331\n",
       "1  2020  29989.0    Automatic  14137.0    Petrol         15.0  25043746\n",
       "2  2020  37899.0    Automatic  14137.0    Diesel          2.0  25142894\n",
       "3  2019  30399.0    Automatic  14137.0    Hybrid          2.0  24942816\n",
       "4  2019  29899.0    Automatic  14137.0    Diesel          2.0  24913660"
      ]
     },
     "execution_count": 59,
     "metadata": {},
     "output_type": "execute_result"
    }
   ],
   "source": [
    "car.head()"
   ]
  },
  {
   "cell_type": "code",
   "execution_count": 60,
   "metadata": {},
   "outputs": [],
   "source": [
    "car.reset_index(inplace=True)"
   ]
  },
  {
   "cell_type": "markdown",
   "metadata": {},
   "source": [
    "# After cleaning"
   ]
  },
  {
   "cell_type": "code",
   "execution_count": 61,
   "metadata": {
    "scrolled": true
   },
   "outputs": [
    {
     "data": {
      "text/html": [
       "<div>\n",
       "<style scoped>\n",
       "    .dataframe tbody tr th:only-of-type {\n",
       "        vertical-align: middle;\n",
       "    }\n",
       "\n",
       "    .dataframe tbody tr th {\n",
       "        vertical-align: top;\n",
       "    }\n",
       "\n",
       "    .dataframe thead th {\n",
       "        text-align: right;\n",
       "    }\n",
       "</style>\n",
       "<table border=\"1\" class=\"dataframe\">\n",
       "  <thead>\n",
       "    <tr style=\"text-align: right;\">\n",
       "      <th></th>\n",
       "      <th>index</th>\n",
       "      <th>year</th>\n",
       "      <th>price</th>\n",
       "      <th>transmission</th>\n",
       "      <th>mileage</th>\n",
       "      <th>fuel type</th>\n",
       "      <th>engine size</th>\n",
       "      <th>reference</th>\n",
       "    </tr>\n",
       "  </thead>\n",
       "  <tbody>\n",
       "    <tr>\n",
       "      <th>0</th>\n",
       "      <td>0</td>\n",
       "      <td>2020</td>\n",
       "      <td>30495.0</td>\n",
       "      <td>Automatic</td>\n",
       "      <td>14137.0</td>\n",
       "      <td>Hybrid</td>\n",
       "      <td>2.0</td>\n",
       "      <td>25017331</td>\n",
       "    </tr>\n",
       "    <tr>\n",
       "      <th>1</th>\n",
       "      <td>1</td>\n",
       "      <td>2020</td>\n",
       "      <td>29989.0</td>\n",
       "      <td>Automatic</td>\n",
       "      <td>14137.0</td>\n",
       "      <td>Petrol</td>\n",
       "      <td>15.0</td>\n",
       "      <td>25043746</td>\n",
       "    </tr>\n",
       "    <tr>\n",
       "      <th>2</th>\n",
       "      <td>2</td>\n",
       "      <td>2020</td>\n",
       "      <td>37899.0</td>\n",
       "      <td>Automatic</td>\n",
       "      <td>14137.0</td>\n",
       "      <td>Diesel</td>\n",
       "      <td>2.0</td>\n",
       "      <td>25142894</td>\n",
       "    </tr>\n",
       "    <tr>\n",
       "      <th>3</th>\n",
       "      <td>3</td>\n",
       "      <td>2019</td>\n",
       "      <td>30399.0</td>\n",
       "      <td>Automatic</td>\n",
       "      <td>14137.0</td>\n",
       "      <td>Hybrid</td>\n",
       "      <td>2.0</td>\n",
       "      <td>24942816</td>\n",
       "    </tr>\n",
       "    <tr>\n",
       "      <th>4</th>\n",
       "      <td>4</td>\n",
       "      <td>2019</td>\n",
       "      <td>29899.0</td>\n",
       "      <td>Automatic</td>\n",
       "      <td>14137.0</td>\n",
       "      <td>Diesel</td>\n",
       "      <td>2.0</td>\n",
       "      <td>24913660</td>\n",
       "    </tr>\n",
       "    <tr>\n",
       "      <th>5</th>\n",
       "      <td>5</td>\n",
       "      <td>2020</td>\n",
       "      <td>30999.0</td>\n",
       "      <td>Automatic</td>\n",
       "      <td>14137.0</td>\n",
       "      <td>Hybrid</td>\n",
       "      <td>2.0</td>\n",
       "      <td>25059312</td>\n",
       "    </tr>\n",
       "    <tr>\n",
       "      <th>6</th>\n",
       "      <td>6</td>\n",
       "      <td>2020</td>\n",
       "      <td>35999.0</td>\n",
       "      <td>Automatic</td>\n",
       "      <td>14137.0</td>\n",
       "      <td>Diesel</td>\n",
       "      <td>2.0</td>\n",
       "      <td>25418851</td>\n",
       "    </tr>\n",
       "    <tr>\n",
       "      <th>7</th>\n",
       "      <td>7</td>\n",
       "      <td>2019</td>\n",
       "      <td>37990.0</td>\n",
       "      <td>Automatic</td>\n",
       "      <td>14137.0</td>\n",
       "      <td>Petrol</td>\n",
       "      <td>3.0</td>\n",
       "      <td>25449314</td>\n",
       "    </tr>\n",
       "    <tr>\n",
       "      <th>8</th>\n",
       "      <td>8</td>\n",
       "      <td>2019</td>\n",
       "      <td>28990.0</td>\n",
       "      <td>Automatic</td>\n",
       "      <td>14137.0</td>\n",
       "      <td>Hybrid</td>\n",
       "      <td>2.0</td>\n",
       "      <td>25046820</td>\n",
       "    </tr>\n",
       "    <tr>\n",
       "      <th>9</th>\n",
       "      <td>9</td>\n",
       "      <td>2019</td>\n",
       "      <td>28990.0</td>\n",
       "      <td>Automatic</td>\n",
       "      <td>14137.0</td>\n",
       "      <td>Hybrid</td>\n",
       "      <td>2.0</td>\n",
       "      <td>25046821</td>\n",
       "    </tr>\n",
       "  </tbody>\n",
       "</table>\n",
       "</div>"
      ],
      "text/plain": [
       "   index  year    price transmission  mileage fuel type  engine size reference\n",
       "0      0  2020  30495.0    Automatic  14137.0    Hybrid          2.0  25017331\n",
       "1      1  2020  29989.0    Automatic  14137.0    Petrol         15.0  25043746\n",
       "2      2  2020  37899.0    Automatic  14137.0    Diesel          2.0  25142894\n",
       "3      3  2019  30399.0    Automatic  14137.0    Hybrid          2.0  24942816\n",
       "4      4  2019  29899.0    Automatic  14137.0    Diesel          2.0  24913660\n",
       "5      5  2020  30999.0    Automatic  14137.0    Hybrid          2.0  25059312\n",
       "6      6  2020  35999.0    Automatic  14137.0    Diesel          2.0  25418851\n",
       "7      7  2019  37990.0    Automatic  14137.0    Petrol          3.0  25449314\n",
       "8      8  2019  28990.0    Automatic  14137.0    Hybrid          2.0  25046820\n",
       "9      9  2019  28990.0    Automatic  14137.0    Hybrid          2.0  25046821"
      ]
     },
     "execution_count": 61,
     "metadata": {},
     "output_type": "execute_result"
    }
   ],
   "source": [
    "car.head(10)"
   ]
  },
  {
   "cell_type": "code",
   "execution_count": 62,
   "metadata": {},
   "outputs": [
    {
     "name": "stdout",
     "output_type": "stream",
     "text": [
      "<class 'pandas.core.frame.DataFrame'>\n",
      "RangeIndex: 3904 entries, 0 to 3903\n",
      "Data columns (total 8 columns):\n",
      " #   Column        Non-Null Count  Dtype  \n",
      "---  ------        --------------  -----  \n",
      " 0   index         3904 non-null   int64  \n",
      " 1   year          3904 non-null   int32  \n",
      " 2   price         3904 non-null   float64\n",
      " 3   transmission  3904 non-null   object \n",
      " 4   mileage       3904 non-null   float64\n",
      " 5   fuel type     3904 non-null   object \n",
      " 6   engine size   3904 non-null   float64\n",
      " 7   reference     3904 non-null   object \n",
      "dtypes: float64(3), int32(1), int64(1), object(3)\n",
      "memory usage: 228.9+ KB\n"
     ]
    }
   ],
   "source": [
    "car.info()\n",
    "# all count is equal"
   ]
  },
  {
   "cell_type": "code",
   "execution_count": 63,
   "metadata": {},
   "outputs": [
    {
     "data": {
      "text/plain": [
       "index           0\n",
       "year            0\n",
       "price           0\n",
       "transmission    0\n",
       "mileage         0\n",
       "fuel type       0\n",
       "engine size     0\n",
       "reference       0\n",
       "dtype: int64"
      ]
     },
     "execution_count": 63,
     "metadata": {},
     "output_type": "execute_result"
    }
   ],
   "source": [
    "car.isnull().sum()\n",
    "#no nan"
   ]
  },
  {
   "cell_type": "code",
   "execution_count": 64,
   "metadata": {},
   "outputs": [
    {
     "data": {
      "text/html": [
       "<div>\n",
       "<style scoped>\n",
       "    .dataframe tbody tr th:only-of-type {\n",
       "        vertical-align: middle;\n",
       "    }\n",
       "\n",
       "    .dataframe tbody tr th {\n",
       "        vertical-align: top;\n",
       "    }\n",
       "\n",
       "    .dataframe thead th {\n",
       "        text-align: right;\n",
       "    }\n",
       "</style>\n",
       "<table border=\"1\" class=\"dataframe\">\n",
       "  <thead>\n",
       "    <tr style=\"text-align: right;\">\n",
       "      <th></th>\n",
       "      <th>index</th>\n",
       "      <th>year</th>\n",
       "      <th>price</th>\n",
       "      <th>mileage</th>\n",
       "      <th>engine size</th>\n",
       "    </tr>\n",
       "  </thead>\n",
       "  <tbody>\n",
       "    <tr>\n",
       "      <th>count</th>\n",
       "      <td>3904.000000</td>\n",
       "      <td>3904.000000</td>\n",
       "      <td>3904.000000</td>\n",
       "      <td>3904.000000</td>\n",
       "      <td>3904.000000</td>\n",
       "    </tr>\n",
       "    <tr>\n",
       "      <th>mean</th>\n",
       "      <td>2037.601691</td>\n",
       "      <td>2017.341189</td>\n",
       "      <td>23689.205943</td>\n",
       "      <td>21921.892418</td>\n",
       "      <td>141.508348</td>\n",
       "    </tr>\n",
       "    <tr>\n",
       "      <th>std</th>\n",
       "      <td>1133.884606</td>\n",
       "      <td>2.213643</td>\n",
       "      <td>8968.716673</td>\n",
       "      <td>22323.351760</td>\n",
       "      <td>232.689737</td>\n",
       "    </tr>\n",
       "    <tr>\n",
       "      <th>min</th>\n",
       "      <td>0.000000</td>\n",
       "      <td>1991.000000</td>\n",
       "      <td>1290.000000</td>\n",
       "      <td>1.000000</td>\n",
       "      <td>2.000000</td>\n",
       "    </tr>\n",
       "    <tr>\n",
       "      <th>25%</th>\n",
       "      <td>1059.750000</td>\n",
       "      <td>2016.000000</td>\n",
       "      <td>17693.750000</td>\n",
       "      <td>6066.250000</td>\n",
       "      <td>125.000000</td>\n",
       "    </tr>\n",
       "    <tr>\n",
       "      <th>50%</th>\n",
       "      <td>2035.500000</td>\n",
       "      <td>2018.000000</td>\n",
       "      <td>22980.000000</td>\n",
       "      <td>14139.000000</td>\n",
       "      <td>145.000000</td>\n",
       "    </tr>\n",
       "    <tr>\n",
       "      <th>75%</th>\n",
       "      <td>3013.250000</td>\n",
       "      <td>2019.000000</td>\n",
       "      <td>28901.000000</td>\n",
       "      <td>31128.750000</td>\n",
       "      <td>145.000000</td>\n",
       "    </tr>\n",
       "    <tr>\n",
       "      <th>max</th>\n",
       "      <td>4005.000000</td>\n",
       "      <td>2020.000000</td>\n",
       "      <td>88995.000000</td>\n",
       "      <td>173000.000000</td>\n",
       "      <td>5400.000000</td>\n",
       "    </tr>\n",
       "  </tbody>\n",
       "</table>\n",
       "</div>"
      ],
      "text/plain": [
       "             index         year         price        mileage  engine size\n",
       "count  3904.000000  3904.000000   3904.000000    3904.000000  3904.000000\n",
       "mean   2037.601691  2017.341189  23689.205943   21921.892418   141.508348\n",
       "std    1133.884606     2.213643   8968.716673   22323.351760   232.689737\n",
       "min       0.000000  1991.000000   1290.000000       1.000000     2.000000\n",
       "25%    1059.750000  2016.000000  17693.750000    6066.250000   125.000000\n",
       "50%    2035.500000  2018.000000  22980.000000   14139.000000   145.000000\n",
       "75%    3013.250000  2019.000000  28901.000000   31128.750000   145.000000\n",
       "max    4005.000000  2020.000000  88995.000000  173000.000000  5400.000000"
      ]
     },
     "execution_count": 64,
     "metadata": {},
     "output_type": "execute_result"
    }
   ],
   "source": [
    "car.describe()"
   ]
  },
  {
   "cell_type": "code",
   "execution_count": null,
   "metadata": {},
   "outputs": [],
   "source": []
  },
  {
   "cell_type": "markdown",
   "metadata": {},
   "source": [
    "# normaliztion "
   ]
  },
  {
   "cell_type": "code",
   "execution_count": 65,
   "metadata": {},
   "outputs": [],
   "source": [
    "car2=car.copy()"
   ]
  },
  {
   "cell_type": "code",
   "execution_count": 66,
   "metadata": {},
   "outputs": [
    {
     "data": {
      "text/html": [
       "<div>\n",
       "<style scoped>\n",
       "    .dataframe tbody tr th:only-of-type {\n",
       "        vertical-align: middle;\n",
       "    }\n",
       "\n",
       "    .dataframe tbody tr th {\n",
       "        vertical-align: top;\n",
       "    }\n",
       "\n",
       "    .dataframe thead th {\n",
       "        text-align: right;\n",
       "    }\n",
       "</style>\n",
       "<table border=\"1\" class=\"dataframe\">\n",
       "  <thead>\n",
       "    <tr style=\"text-align: right;\">\n",
       "      <th></th>\n",
       "      <th>index</th>\n",
       "      <th>year</th>\n",
       "      <th>price</th>\n",
       "      <th>transmission</th>\n",
       "      <th>mileage</th>\n",
       "      <th>fuel type</th>\n",
       "      <th>engine size</th>\n",
       "      <th>reference</th>\n",
       "    </tr>\n",
       "  </thead>\n",
       "  <tbody>\n",
       "    <tr>\n",
       "      <th>0</th>\n",
       "      <td>0</td>\n",
       "      <td>2020</td>\n",
       "      <td>30495.0</td>\n",
       "      <td>Automatic</td>\n",
       "      <td>14137.0</td>\n",
       "      <td>Hybrid</td>\n",
       "      <td>2.0</td>\n",
       "      <td>25017331</td>\n",
       "    </tr>\n",
       "    <tr>\n",
       "      <th>1</th>\n",
       "      <td>1</td>\n",
       "      <td>2020</td>\n",
       "      <td>29989.0</td>\n",
       "      <td>Automatic</td>\n",
       "      <td>14137.0</td>\n",
       "      <td>Petrol</td>\n",
       "      <td>15.0</td>\n",
       "      <td>25043746</td>\n",
       "    </tr>\n",
       "    <tr>\n",
       "      <th>2</th>\n",
       "      <td>2</td>\n",
       "      <td>2020</td>\n",
       "      <td>37899.0</td>\n",
       "      <td>Automatic</td>\n",
       "      <td>14137.0</td>\n",
       "      <td>Diesel</td>\n",
       "      <td>2.0</td>\n",
       "      <td>25142894</td>\n",
       "    </tr>\n",
       "    <tr>\n",
       "      <th>3</th>\n",
       "      <td>3</td>\n",
       "      <td>2019</td>\n",
       "      <td>30399.0</td>\n",
       "      <td>Automatic</td>\n",
       "      <td>14137.0</td>\n",
       "      <td>Hybrid</td>\n",
       "      <td>2.0</td>\n",
       "      <td>24942816</td>\n",
       "    </tr>\n",
       "    <tr>\n",
       "      <th>4</th>\n",
       "      <td>4</td>\n",
       "      <td>2019</td>\n",
       "      <td>29899.0</td>\n",
       "      <td>Automatic</td>\n",
       "      <td>14137.0</td>\n",
       "      <td>Diesel</td>\n",
       "      <td>2.0</td>\n",
       "      <td>24913660</td>\n",
       "    </tr>\n",
       "  </tbody>\n",
       "</table>\n",
       "</div>"
      ],
      "text/plain": [
       "   index  year    price transmission  mileage fuel type  engine size reference\n",
       "0      0  2020  30495.0    Automatic  14137.0    Hybrid          2.0  25017331\n",
       "1      1  2020  29989.0    Automatic  14137.0    Petrol         15.0  25043746\n",
       "2      2  2020  37899.0    Automatic  14137.0    Diesel          2.0  25142894\n",
       "3      3  2019  30399.0    Automatic  14137.0    Hybrid          2.0  24942816\n",
       "4      4  2019  29899.0    Automatic  14137.0    Diesel          2.0  24913660"
      ]
     },
     "execution_count": 66,
     "metadata": {},
     "output_type": "execute_result"
    }
   ],
   "source": [
    "car2.head()"
   ]
  },
  {
   "cell_type": "code",
   "execution_count": 67,
   "metadata": {},
   "outputs": [],
   "source": [
    "def z_score_norm(x):\n",
    "    return (x-x.mean())/x.std()"
   ]
  },
  {
   "cell_type": "code",
   "execution_count": 68,
   "metadata": {},
   "outputs": [],
   "source": [
    "def min_max_norm(x,new_min,new_max):\n",
    "    min_max=(((x-x.min())/(x.max()-x.min()))*(new_max-new_min))+(new_min)\n",
    "    return min_max"
   ]
  },
  {
   "cell_type": "code",
   "execution_count": 69,
   "metadata": {},
   "outputs": [],
   "source": [
    "def dec_scal_norm(x):\n",
    "    j=len(str(x.max()))\n",
    "    dec_scal=x/(10**j)\n",
    "    return dec_scal"
   ]
  },
  {
   "cell_type": "code",
   "execution_count": 70,
   "metadata": {},
   "outputs": [],
   "source": [
    "car2['price']=dec_scal_norm(np.array(car2.price.to_list()))"
   ]
  },
  {
   "cell_type": "code",
   "execution_count": 71,
   "metadata": {},
   "outputs": [
    {
     "data": {
      "text/html": [
       "<div>\n",
       "<style scoped>\n",
       "    .dataframe tbody tr th:only-of-type {\n",
       "        vertical-align: middle;\n",
       "    }\n",
       "\n",
       "    .dataframe tbody tr th {\n",
       "        vertical-align: top;\n",
       "    }\n",
       "\n",
       "    .dataframe thead th {\n",
       "        text-align: right;\n",
       "    }\n",
       "</style>\n",
       "<table border=\"1\" class=\"dataframe\">\n",
       "  <thead>\n",
       "    <tr style=\"text-align: right;\">\n",
       "      <th></th>\n",
       "      <th>index</th>\n",
       "      <th>year</th>\n",
       "      <th>price</th>\n",
       "      <th>transmission</th>\n",
       "      <th>mileage</th>\n",
       "      <th>fuel type</th>\n",
       "      <th>engine size</th>\n",
       "      <th>reference</th>\n",
       "    </tr>\n",
       "  </thead>\n",
       "  <tbody>\n",
       "    <tr>\n",
       "      <th>0</th>\n",
       "      <td>0</td>\n",
       "      <td>2020</td>\n",
       "      <td>0.003050</td>\n",
       "      <td>Automatic</td>\n",
       "      <td>14137.0</td>\n",
       "      <td>Hybrid</td>\n",
       "      <td>2.0</td>\n",
       "      <td>25017331</td>\n",
       "    </tr>\n",
       "    <tr>\n",
       "      <th>1</th>\n",
       "      <td>1</td>\n",
       "      <td>2020</td>\n",
       "      <td>0.002999</td>\n",
       "      <td>Automatic</td>\n",
       "      <td>14137.0</td>\n",
       "      <td>Petrol</td>\n",
       "      <td>15.0</td>\n",
       "      <td>25043746</td>\n",
       "    </tr>\n",
       "    <tr>\n",
       "      <th>2</th>\n",
       "      <td>2</td>\n",
       "      <td>2020</td>\n",
       "      <td>0.003790</td>\n",
       "      <td>Automatic</td>\n",
       "      <td>14137.0</td>\n",
       "      <td>Diesel</td>\n",
       "      <td>2.0</td>\n",
       "      <td>25142894</td>\n",
       "    </tr>\n",
       "    <tr>\n",
       "      <th>3</th>\n",
       "      <td>3</td>\n",
       "      <td>2019</td>\n",
       "      <td>0.003040</td>\n",
       "      <td>Automatic</td>\n",
       "      <td>14137.0</td>\n",
       "      <td>Hybrid</td>\n",
       "      <td>2.0</td>\n",
       "      <td>24942816</td>\n",
       "    </tr>\n",
       "    <tr>\n",
       "      <th>4</th>\n",
       "      <td>4</td>\n",
       "      <td>2019</td>\n",
       "      <td>0.002990</td>\n",
       "      <td>Automatic</td>\n",
       "      <td>14137.0</td>\n",
       "      <td>Diesel</td>\n",
       "      <td>2.0</td>\n",
       "      <td>24913660</td>\n",
       "    </tr>\n",
       "  </tbody>\n",
       "</table>\n",
       "</div>"
      ],
      "text/plain": [
       "   index  year     price transmission  mileage fuel type  engine size  \\\n",
       "0      0  2020  0.003050    Automatic  14137.0    Hybrid          2.0   \n",
       "1      1  2020  0.002999    Automatic  14137.0    Petrol         15.0   \n",
       "2      2  2020  0.003790    Automatic  14137.0    Diesel          2.0   \n",
       "3      3  2019  0.003040    Automatic  14137.0    Hybrid          2.0   \n",
       "4      4  2019  0.002990    Automatic  14137.0    Diesel          2.0   \n",
       "\n",
       "  reference  \n",
       "0  25017331  \n",
       "1  25043746  \n",
       "2  25142894  \n",
       "3  24942816  \n",
       "4  24913660  "
      ]
     },
     "execution_count": 71,
     "metadata": {},
     "output_type": "execute_result"
    }
   ],
   "source": [
    "car2.head()"
   ]
  },
  {
   "cell_type": "code",
   "execution_count": 72,
   "metadata": {},
   "outputs": [],
   "source": [
    "car2['mileage']=min_max_norm(np.array(car2.mileage.to_list()),0,1)"
   ]
  },
  {
   "cell_type": "code",
   "execution_count": 73,
   "metadata": {},
   "outputs": [
    {
     "data": {
      "text/html": [
       "<div>\n",
       "<style scoped>\n",
       "    .dataframe tbody tr th:only-of-type {\n",
       "        vertical-align: middle;\n",
       "    }\n",
       "\n",
       "    .dataframe tbody tr th {\n",
       "        vertical-align: top;\n",
       "    }\n",
       "\n",
       "    .dataframe thead th {\n",
       "        text-align: right;\n",
       "    }\n",
       "</style>\n",
       "<table border=\"1\" class=\"dataframe\">\n",
       "  <thead>\n",
       "    <tr style=\"text-align: right;\">\n",
       "      <th></th>\n",
       "      <th>index</th>\n",
       "      <th>year</th>\n",
       "      <th>price</th>\n",
       "      <th>transmission</th>\n",
       "      <th>mileage</th>\n",
       "      <th>fuel type</th>\n",
       "      <th>engine size</th>\n",
       "      <th>reference</th>\n",
       "    </tr>\n",
       "  </thead>\n",
       "  <tbody>\n",
       "    <tr>\n",
       "      <th>0</th>\n",
       "      <td>0</td>\n",
       "      <td>2020</td>\n",
       "      <td>0.003050</td>\n",
       "      <td>Automatic</td>\n",
       "      <td>0.081711</td>\n",
       "      <td>Hybrid</td>\n",
       "      <td>2.0</td>\n",
       "      <td>25017331</td>\n",
       "    </tr>\n",
       "    <tr>\n",
       "      <th>1</th>\n",
       "      <td>1</td>\n",
       "      <td>2020</td>\n",
       "      <td>0.002999</td>\n",
       "      <td>Automatic</td>\n",
       "      <td>0.081711</td>\n",
       "      <td>Petrol</td>\n",
       "      <td>15.0</td>\n",
       "      <td>25043746</td>\n",
       "    </tr>\n",
       "    <tr>\n",
       "      <th>2</th>\n",
       "      <td>2</td>\n",
       "      <td>2020</td>\n",
       "      <td>0.003790</td>\n",
       "      <td>Automatic</td>\n",
       "      <td>0.081711</td>\n",
       "      <td>Diesel</td>\n",
       "      <td>2.0</td>\n",
       "      <td>25142894</td>\n",
       "    </tr>\n",
       "    <tr>\n",
       "      <th>3</th>\n",
       "      <td>3</td>\n",
       "      <td>2019</td>\n",
       "      <td>0.003040</td>\n",
       "      <td>Automatic</td>\n",
       "      <td>0.081711</td>\n",
       "      <td>Hybrid</td>\n",
       "      <td>2.0</td>\n",
       "      <td>24942816</td>\n",
       "    </tr>\n",
       "    <tr>\n",
       "      <th>4</th>\n",
       "      <td>4</td>\n",
       "      <td>2019</td>\n",
       "      <td>0.002990</td>\n",
       "      <td>Automatic</td>\n",
       "      <td>0.081711</td>\n",
       "      <td>Diesel</td>\n",
       "      <td>2.0</td>\n",
       "      <td>24913660</td>\n",
       "    </tr>\n",
       "  </tbody>\n",
       "</table>\n",
       "</div>"
      ],
      "text/plain": [
       "   index  year     price transmission   mileage fuel type  engine size  \\\n",
       "0      0  2020  0.003050    Automatic  0.081711    Hybrid          2.0   \n",
       "1      1  2020  0.002999    Automatic  0.081711    Petrol         15.0   \n",
       "2      2  2020  0.003790    Automatic  0.081711    Diesel          2.0   \n",
       "3      3  2019  0.003040    Automatic  0.081711    Hybrid          2.0   \n",
       "4      4  2019  0.002990    Automatic  0.081711    Diesel          2.0   \n",
       "\n",
       "  reference  \n",
       "0  25017331  \n",
       "1  25043746  \n",
       "2  25142894  \n",
       "3  24942816  \n",
       "4  24913660  "
      ]
     },
     "execution_count": 73,
     "metadata": {},
     "output_type": "execute_result"
    }
   ],
   "source": [
    "car2.head()"
   ]
  },
  {
   "cell_type": "code",
   "execution_count": 74,
   "metadata": {},
   "outputs": [],
   "source": [
    "car2['engine size']=z_score_norm(np.array(car2['engine size'].to_list()))"
   ]
  },
  {
   "cell_type": "code",
   "execution_count": 75,
   "metadata": {},
   "outputs": [
    {
     "data": {
      "text/html": [
       "<div>\n",
       "<style scoped>\n",
       "    .dataframe tbody tr th:only-of-type {\n",
       "        vertical-align: middle;\n",
       "    }\n",
       "\n",
       "    .dataframe tbody tr th {\n",
       "        vertical-align: top;\n",
       "    }\n",
       "\n",
       "    .dataframe thead th {\n",
       "        text-align: right;\n",
       "    }\n",
       "</style>\n",
       "<table border=\"1\" class=\"dataframe\">\n",
       "  <thead>\n",
       "    <tr style=\"text-align: right;\">\n",
       "      <th></th>\n",
       "      <th>index</th>\n",
       "      <th>year</th>\n",
       "      <th>price</th>\n",
       "      <th>transmission</th>\n",
       "      <th>mileage</th>\n",
       "      <th>fuel type</th>\n",
       "      <th>engine size</th>\n",
       "      <th>reference</th>\n",
       "    </tr>\n",
       "  </thead>\n",
       "  <tbody>\n",
       "    <tr>\n",
       "      <th>0</th>\n",
       "      <td>0</td>\n",
       "      <td>2020</td>\n",
       "      <td>0.003050</td>\n",
       "      <td>Automatic</td>\n",
       "      <td>0.081711</td>\n",
       "      <td>Hybrid</td>\n",
       "      <td>-0.599623</td>\n",
       "      <td>25017331</td>\n",
       "    </tr>\n",
       "    <tr>\n",
       "      <th>1</th>\n",
       "      <td>1</td>\n",
       "      <td>2020</td>\n",
       "      <td>0.002999</td>\n",
       "      <td>Automatic</td>\n",
       "      <td>0.081711</td>\n",
       "      <td>Petrol</td>\n",
       "      <td>-0.543748</td>\n",
       "      <td>25043746</td>\n",
       "    </tr>\n",
       "    <tr>\n",
       "      <th>2</th>\n",
       "      <td>2</td>\n",
       "      <td>2020</td>\n",
       "      <td>0.003790</td>\n",
       "      <td>Automatic</td>\n",
       "      <td>0.081711</td>\n",
       "      <td>Diesel</td>\n",
       "      <td>-0.599623</td>\n",
       "      <td>25142894</td>\n",
       "    </tr>\n",
       "    <tr>\n",
       "      <th>3</th>\n",
       "      <td>3</td>\n",
       "      <td>2019</td>\n",
       "      <td>0.003040</td>\n",
       "      <td>Automatic</td>\n",
       "      <td>0.081711</td>\n",
       "      <td>Hybrid</td>\n",
       "      <td>-0.599623</td>\n",
       "      <td>24942816</td>\n",
       "    </tr>\n",
       "    <tr>\n",
       "      <th>4</th>\n",
       "      <td>4</td>\n",
       "      <td>2019</td>\n",
       "      <td>0.002990</td>\n",
       "      <td>Automatic</td>\n",
       "      <td>0.081711</td>\n",
       "      <td>Diesel</td>\n",
       "      <td>-0.599623</td>\n",
       "      <td>24913660</td>\n",
       "    </tr>\n",
       "  </tbody>\n",
       "</table>\n",
       "</div>"
      ],
      "text/plain": [
       "   index  year     price transmission   mileage fuel type  engine size  \\\n",
       "0      0  2020  0.003050    Automatic  0.081711    Hybrid    -0.599623   \n",
       "1      1  2020  0.002999    Automatic  0.081711    Petrol    -0.543748   \n",
       "2      2  2020  0.003790    Automatic  0.081711    Diesel    -0.599623   \n",
       "3      3  2019  0.003040    Automatic  0.081711    Hybrid    -0.599623   \n",
       "4      4  2019  0.002990    Automatic  0.081711    Diesel    -0.599623   \n",
       "\n",
       "  reference  \n",
       "0  25017331  \n",
       "1  25043746  \n",
       "2  25142894  \n",
       "3  24942816  \n",
       "4  24913660  "
      ]
     },
     "execution_count": 75,
     "metadata": {},
     "output_type": "execute_result"
    }
   ],
   "source": [
    "car2.head()"
   ]
  },
  {
   "cell_type": "markdown",
   "metadata": {},
   "source": [
    "# Visualization"
   ]
  },
  {
   "cell_type": "code",
   "execution_count": 76,
   "metadata": {},
   "outputs": [],
   "source": [
    "plt.style.use('fivethirtyeight')"
   ]
  },
  {
   "cell_type": "code",
   "execution_count": 77,
   "metadata": {},
   "outputs": [
    {
     "data": {
      "text/plain": [
       "<seaborn.axisgrid.FacetGrid at 0x1e5e99838c8>"
      ]
     },
     "execution_count": 77,
     "metadata": {},
     "output_type": "execute_result"
    },
    {
     "data": {
      "image/png": "[encoded data removed]",
      "text/plain": [
       "<Figure size 360x360 with 1 Axes>"
      ]
     },
     "metadata": {},
     "output_type": "display_data"
    }
   ],
   "source": [
    "sns.displot(car['price'])"
   ]
  },
  {
   "cell_type": "code",
   "execution_count": 78,
   "metadata": {},
   "outputs": [
    {
     "name": "stderr",
     "output_type": "stream",
     "text": [
      "C:\\Users\\ahbaz\\miniconda3\\envs\\tensorflow_2\\lib\\site-packages\\seaborn\\distributions.py:2557: FutureWarning: `distplot` is a deprecated function and will be removed in a future version. Please adapt your code to use either `displot` (a figure-level function with similar flexibility) or `histplot` (an axes-level function for histograms).\n",
      "  warnings.warn(msg, FutureWarning)\n"
     ]
    },
    {
     "data": {
      "text/plain": [
       "<AxesSubplot:xlabel='price', ylabel='Density'>"
      ]
     },
     "execution_count": 78,
     "metadata": {},
     "output_type": "execute_result"
    },
    {
     "data": {
      "image/png": "[encoded data removed]",
      "text/plain": [
       "<Figure size 432x288 with 1 Axes>"
      ]
     },
     "metadata": {},
     "output_type": "display_data"
    }
   ],
   "source": [
    "sns.distplot(car['price'])"
   ]
  },
  {
   "cell_type": "code",
   "execution_count": 79,
   "metadata": {},
   "outputs": [
    {
     "data": {
      "text/plain": [
       "<AxesSubplot:xlabel='transmission', ylabel='price'>"
      ]
     },
     "execution_count": 79,
     "metadata": {},
     "output_type": "execute_result"
    },
    {
     "data": {
      "image/png": "[encoded data removed]",
      "text/plain": [
       "<Figure size 432x288 with 1 Axes>"
      ]
     },
     "metadata": {},
     "output_type": "display_data"
    }
   ],
   "source": [
    "sns.stripplot(x='transmission',\n",
    "            y='price',\n",
    "            data=car,\n",
    "            hue='fuel type'\n",
    "           )"
   ]
  },
  {
   "cell_type": "code",
   "execution_count": 80,
   "metadata": {},
   "outputs": [
    {
     "name": "stderr",
     "output_type": "stream",
     "text": [
      "C:\\Users\\ahbaz\\miniconda3\\envs\\tensorflow_2\\lib\\site-packages\\seaborn\\categorical.py:1296: UserWarning: 79.2% of the points cannot be placed; you may want to decrease the size of the markers or use stripplot.\n",
      "  warnings.warn(msg, UserWarning)\n",
      "C:\\Users\\ahbaz\\miniconda3\\envs\\tensorflow_2\\lib\\site-packages\\seaborn\\categorical.py:1296: UserWarning: 85.1% of the points cannot be placed; you may want to decrease the size of the markers or use stripplot.\n",
      "  warnings.warn(msg, UserWarning)\n",
      "C:\\Users\\ahbaz\\miniconda3\\envs\\tensorflow_2\\lib\\site-packages\\seaborn\\categorical.py:1296: UserWarning: 48.2% of the points cannot be placed; you may want to decrease the size of the markers or use stripplot.\n",
      "  warnings.warn(msg, UserWarning)\n"
     ]
    },
    {
     "data": {
      "text/plain": [
       "<AxesSubplot:xlabel='transmission', ylabel='price'>"
      ]
     },
     "execution_count": 80,
     "metadata": {},
     "output_type": "execute_result"
    },
    {
     "data": {
      "image/png": "[encoded data removed]",
      "text/plain": [
       "<Figure size 432x288 with 1 Axes>"
      ]
     },
     "metadata": {},
     "output_type": "display_data"
    }
   ],
   "source": [
    "sns.swarmplot(x='transmission',\n",
    "            y='price',\n",
    "            data=car,\n",
    "            hue='fuel type'\n",
    "           )"
   ]
  },
  {
   "cell_type": "code",
   "execution_count": 81,
   "metadata": {},
   "outputs": [
    {
     "data": {
      "text/plain": [
       "<AxesSubplot:xlabel='year', ylabel='price'>"
      ]
     },
     "execution_count": 81,
     "metadata": {},
     "output_type": "execute_result"
    },
    {
     "data": {
      "image/png": "[encoded data removed]",
      "text/plain": [
       "<Figure size 432x288 with 1 Axes>"
      ]
     },
     "metadata": {},
     "output_type": "display_data"
    }
   ],
   "source": [
    "sns.barplot(x='year',\n",
    "            y='price',\n",
    "            data=car,\n",
    "           )"
   ]
  },
  {
   "cell_type": "code",
   "execution_count": 82,
   "metadata": {},
   "outputs": [
    {
     "data": {
      "text/plain": [
       "<AxesSubplot:xlabel='transmission', ylabel='price'>"
      ]
     },
     "execution_count": 82,
     "metadata": {},
     "output_type": "execute_result"
    },
    {
     "data": {
      "image/png": "[encoded data removed]",
      "text/plain": [
       "<Figure size 432x288 with 1 Axes>"
      ]
     },
     "metadata": {},
     "output_type": "display_data"
    }
   ],
   "source": [
    "sns.barplot(x='transmission',\n",
    "            y='price',\n",
    "            data=car,\n",
    "            hue='fuel type'\n",
    "           )"
   ]
  },
  {
   "cell_type": "code",
   "execution_count": 83,
   "metadata": {},
   "outputs": [],
   "source": [
    "pivot_price=car.pivot_table(index='year',columns=['transmission','fuel type'],values='price')\n",
    "pivot_mileage=car.pivot_table(index='year',columns=['transmission','fuel type'],values='mileage')\n",
    "pivot_engine=car.pivot_table(index='year',columns=['transmission','fuel type'],values='engine size')"
   ]
  },
  {
   "cell_type": "code",
   "execution_count": 84,
   "metadata": {},
   "outputs": [
    {
     "data": {
      "text/plain": [
       "<AxesSubplot:xlabel='transmission-fuel type', ylabel='year'>"
      ]
     },
     "execution_count": 84,
     "metadata": {},
     "output_type": "execute_result"
    },
    {
     "data": {
      "image/png": "[encoded data removed]",
      "text/plain": [
       "<Figure size 432x288 with 2 Axes>"
      ]
     },
     "metadata": {},
     "output_type": "display_data"
    }
   ],
   "source": [
    "sns.heatmap(pivot_price)"
   ]
  },
  {
   "cell_type": "code",
   "execution_count": 85,
   "metadata": {},
   "outputs": [
    {
     "data": {
      "text/plain": [
       "<AxesSubplot:xlabel='transmission-fuel type', ylabel='year'>"
      ]
     },
     "execution_count": 85,
     "metadata": {},
     "output_type": "execute_result"
    },
    {
     "data": {
      "image/png": "[encoded data removed]",
      "text/plain": [
       "<Figure size 432x288 with 2 Axes>"
      ]
     },
     "metadata": {},
     "output_type": "display_data"
    }
   ],
   "source": [
    "sns.heatmap(pivot_mileage,cmap='winter')"
   ]
  },
  {
   "cell_type": "code",
   "execution_count": 86,
   "metadata": {},
   "outputs": [
    {
     "data": {
      "text/plain": [
       "<AxesSubplot:xlabel='transmission-fuel type', ylabel='year'>"
      ]
     },
     "execution_count": 86,
     "metadata": {},
     "output_type": "execute_result"
    },
    {
     "data": {
      "image/png": "[encoded data removed]",
      "text/plain": [
       "<Figure size 432x288 with 2 Axes>"
      ]
     },
     "metadata": {},
     "output_type": "display_data"
    }
   ],
   "source": [
    "sns.heatmap(pivot_engine,cmap='summer')"
   ]
  },
  {
   "cell_type": "code",
   "execution_count": 87,
   "metadata": {},
   "outputs": [
    {
     "data": {
      "text/plain": [
       "<AxesSubplot:xlabel='transmission', ylabel='price'>"
      ]
     },
     "execution_count": 87,
     "metadata": {},
     "output_type": "execute_result"
    },
    {
     "data": {
      "image/png": "[encoded data removed]",
      "text/plain": [
       "<Figure size 432x288 with 1 Axes>"
      ]
     },
     "metadata": {},
     "output_type": "display_data"
    }
   ],
   "source": [
    "sns.boxplot(x='transmission',\n",
    "            y='price',\n",
    "            data=car)"
   ]
  },
  {
   "cell_type": "code",
   "execution_count": 88,
   "metadata": {},
   "outputs": [
    {
     "data": {
      "text/plain": [
       "<AxesSubplot:xlabel='year', ylabel='price'>"
      ]
     },
     "execution_count": 88,
     "metadata": {},
     "output_type": "execute_result"
    },
    {
     "data": {
      "image/png": "[encoded data removed]",
      "text/plain": [
       "<Figure size 432x288 with 1 Axes>"
      ]
     },
     "metadata": {},
     "output_type": "display_data"
    }
   ],
   "source": [
    "sns.scatterplot(x='year',\n",
    "            y='price',\n",
    "            data=car)"
   ]
  },
  {
   "cell_type": "code",
   "execution_count": 89,
   "metadata": {},
   "outputs": [
    {
     "name": "stderr",
     "output_type": "stream",
     "text": [
      "C:\\Users\\ahbaz\\miniconda3\\envs\\tensorflow_2\\lib\\site-packages\\seaborn\\distributions.py:2557: FutureWarning: `distplot` is a deprecated function and will be removed in a future version. Please adapt your code to use either `displot` (a figure-level function with similar flexibility) or `histplot` (an axes-level function for histograms).\n",
      "  warnings.warn(msg, FutureWarning)\n",
      "C:\\Users\\ahbaz\\miniconda3\\envs\\tensorflow_2\\lib\\site-packages\\seaborn\\distributions.py:2557: FutureWarning: `distplot` is a deprecated function and will be removed in a future version. Please adapt your code to use either `displot` (a figure-level function with similar flexibility) or `histplot` (an axes-level function for histograms).\n",
      "  warnings.warn(msg, FutureWarning)\n"
     ]
    },
    {
     "data": {
      "text/plain": [
       "<AxesSubplot:xlabel='mileage', ylabel='Density'>"
      ]
     },
     "execution_count": 89,
     "metadata": {},
     "output_type": "execute_result"
    },
    {
     "data": {
      "image/png": "[encoded data removed]",
      "text/plain": [
       "<Figure size 432x288 with 1 Axes>"
      ]
     },
     "metadata": {},
     "output_type": "display_data"
    }
   ],
   "source": [
    "sns.distplot(car['price'])\n",
    "sns.distplot(car['mileage'])"
   ]
  },
  {
   "cell_type": "code",
   "execution_count": 90,
   "metadata": {},
   "outputs": [
    {
     "data": {
      "text/html": [
       "<div>\n",
       "<style scoped>\n",
       "    .dataframe tbody tr th:only-of-type {\n",
       "        vertical-align: middle;\n",
       "    }\n",
       "\n",
       "    .dataframe tbody tr th {\n",
       "        vertical-align: top;\n",
       "    }\n",
       "\n",
       "    .dataframe thead th {\n",
       "        text-align: right;\n",
       "    }\n",
       "</style>\n",
       "<table border=\"1\" class=\"dataframe\">\n",
       "  <thead>\n",
       "    <tr style=\"text-align: right;\">\n",
       "      <th></th>\n",
       "      <th>index</th>\n",
       "      <th>year</th>\n",
       "      <th>price</th>\n",
       "      <th>transmission</th>\n",
       "      <th>mileage</th>\n",
       "      <th>fuel type</th>\n",
       "      <th>engine size</th>\n",
       "      <th>reference</th>\n",
       "    </tr>\n",
       "  </thead>\n",
       "  <tbody>\n",
       "    <tr>\n",
       "      <th>0</th>\n",
       "      <td>0</td>\n",
       "      <td>2020</td>\n",
       "      <td>30495.0</td>\n",
       "      <td>Automatic</td>\n",
       "      <td>14137.0</td>\n",
       "      <td>Hybrid</td>\n",
       "      <td>2.0</td>\n",
       "      <td>25017331</td>\n",
       "    </tr>\n",
       "    <tr>\n",
       "      <th>1</th>\n",
       "      <td>1</td>\n",
       "      <td>2020</td>\n",
       "      <td>29989.0</td>\n",
       "      <td>Automatic</td>\n",
       "      <td>14137.0</td>\n",
       "      <td>Petrol</td>\n",
       "      <td>15.0</td>\n",
       "      <td>25043746</td>\n",
       "    </tr>\n",
       "    <tr>\n",
       "      <th>2</th>\n",
       "      <td>2</td>\n",
       "      <td>2020</td>\n",
       "      <td>37899.0</td>\n",
       "      <td>Automatic</td>\n",
       "      <td>14137.0</td>\n",
       "      <td>Diesel</td>\n",
       "      <td>2.0</td>\n",
       "      <td>25142894</td>\n",
       "    </tr>\n",
       "    <tr>\n",
       "      <th>3</th>\n",
       "      <td>3</td>\n",
       "      <td>2019</td>\n",
       "      <td>30399.0</td>\n",
       "      <td>Automatic</td>\n",
       "      <td>14137.0</td>\n",
       "      <td>Hybrid</td>\n",
       "      <td>2.0</td>\n",
       "      <td>24942816</td>\n",
       "    </tr>\n",
       "    <tr>\n",
       "      <th>4</th>\n",
       "      <td>4</td>\n",
       "      <td>2019</td>\n",
       "      <td>29899.0</td>\n",
       "      <td>Automatic</td>\n",
       "      <td>14137.0</td>\n",
       "      <td>Diesel</td>\n",
       "      <td>2.0</td>\n",
       "      <td>24913660</td>\n",
       "    </tr>\n",
       "  </tbody>\n",
       "</table>\n",
       "</div>"
      ],
      "text/plain": [
       "   index  year    price transmission  mileage fuel type  engine size reference\n",
       "0      0  2020  30495.0    Automatic  14137.0    Hybrid          2.0  25017331\n",
       "1      1  2020  29989.0    Automatic  14137.0    Petrol         15.0  25043746\n",
       "2      2  2020  37899.0    Automatic  14137.0    Diesel          2.0  25142894\n",
       "3      3  2019  30399.0    Automatic  14137.0    Hybrid          2.0  24942816\n",
       "4      4  2019  29899.0    Automatic  14137.0    Diesel          2.0  24913660"
      ]
     },
     "execution_count": 90,
     "metadata": {},
     "output_type": "execute_result"
    }
   ],
   "source": [
    "car.head()"
   ]
  },
  {
   "cell_type": "markdown",
   "metadata": {},
   "source": [
    "# Encoding"
   ]
  },
  {
   "cell_type": "code",
   "execution_count": 91,
   "metadata": {},
   "outputs": [],
   "source": [
    "x_corr=car.corr()"
   ]
  },
  {
   "cell_type": "code",
   "execution_count": 92,
   "metadata": {},
   "outputs": [
    {
     "data": {
      "text/plain": [
       "<AxesSubplot:>"
      ]
     },
     "execution_count": 92,
     "metadata": {},
     "output_type": "execute_result"
    },
    {
     "data": {
      "image/png": "[encoded data removed]",
      "text/plain": [
       "<Figure size 432x288 with 2 Axes>"
      ]
     },
     "metadata": {},
     "output_type": "display_data"
    }
   ],
   "source": [
    "sns.heatmap(x_corr)"
   ]
  },
  {
   "cell_type": "markdown",
   "metadata": {},
   "source": [
    "## working on 'transmission' column -> OneHotEncoding"
   ]
  },
  {
   "cell_type": "code",
   "execution_count": 93,
   "metadata": {},
   "outputs": [],
   "source": [
    "car3=car.copy()"
   ]
  },
  {
   "cell_type": "code",
   "execution_count": 94,
   "metadata": {},
   "outputs": [],
   "source": [
    "one_hot_enc=preprocessing.OneHotEncoder(sparse=False)"
   ]
  },
  {
   "cell_type": "code",
   "execution_count": 95,
   "metadata": {},
   "outputs": [
    {
     "data": {
      "text/plain": [
       "array([[1., 0., 0., 0.],\n",
       "       [1., 0., 0., 0.],\n",
       "       [1., 0., 0., 0.],\n",
       "       ...,\n",
       "       [0., 1., 0., 0.],\n",
       "       [1., 0., 0., 0.],\n",
       "       [1., 0., 0., 0.]])"
      ]
     },
     "execution_count": 95,
     "metadata": {},
     "output_type": "execute_result"
    }
   ],
   "source": [
    "data=one_hot_enc.fit_transform(car3[['transmission']])\n",
    "data"
   ]
  },
  {
   "cell_type": "code",
   "execution_count": 96,
   "metadata": {},
   "outputs": [
    {
     "data": {
      "text/plain": [
       "array(['Automatic', 'Manual', 'Other', 'Semi-Auto'], dtype=object)"
      ]
     },
     "execution_count": 96,
     "metadata": {},
     "output_type": "execute_result"
    }
   ],
   "source": [
    "l=one_hot_enc.categories_[0]\n",
    "l"
   ]
  },
  {
   "cell_type": "code",
   "execution_count": 97,
   "metadata": {},
   "outputs": [
    {
     "data": {
      "text/html": [
       "<div>\n",
       "<style scoped>\n",
       "    .dataframe tbody tr th:only-of-type {\n",
       "        vertical-align: middle;\n",
       "    }\n",
       "\n",
       "    .dataframe tbody tr th {\n",
       "        vertical-align: top;\n",
       "    }\n",
       "\n",
       "    .dataframe thead th {\n",
       "        text-align: right;\n",
       "    }\n",
       "</style>\n",
       "<table border=\"1\" class=\"dataframe\">\n",
       "  <thead>\n",
       "    <tr style=\"text-align: right;\">\n",
       "      <th></th>\n",
       "      <th>Automatic</th>\n",
       "      <th>Manual</th>\n",
       "      <th>Other</th>\n",
       "      <th>Semi-Auto</th>\n",
       "    </tr>\n",
       "  </thead>\n",
       "  <tbody>\n",
       "    <tr>\n",
       "      <th>0</th>\n",
       "      <td>1.0</td>\n",
       "      <td>0.0</td>\n",
       "      <td>0.0</td>\n",
       "      <td>0.0</td>\n",
       "    </tr>\n",
       "    <tr>\n",
       "      <th>1</th>\n",
       "      <td>1.0</td>\n",
       "      <td>0.0</td>\n",
       "      <td>0.0</td>\n",
       "      <td>0.0</td>\n",
       "    </tr>\n",
       "    <tr>\n",
       "      <th>2</th>\n",
       "      <td>1.0</td>\n",
       "      <td>0.0</td>\n",
       "      <td>0.0</td>\n",
       "      <td>0.0</td>\n",
       "    </tr>\n",
       "    <tr>\n",
       "      <th>3</th>\n",
       "      <td>1.0</td>\n",
       "      <td>0.0</td>\n",
       "      <td>0.0</td>\n",
       "      <td>0.0</td>\n",
       "    </tr>\n",
       "    <tr>\n",
       "      <th>4</th>\n",
       "      <td>1.0</td>\n",
       "      <td>0.0</td>\n",
       "      <td>0.0</td>\n",
       "      <td>0.0</td>\n",
       "    </tr>\n",
       "    <tr>\n",
       "      <th>...</th>\n",
       "      <td>...</td>\n",
       "      <td>...</td>\n",
       "      <td>...</td>\n",
       "      <td>...</td>\n",
       "    </tr>\n",
       "    <tr>\n",
       "      <th>3899</th>\n",
       "      <td>0.0</td>\n",
       "      <td>1.0</td>\n",
       "      <td>0.0</td>\n",
       "      <td>0.0</td>\n",
       "    </tr>\n",
       "    <tr>\n",
       "      <th>3900</th>\n",
       "      <td>1.0</td>\n",
       "      <td>0.0</td>\n",
       "      <td>0.0</td>\n",
       "      <td>0.0</td>\n",
       "    </tr>\n",
       "    <tr>\n",
       "      <th>3901</th>\n",
       "      <td>0.0</td>\n",
       "      <td>1.0</td>\n",
       "      <td>0.0</td>\n",
       "      <td>0.0</td>\n",
       "    </tr>\n",
       "    <tr>\n",
       "      <th>3902</th>\n",
       "      <td>1.0</td>\n",
       "      <td>0.0</td>\n",
       "      <td>0.0</td>\n",
       "      <td>0.0</td>\n",
       "    </tr>\n",
       "    <tr>\n",
       "      <th>3903</th>\n",
       "      <td>1.0</td>\n",
       "      <td>0.0</td>\n",
       "      <td>0.0</td>\n",
       "      <td>0.0</td>\n",
       "    </tr>\n",
       "  </tbody>\n",
       "</table>\n",
       "<p>3904 rows × 4 columns</p>\n",
       "</div>"
      ],
      "text/plain": [
       "      Automatic  Manual  Other  Semi-Auto\n",
       "0           1.0     0.0    0.0        0.0\n",
       "1           1.0     0.0    0.0        0.0\n",
       "2           1.0     0.0    0.0        0.0\n",
       "3           1.0     0.0    0.0        0.0\n",
       "4           1.0     0.0    0.0        0.0\n",
       "...         ...     ...    ...        ...\n",
       "3899        0.0     1.0    0.0        0.0\n",
       "3900        1.0     0.0    0.0        0.0\n",
       "3901        0.0     1.0    0.0        0.0\n",
       "3902        1.0     0.0    0.0        0.0\n",
       "3903        1.0     0.0    0.0        0.0\n",
       "\n",
       "[3904 rows x 4 columns]"
      ]
     },
     "execution_count": 97,
     "metadata": {},
     "output_type": "execute_result"
    }
   ],
   "source": [
    "new_car3=pd.DataFrame(data,columns=l)\n",
    "new_car3"
   ]
  },
  {
   "cell_type": "code",
   "execution_count": 98,
   "metadata": {},
   "outputs": [
    {
     "data": {
      "text/html": [
       "<div>\n",
       "<style scoped>\n",
       "    .dataframe tbody tr th:only-of-type {\n",
       "        vertical-align: middle;\n",
       "    }\n",
       "\n",
       "    .dataframe tbody tr th {\n",
       "        vertical-align: top;\n",
       "    }\n",
       "\n",
       "    .dataframe thead th {\n",
       "        text-align: right;\n",
       "    }\n",
       "</style>\n",
       "<table border=\"1\" class=\"dataframe\">\n",
       "  <thead>\n",
       "    <tr style=\"text-align: right;\">\n",
       "      <th></th>\n",
       "      <th>index</th>\n",
       "      <th>year</th>\n",
       "      <th>price</th>\n",
       "      <th>mileage</th>\n",
       "      <th>fuel type</th>\n",
       "      <th>engine size</th>\n",
       "      <th>reference</th>\n",
       "      <th>Automatic</th>\n",
       "      <th>Manual</th>\n",
       "      <th>Other</th>\n",
       "      <th>Semi-Auto</th>\n",
       "    </tr>\n",
       "  </thead>\n",
       "  <tbody>\n",
       "    <tr>\n",
       "      <th>0</th>\n",
       "      <td>0</td>\n",
       "      <td>2020</td>\n",
       "      <td>30495.0</td>\n",
       "      <td>14137.0</td>\n",
       "      <td>Hybrid</td>\n",
       "      <td>2.0</td>\n",
       "      <td>25017331</td>\n",
       "      <td>1.0</td>\n",
       "      <td>0.0</td>\n",
       "      <td>0.0</td>\n",
       "      <td>0.0</td>\n",
       "    </tr>\n",
       "    <tr>\n",
       "      <th>1</th>\n",
       "      <td>1</td>\n",
       "      <td>2020</td>\n",
       "      <td>29989.0</td>\n",
       "      <td>14137.0</td>\n",
       "      <td>Petrol</td>\n",
       "      <td>15.0</td>\n",
       "      <td>25043746</td>\n",
       "      <td>1.0</td>\n",
       "      <td>0.0</td>\n",
       "      <td>0.0</td>\n",
       "      <td>0.0</td>\n",
       "    </tr>\n",
       "    <tr>\n",
       "      <th>2</th>\n",
       "      <td>2</td>\n",
       "      <td>2020</td>\n",
       "      <td>37899.0</td>\n",
       "      <td>14137.0</td>\n",
       "      <td>Diesel</td>\n",
       "      <td>2.0</td>\n",
       "      <td>25142894</td>\n",
       "      <td>1.0</td>\n",
       "      <td>0.0</td>\n",
       "      <td>0.0</td>\n",
       "      <td>0.0</td>\n",
       "    </tr>\n",
       "    <tr>\n",
       "      <th>3</th>\n",
       "      <td>3</td>\n",
       "      <td>2019</td>\n",
       "      <td>30399.0</td>\n",
       "      <td>14137.0</td>\n",
       "      <td>Hybrid</td>\n",
       "      <td>2.0</td>\n",
       "      <td>24942816</td>\n",
       "      <td>1.0</td>\n",
       "      <td>0.0</td>\n",
       "      <td>0.0</td>\n",
       "      <td>0.0</td>\n",
       "    </tr>\n",
       "    <tr>\n",
       "      <th>4</th>\n",
       "      <td>4</td>\n",
       "      <td>2019</td>\n",
       "      <td>29899.0</td>\n",
       "      <td>14137.0</td>\n",
       "      <td>Diesel</td>\n",
       "      <td>2.0</td>\n",
       "      <td>24913660</td>\n",
       "      <td>1.0</td>\n",
       "      <td>0.0</td>\n",
       "      <td>0.0</td>\n",
       "      <td>0.0</td>\n",
       "    </tr>\n",
       "    <tr>\n",
       "      <th>...</th>\n",
       "      <td>...</td>\n",
       "      <td>...</td>\n",
       "      <td>...</td>\n",
       "      <td>...</td>\n",
       "      <td>...</td>\n",
       "      <td>...</td>\n",
       "      <td>...</td>\n",
       "      <td>...</td>\n",
       "      <td>...</td>\n",
       "      <td>...</td>\n",
       "      <td>...</td>\n",
       "    </tr>\n",
       "    <tr>\n",
       "      <th>3899</th>\n",
       "      <td>4001</td>\n",
       "      <td>2017</td>\n",
       "      <td>14700.0</td>\n",
       "      <td>31357.0</td>\n",
       "      <td>Diesel</td>\n",
       "      <td>150.0</td>\n",
       "      <td>25451436</td>\n",
       "      <td>0.0</td>\n",
       "      <td>1.0</td>\n",
       "      <td>0.0</td>\n",
       "      <td>0.0</td>\n",
       "    </tr>\n",
       "    <tr>\n",
       "      <th>3900</th>\n",
       "      <td>4002</td>\n",
       "      <td>2018</td>\n",
       "      <td>18500.0</td>\n",
       "      <td>28248.0</td>\n",
       "      <td>Hybrid</td>\n",
       "      <td>150.0</td>\n",
       "      <td>25451481</td>\n",
       "      <td>1.0</td>\n",
       "      <td>0.0</td>\n",
       "      <td>0.0</td>\n",
       "      <td>0.0</td>\n",
       "    </tr>\n",
       "    <tr>\n",
       "      <th>3901</th>\n",
       "      <td>4003</td>\n",
       "      <td>2014</td>\n",
       "      <td>11900.0</td>\n",
       "      <td>48055.0</td>\n",
       "      <td>Petrol</td>\n",
       "      <td>20.0</td>\n",
       "      <td>25057204</td>\n",
       "      <td>0.0</td>\n",
       "      <td>1.0</td>\n",
       "      <td>0.0</td>\n",
       "      <td>0.0</td>\n",
       "    </tr>\n",
       "    <tr>\n",
       "      <th>3902</th>\n",
       "      <td>4004</td>\n",
       "      <td>2014</td>\n",
       "      <td>11300.0</td>\n",
       "      <td>49865.0</td>\n",
       "      <td>Diesel</td>\n",
       "      <td>145.0</td>\n",
       "      <td>25144481</td>\n",
       "      <td>1.0</td>\n",
       "      <td>0.0</td>\n",
       "      <td>0.0</td>\n",
       "      <td>0.0</td>\n",
       "    </tr>\n",
       "    <tr>\n",
       "      <th>3903</th>\n",
       "      <td>4005</td>\n",
       "      <td>2014</td>\n",
       "      <td>14800.0</td>\n",
       "      <td>55445.0</td>\n",
       "      <td>Hybrid</td>\n",
       "      <td>30.0</td>\n",
       "      <td>25154247</td>\n",
       "      <td>1.0</td>\n",
       "      <td>0.0</td>\n",
       "      <td>0.0</td>\n",
       "      <td>0.0</td>\n",
       "    </tr>\n",
       "  </tbody>\n",
       "</table>\n",
       "<p>3904 rows × 11 columns</p>\n",
       "</div>"
      ],
      "text/plain": [
       "      index  year    price  mileage fuel type  engine size reference  \\\n",
       "0         0  2020  30495.0  14137.0    Hybrid          2.0  25017331   \n",
       "1         1  2020  29989.0  14137.0    Petrol         15.0  25043746   \n",
       "2         2  2020  37899.0  14137.0    Diesel          2.0  25142894   \n",
       "3         3  2019  30399.0  14137.0    Hybrid          2.0  24942816   \n",
       "4         4  2019  29899.0  14137.0    Diesel          2.0  24913660   \n",
       "...     ...   ...      ...      ...       ...          ...       ...   \n",
       "3899   4001  2017  14700.0  31357.0    Diesel        150.0  25451436   \n",
       "3900   4002  2018  18500.0  28248.0    Hybrid        150.0  25451481   \n",
       "3901   4003  2014  11900.0  48055.0    Petrol         20.0  25057204   \n",
       "3902   4004  2014  11300.0  49865.0    Diesel        145.0  25144481   \n",
       "3903   4005  2014  14800.0  55445.0    Hybrid         30.0  25154247   \n",
       "\n",
       "      Automatic  Manual  Other  Semi-Auto  \n",
       "0           1.0     0.0    0.0        0.0  \n",
       "1           1.0     0.0    0.0        0.0  \n",
       "2           1.0     0.0    0.0        0.0  \n",
       "3           1.0     0.0    0.0        0.0  \n",
       "4           1.0     0.0    0.0        0.0  \n",
       "...         ...     ...    ...        ...  \n",
       "3899        0.0     1.0    0.0        0.0  \n",
       "3900        1.0     0.0    0.0        0.0  \n",
       "3901        0.0     1.0    0.0        0.0  \n",
       "3902        1.0     0.0    0.0        0.0  \n",
       "3903        1.0     0.0    0.0        0.0  \n",
       "\n",
       "[3904 rows x 11 columns]"
      ]
     },
     "execution_count": 98,
     "metadata": {},
     "output_type": "execute_result"
    }
   ],
   "source": [
    "new_car3=pd.concat([car3,new_car3],axis=1).drop(columns=['transmission'])\n",
    "new_car3"
   ]
  },
  {
   "cell_type": "markdown",
   "metadata": {},
   "source": [
    "## working on 'fuel type' column -> LabelBinarizer"
   ]
  },
  {
   "cell_type": "code",
   "execution_count": 99,
   "metadata": {},
   "outputs": [],
   "source": [
    "lab_bin=preprocessing.LabelBinarizer()"
   ]
  },
  {
   "cell_type": "code",
   "execution_count": 100,
   "metadata": {},
   "outputs": [
    {
     "data": {
      "text/plain": [
       "array([[0, 1, 0],\n",
       "       [0, 0, 1],\n",
       "       [1, 0, 0],\n",
       "       ...,\n",
       "       [0, 0, 1],\n",
       "       [1, 0, 0],\n",
       "       [0, 1, 0]])"
      ]
     },
     "execution_count": 100,
     "metadata": {},
     "output_type": "execute_result"
    }
   ],
   "source": [
    "data2=lab_bin.fit_transform(new_car3['fuel type'])\n",
    "data2"
   ]
  },
  {
   "cell_type": "code",
   "execution_count": 101,
   "metadata": {},
   "outputs": [
    {
     "data": {
      "text/plain": [
       "array(['Diesel', 'Hybrid', 'Petrol'], dtype='<U6')"
      ]
     },
     "execution_count": 101,
     "metadata": {},
     "output_type": "execute_result"
    }
   ],
   "source": [
    "l2=lab_bin.classes_\n",
    "l2"
   ]
  },
  {
   "cell_type": "code",
   "execution_count": 102,
   "metadata": {},
   "outputs": [
    {
     "data": {
      "text/html": [
       "<div>\n",
       "<style scoped>\n",
       "    .dataframe tbody tr th:only-of-type {\n",
       "        vertical-align: middle;\n",
       "    }\n",
       "\n",
       "    .dataframe tbody tr th {\n",
       "        vertical-align: top;\n",
       "    }\n",
       "\n",
       "    .dataframe thead th {\n",
       "        text-align: right;\n",
       "    }\n",
       "</style>\n",
       "<table border=\"1\" class=\"dataframe\">\n",
       "  <thead>\n",
       "    <tr style=\"text-align: right;\">\n",
       "      <th></th>\n",
       "      <th>Diesel</th>\n",
       "      <th>Hybrid</th>\n",
       "      <th>Petrol</th>\n",
       "    </tr>\n",
       "  </thead>\n",
       "  <tbody>\n",
       "    <tr>\n",
       "      <th>0</th>\n",
       "      <td>0</td>\n",
       "      <td>1</td>\n",
       "      <td>0</td>\n",
       "    </tr>\n",
       "    <tr>\n",
       "      <th>1</th>\n",
       "      <td>0</td>\n",
       "      <td>0</td>\n",
       "      <td>1</td>\n",
       "    </tr>\n",
       "    <tr>\n",
       "      <th>2</th>\n",
       "      <td>1</td>\n",
       "      <td>0</td>\n",
       "      <td>0</td>\n",
       "    </tr>\n",
       "    <tr>\n",
       "      <th>3</th>\n",
       "      <td>0</td>\n",
       "      <td>1</td>\n",
       "      <td>0</td>\n",
       "    </tr>\n",
       "    <tr>\n",
       "      <th>4</th>\n",
       "      <td>1</td>\n",
       "      <td>0</td>\n",
       "      <td>0</td>\n",
       "    </tr>\n",
       "    <tr>\n",
       "      <th>...</th>\n",
       "      <td>...</td>\n",
       "      <td>...</td>\n",
       "      <td>...</td>\n",
       "    </tr>\n",
       "    <tr>\n",
       "      <th>3899</th>\n",
       "      <td>1</td>\n",
       "      <td>0</td>\n",
       "      <td>0</td>\n",
       "    </tr>\n",
       "    <tr>\n",
       "      <th>3900</th>\n",
       "      <td>0</td>\n",
       "      <td>1</td>\n",
       "      <td>0</td>\n",
       "    </tr>\n",
       "    <tr>\n",
       "      <th>3901</th>\n",
       "      <td>0</td>\n",
       "      <td>0</td>\n",
       "      <td>1</td>\n",
       "    </tr>\n",
       "    <tr>\n",
       "      <th>3902</th>\n",
       "      <td>1</td>\n",
       "      <td>0</td>\n",
       "      <td>0</td>\n",
       "    </tr>\n",
       "    <tr>\n",
       "      <th>3903</th>\n",
       "      <td>0</td>\n",
       "      <td>1</td>\n",
       "      <td>0</td>\n",
       "    </tr>\n",
       "  </tbody>\n",
       "</table>\n",
       "<p>3904 rows × 3 columns</p>\n",
       "</div>"
      ],
      "text/plain": [
       "      Diesel  Hybrid  Petrol\n",
       "0          0       1       0\n",
       "1          0       0       1\n",
       "2          1       0       0\n",
       "3          0       1       0\n",
       "4          1       0       0\n",
       "...      ...     ...     ...\n",
       "3899       1       0       0\n",
       "3900       0       1       0\n",
       "3901       0       0       1\n",
       "3902       1       0       0\n",
       "3903       0       1       0\n",
       "\n",
       "[3904 rows x 3 columns]"
      ]
     },
     "execution_count": 102,
     "metadata": {},
     "output_type": "execute_result"
    }
   ],
   "source": [
    "car4=pd.DataFrame(data=data2,columns=l2)\n",
    "car4"
   ]
  },
  {
   "cell_type": "code",
   "execution_count": 103,
   "metadata": {},
   "outputs": [
    {
     "data": {
      "text/html": [
       "<div>\n",
       "<style scoped>\n",
       "    .dataframe tbody tr th:only-of-type {\n",
       "        vertical-align: middle;\n",
       "    }\n",
       "\n",
       "    .dataframe tbody tr th {\n",
       "        vertical-align: top;\n",
       "    }\n",
       "\n",
       "    .dataframe thead th {\n",
       "        text-align: right;\n",
       "    }\n",
       "</style>\n",
       "<table border=\"1\" class=\"dataframe\">\n",
       "  <thead>\n",
       "    <tr style=\"text-align: right;\">\n",
       "      <th></th>\n",
       "      <th>index</th>\n",
       "      <th>year</th>\n",
       "      <th>price</th>\n",
       "      <th>mileage</th>\n",
       "      <th>engine size</th>\n",
       "      <th>reference</th>\n",
       "      <th>Automatic</th>\n",
       "      <th>Manual</th>\n",
       "      <th>Other</th>\n",
       "      <th>Semi-Auto</th>\n",
       "      <th>Diesel</th>\n",
       "      <th>Hybrid</th>\n",
       "      <th>Petrol</th>\n",
       "    </tr>\n",
       "  </thead>\n",
       "  <tbody>\n",
       "    <tr>\n",
       "      <th>0</th>\n",
       "      <td>0</td>\n",
       "      <td>2020</td>\n",
       "      <td>30495.0</td>\n",
       "      <td>14137.0</td>\n",
       "      <td>2.0</td>\n",
       "      <td>25017331</td>\n",
       "      <td>1.0</td>\n",
       "      <td>0.0</td>\n",
       "      <td>0.0</td>\n",
       "      <td>0.0</td>\n",
       "      <td>0</td>\n",
       "      <td>1</td>\n",
       "      <td>0</td>\n",
       "    </tr>\n",
       "    <tr>\n",
       "      <th>1</th>\n",
       "      <td>1</td>\n",
       "      <td>2020</td>\n",
       "      <td>29989.0</td>\n",
       "      <td>14137.0</td>\n",
       "      <td>15.0</td>\n",
       "      <td>25043746</td>\n",
       "      <td>1.0</td>\n",
       "      <td>0.0</td>\n",
       "      <td>0.0</td>\n",
       "      <td>0.0</td>\n",
       "      <td>0</td>\n",
       "      <td>0</td>\n",
       "      <td>1</td>\n",
       "    </tr>\n",
       "    <tr>\n",
       "      <th>2</th>\n",
       "      <td>2</td>\n",
       "      <td>2020</td>\n",
       "      <td>37899.0</td>\n",
       "      <td>14137.0</td>\n",
       "      <td>2.0</td>\n",
       "      <td>25142894</td>\n",
       "      <td>1.0</td>\n",
       "      <td>0.0</td>\n",
       "      <td>0.0</td>\n",
       "      <td>0.0</td>\n",
       "      <td>1</td>\n",
       "      <td>0</td>\n",
       "      <td>0</td>\n",
       "    </tr>\n",
       "    <tr>\n",
       "      <th>3</th>\n",
       "      <td>3</td>\n",
       "      <td>2019</td>\n",
       "      <td>30399.0</td>\n",
       "      <td>14137.0</td>\n",
       "      <td>2.0</td>\n",
       "      <td>24942816</td>\n",
       "      <td>1.0</td>\n",
       "      <td>0.0</td>\n",
       "      <td>0.0</td>\n",
       "      <td>0.0</td>\n",
       "      <td>0</td>\n",
       "      <td>1</td>\n",
       "      <td>0</td>\n",
       "    </tr>\n",
       "    <tr>\n",
       "      <th>4</th>\n",
       "      <td>4</td>\n",
       "      <td>2019</td>\n",
       "      <td>29899.0</td>\n",
       "      <td>14137.0</td>\n",
       "      <td>2.0</td>\n",
       "      <td>24913660</td>\n",
       "      <td>1.0</td>\n",
       "      <td>0.0</td>\n",
       "      <td>0.0</td>\n",
       "      <td>0.0</td>\n",
       "      <td>1</td>\n",
       "      <td>0</td>\n",
       "      <td>0</td>\n",
       "    </tr>\n",
       "    <tr>\n",
       "      <th>...</th>\n",
       "      <td>...</td>\n",
       "      <td>...</td>\n",
       "      <td>...</td>\n",
       "      <td>...</td>\n",
       "      <td>...</td>\n",
       "      <td>...</td>\n",
       "      <td>...</td>\n",
       "      <td>...</td>\n",
       "      <td>...</td>\n",
       "      <td>...</td>\n",
       "      <td>...</td>\n",
       "      <td>...</td>\n",
       "      <td>...</td>\n",
       "    </tr>\n",
       "    <tr>\n",
       "      <th>3899</th>\n",
       "      <td>4001</td>\n",
       "      <td>2017</td>\n",
       "      <td>14700.0</td>\n",
       "      <td>31357.0</td>\n",
       "      <td>150.0</td>\n",
       "      <td>25451436</td>\n",
       "      <td>0.0</td>\n",
       "      <td>1.0</td>\n",
       "      <td>0.0</td>\n",
       "      <td>0.0</td>\n",
       "      <td>1</td>\n",
       "      <td>0</td>\n",
       "      <td>0</td>\n",
       "    </tr>\n",
       "    <tr>\n",
       "      <th>3900</th>\n",
       "      <td>4002</td>\n",
       "      <td>2018</td>\n",
       "      <td>18500.0</td>\n",
       "      <td>28248.0</td>\n",
       "      <td>150.0</td>\n",
       "      <td>25451481</td>\n",
       "      <td>1.0</td>\n",
       "      <td>0.0</td>\n",
       "      <td>0.0</td>\n",
       "      <td>0.0</td>\n",
       "      <td>0</td>\n",
       "      <td>1</td>\n",
       "      <td>0</td>\n",
       "    </tr>\n",
       "    <tr>\n",
       "      <th>3901</th>\n",
       "      <td>4003</td>\n",
       "      <td>2014</td>\n",
       "      <td>11900.0</td>\n",
       "      <td>48055.0</td>\n",
       "      <td>20.0</td>\n",
       "      <td>25057204</td>\n",
       "      <td>0.0</td>\n",
       "      <td>1.0</td>\n",
       "      <td>0.0</td>\n",
       "      <td>0.0</td>\n",
       "      <td>0</td>\n",
       "      <td>0</td>\n",
       "      <td>1</td>\n",
       "    </tr>\n",
       "    <tr>\n",
       "      <th>3902</th>\n",
       "      <td>4004</td>\n",
       "      <td>2014</td>\n",
       "      <td>11300.0</td>\n",
       "      <td>49865.0</td>\n",
       "      <td>145.0</td>\n",
       "      <td>25144481</td>\n",
       "      <td>1.0</td>\n",
       "      <td>0.0</td>\n",
       "      <td>0.0</td>\n",
       "      <td>0.0</td>\n",
       "      <td>1</td>\n",
       "      <td>0</td>\n",
       "      <td>0</td>\n",
       "    </tr>\n",
       "    <tr>\n",
       "      <th>3903</th>\n",
       "      <td>4005</td>\n",
       "      <td>2014</td>\n",
       "      <td>14800.0</td>\n",
       "      <td>55445.0</td>\n",
       "      <td>30.0</td>\n",
       "      <td>25154247</td>\n",
       "      <td>1.0</td>\n",
       "      <td>0.0</td>\n",
       "      <td>0.0</td>\n",
       "      <td>0.0</td>\n",
       "      <td>0</td>\n",
       "      <td>1</td>\n",
       "      <td>0</td>\n",
       "    </tr>\n",
       "  </tbody>\n",
       "</table>\n",
       "<p>3904 rows × 13 columns</p>\n",
       "</div>"
      ],
      "text/plain": [
       "      index  year    price  mileage  engine size reference  Automatic  Manual  \\\n",
       "0         0  2020  30495.0  14137.0          2.0  25017331        1.0     0.0   \n",
       "1         1  2020  29989.0  14137.0         15.0  25043746        1.0     0.0   \n",
       "2         2  2020  37899.0  14137.0          2.0  25142894        1.0     0.0   \n",
       "3         3  2019  30399.0  14137.0          2.0  24942816        1.0     0.0   \n",
       "4         4  2019  29899.0  14137.0          2.0  24913660        1.0     0.0   \n",
       "...     ...   ...      ...      ...          ...       ...        ...     ...   \n",
       "3899   4001  2017  14700.0  31357.0        150.0  25451436        0.0     1.0   \n",
       "3900   4002  2018  18500.0  28248.0        150.0  25451481        1.0     0.0   \n",
       "3901   4003  2014  11900.0  48055.0         20.0  25057204        0.0     1.0   \n",
       "3902   4004  2014  11300.0  49865.0        145.0  25144481        1.0     0.0   \n",
       "3903   4005  2014  14800.0  55445.0         30.0  25154247        1.0     0.0   \n",
       "\n",
       "      Other  Semi-Auto  Diesel  Hybrid  Petrol  \n",
       "0       0.0        0.0       0       1       0  \n",
       "1       0.0        0.0       0       0       1  \n",
       "2       0.0        0.0       1       0       0  \n",
       "3       0.0        0.0       0       1       0  \n",
       "4       0.0        0.0       1       0       0  \n",
       "...     ...        ...     ...     ...     ...  \n",
       "3899    0.0        0.0       1       0       0  \n",
       "3900    0.0        0.0       0       1       0  \n",
       "3901    0.0        0.0       0       0       1  \n",
       "3902    0.0        0.0       1       0       0  \n",
       "3903    0.0        0.0       0       1       0  \n",
       "\n",
       "[3904 rows x 13 columns]"
      ]
     },
     "execution_count": 103,
     "metadata": {},
     "output_type": "execute_result"
    }
   ],
   "source": [
    "new_car4=pd.concat([new_car3,car4],axis=1).drop(columns=['fuel type'])\n",
    "new_car4"
   ]
  },
  {
   "cell_type": "markdown",
   "metadata": {},
   "source": [
    "#### Lets check for heat  map after encodings"
   ]
  },
  {
   "cell_type": "code",
   "execution_count": 104,
   "metadata": {},
   "outputs": [
    {
     "data": {
      "text/html": [
       "<div>\n",
       "<style scoped>\n",
       "    .dataframe tbody tr th:only-of-type {\n",
       "        vertical-align: middle;\n",
       "    }\n",
       "\n",
       "    .dataframe tbody tr th {\n",
       "        vertical-align: top;\n",
       "    }\n",
       "\n",
       "    .dataframe thead th {\n",
       "        text-align: right;\n",
       "    }\n",
       "</style>\n",
       "<table border=\"1\" class=\"dataframe\">\n",
       "  <thead>\n",
       "    <tr style=\"text-align: right;\">\n",
       "      <th></th>\n",
       "      <th>index</th>\n",
       "      <th>year</th>\n",
       "      <th>price</th>\n",
       "      <th>mileage</th>\n",
       "      <th>engine size</th>\n",
       "      <th>Automatic</th>\n",
       "      <th>Manual</th>\n",
       "      <th>Other</th>\n",
       "      <th>Semi-Auto</th>\n",
       "      <th>Diesel</th>\n",
       "      <th>Hybrid</th>\n",
       "      <th>Petrol</th>\n",
       "    </tr>\n",
       "  </thead>\n",
       "  <tbody>\n",
       "    <tr>\n",
       "      <th>index</th>\n",
       "      <td>1.000000</td>\n",
       "      <td>-0.148851</td>\n",
       "      <td>-0.123898</td>\n",
       "      <td>0.156890</td>\n",
       "      <td>0.101418</td>\n",
       "      <td>0.387301</td>\n",
       "      <td>0.051522</td>\n",
       "      <td>0.026562</td>\n",
       "      <td>-0.406364</td>\n",
       "      <td>-0.017918</td>\n",
       "      <td>0.022761</td>\n",
       "      <td>-0.004836</td>\n",
       "    </tr>\n",
       "    <tr>\n",
       "      <th>year</th>\n",
       "      <td>-0.148851</td>\n",
       "      <td>1.000000</td>\n",
       "      <td>0.674993</td>\n",
       "      <td>-0.746495</td>\n",
       "      <td>-0.049220</td>\n",
       "      <td>-0.200864</td>\n",
       "      <td>-0.164637</td>\n",
       "      <td>-0.038627</td>\n",
       "      <td>0.272328</td>\n",
       "      <td>0.009574</td>\n",
       "      <td>0.010781</td>\n",
       "      <td>-0.020224</td>\n",
       "    </tr>\n",
       "    <tr>\n",
       "      <th>price</th>\n",
       "      <td>-0.123898</td>\n",
       "      <td>0.674993</td>\n",
       "      <td>1.000000</td>\n",
       "      <td>-0.660028</td>\n",
       "      <td>0.096863</td>\n",
       "      <td>-0.096627</td>\n",
       "      <td>-0.240773</td>\n",
       "      <td>-0.020874</td>\n",
       "      <td>0.202285</td>\n",
       "      <td>0.016356</td>\n",
       "      <td>-0.001126</td>\n",
       "      <td>-0.015122</td>\n",
       "    </tr>\n",
       "    <tr>\n",
       "      <th>mileage</th>\n",
       "      <td>0.156890</td>\n",
       "      <td>-0.746495</td>\n",
       "      <td>-0.660028</td>\n",
       "      <td>1.000000</td>\n",
       "      <td>-0.088106</td>\n",
       "      <td>0.163590</td>\n",
       "      <td>0.224042</td>\n",
       "      <td>-0.005583</td>\n",
       "      <td>-0.260249</td>\n",
       "      <td>-0.007417</td>\n",
       "      <td>-0.009218</td>\n",
       "      <td>0.016529</td>\n",
       "    </tr>\n",
       "    <tr>\n",
       "      <th>engine size</th>\n",
       "      <td>0.101418</td>\n",
       "      <td>-0.049220</td>\n",
       "      <td>0.096863</td>\n",
       "      <td>-0.088106</td>\n",
       "      <td>1.000000</td>\n",
       "      <td>0.085350</td>\n",
       "      <td>-0.049159</td>\n",
       "      <td>0.196660</td>\n",
       "      <td>-0.069001</td>\n",
       "      <td>0.000147</td>\n",
       "      <td>-0.016523</td>\n",
       "      <td>0.016280</td>\n",
       "    </tr>\n",
       "    <tr>\n",
       "      <th>Automatic</th>\n",
       "      <td>0.387301</td>\n",
       "      <td>-0.200864</td>\n",
       "      <td>-0.096627</td>\n",
       "      <td>0.163590</td>\n",
       "      <td>0.085350</td>\n",
       "      <td>1.000000</td>\n",
       "      <td>-0.196525</td>\n",
       "      <td>-0.013573</td>\n",
       "      <td>-0.901350</td>\n",
       "      <td>-0.018047</td>\n",
       "      <td>0.005685</td>\n",
       "      <td>0.012269</td>\n",
       "    </tr>\n",
       "    <tr>\n",
       "      <th>Manual</th>\n",
       "      <td>0.051522</td>\n",
       "      <td>-0.164637</td>\n",
       "      <td>-0.240773</td>\n",
       "      <td>0.224042</td>\n",
       "      <td>-0.049159</td>\n",
       "      <td>-0.196525</td>\n",
       "      <td>1.000000</td>\n",
       "      <td>-0.003710</td>\n",
       "      <td>-0.246344</td>\n",
       "      <td>-0.008925</td>\n",
       "      <td>0.002701</td>\n",
       "      <td>0.006178</td>\n",
       "    </tr>\n",
       "    <tr>\n",
       "      <th>Other</th>\n",
       "      <td>0.026562</td>\n",
       "      <td>-0.038627</td>\n",
       "      <td>-0.020874</td>\n",
       "      <td>-0.005583</td>\n",
       "      <td>0.196660</td>\n",
       "      <td>-0.013573</td>\n",
       "      <td>-0.003710</td>\n",
       "      <td>1.000000</td>\n",
       "      <td>-0.017014</td>\n",
       "      <td>-0.011225</td>\n",
       "      <td>0.022746</td>\n",
       "      <td>-0.011467</td>\n",
       "    </tr>\n",
       "    <tr>\n",
       "      <th>Semi-Auto</th>\n",
       "      <td>-0.406364</td>\n",
       "      <td>0.272328</td>\n",
       "      <td>0.202285</td>\n",
       "      <td>-0.260249</td>\n",
       "      <td>-0.069001</td>\n",
       "      <td>-0.901350</td>\n",
       "      <td>-0.246344</td>\n",
       "      <td>-0.017014</td>\n",
       "      <td>1.000000</td>\n",
       "      <td>0.022131</td>\n",
       "      <td>-0.007538</td>\n",
       "      <td>-0.014481</td>\n",
       "    </tr>\n",
       "    <tr>\n",
       "      <th>Diesel</th>\n",
       "      <td>-0.017918</td>\n",
       "      <td>0.009574</td>\n",
       "      <td>0.016356</td>\n",
       "      <td>-0.007417</td>\n",
       "      <td>0.000147</td>\n",
       "      <td>-0.018047</td>\n",
       "      <td>-0.008925</td>\n",
       "      <td>-0.011225</td>\n",
       "      <td>0.022131</td>\n",
       "      <td>1.000000</td>\n",
       "      <td>-0.493496</td>\n",
       "      <td>-0.502368</td>\n",
       "    </tr>\n",
       "    <tr>\n",
       "      <th>Hybrid</th>\n",
       "      <td>0.022761</td>\n",
       "      <td>0.010781</td>\n",
       "      <td>-0.001126</td>\n",
       "      <td>-0.009218</td>\n",
       "      <td>-0.016523</td>\n",
       "      <td>0.005685</td>\n",
       "      <td>0.002701</td>\n",
       "      <td>0.022746</td>\n",
       "      <td>-0.007538</td>\n",
       "      <td>-0.493496</td>\n",
       "      <td>1.000000</td>\n",
       "      <td>-0.504115</td>\n",
       "    </tr>\n",
       "    <tr>\n",
       "      <th>Petrol</th>\n",
       "      <td>-0.004836</td>\n",
       "      <td>-0.020224</td>\n",
       "      <td>-0.015122</td>\n",
       "      <td>0.016529</td>\n",
       "      <td>0.016280</td>\n",
       "      <td>0.012269</td>\n",
       "      <td>0.006178</td>\n",
       "      <td>-0.011467</td>\n",
       "      <td>-0.014481</td>\n",
       "      <td>-0.502368</td>\n",
       "      <td>-0.504115</td>\n",
       "      <td>1.000000</td>\n",
       "    </tr>\n",
       "  </tbody>\n",
       "</table>\n",
       "</div>"
      ],
      "text/plain": [
       "                index      year     price   mileage  engine size  Automatic  \\\n",
       "index        1.000000 -0.148851 -0.123898  0.156890     0.101418   0.387301   \n",
       "year        -0.148851  1.000000  0.674993 -0.746495    -0.049220  -0.200864   \n",
       "price       -0.123898  0.674993  1.000000 -0.660028     0.096863  -0.096627   \n",
       "mileage      0.156890 -0.746495 -0.660028  1.000000    -0.088106   0.163590   \n",
       "engine size  0.101418 -0.049220  0.096863 -0.088106     1.000000   0.085350   \n",
       "Automatic    0.387301 -0.200864 -0.096627  0.163590     0.085350   1.000000   \n",
       "Manual       0.051522 -0.164637 -0.240773  0.224042    -0.049159  -0.196525   \n",
       "Other        0.026562 -0.038627 -0.020874 -0.005583     0.196660  -0.013573   \n",
       "Semi-Auto   -0.406364  0.272328  0.202285 -0.260249    -0.069001  -0.901350   \n",
       "Diesel      -0.017918  0.009574  0.016356 -0.007417     0.000147  -0.018047   \n",
       "Hybrid       0.022761  0.010781 -0.001126 -0.009218    -0.016523   0.005685   \n",
       "Petrol      -0.004836 -0.020224 -0.015122  0.016529     0.016280   0.012269   \n",
       "\n",
       "               Manual     Other  Semi-Auto    Diesel    Hybrid    Petrol  \n",
       "index        0.051522  0.026562  -0.406364 -0.017918  0.022761 -0.004836  \n",
       "year        -0.164637 -0.038627   0.272328  0.009574  0.010781 -0.020224  \n",
       "price       -0.240773 -0.020874   0.202285  0.016356 -0.001126 -0.015122  \n",
       "mileage      0.224042 -0.005583  -0.260249 -0.007417 -0.009218  0.016529  \n",
       "engine size -0.049159  0.196660  -0.069001  0.000147 -0.016523  0.016280  \n",
       "Automatic   -0.196525 -0.013573  -0.901350 -0.018047  0.005685  0.012269  \n",
       "Manual       1.000000 -0.003710  -0.246344 -0.008925  0.002701  0.006178  \n",
       "Other       -0.003710  1.000000  -0.017014 -0.011225  0.022746 -0.011467  \n",
       "Semi-Auto   -0.246344 -0.017014   1.000000  0.022131 -0.007538 -0.014481  \n",
       "Diesel      -0.008925 -0.011225   0.022131  1.000000 -0.493496 -0.502368  \n",
       "Hybrid       0.002701  0.022746  -0.007538 -0.493496  1.000000 -0.504115  \n",
       "Petrol       0.006178 -0.011467  -0.014481 -0.502368 -0.504115  1.000000  "
      ]
     },
     "execution_count": 104,
     "metadata": {},
     "output_type": "execute_result"
    }
   ],
   "source": [
    "x2_corr=new_car4.corr()\n",
    "x2_corr"
   ]
  },
  {
   "cell_type": "code",
   "execution_count": 105,
   "metadata": {},
   "outputs": [
    {
     "data": {
      "text/plain": [
       "<AxesSubplot:>"
      ]
     },
     "execution_count": 105,
     "metadata": {},
     "output_type": "execute_result"
    },
    {
     "data": {
      "image/png": "[encoded data removed]",
      "text/plain": [
       "<Figure size 1440x1080 with 2 Axes>"
      ]
     },
     "metadata": {},
     "output_type": "display_data"
    }
   ],
   "source": [
    "plt.figure(figsize=(20,15))\n",
    "sns.heatmap(x2_corr,annot=True,linewidths=0.5)"
   ]
  },
  {
   "cell_type": "markdown",
   "metadata": {},
   "source": [
    "# Feature Selection"
   ]
  },
  {
   "cell_type": "markdown",
   "metadata": {},
   "source": [
    "### by heatmap corr"
   ]
  },
  {
   "cell_type": "code",
   "execution_count": 106,
   "metadata": {},
   "outputs": [],
   "source": [
    "def f1(dataset, threshold):\n",
    "    col_corr = set()  # Set of all the names of correlated columns\n",
    "    corr_matrix = dataset\n",
    "    for i in range(len(corr_matrix.columns)):\n",
    "        for j in range(i):\n",
    "            if abs(corr_matrix.iloc[i, j]) > threshold: # we are interested in absolute coeff value\n",
    "                colname = corr_matrix.columns[i]  # getting the name of column\n",
    "                col_corr.add(colname)\n",
    "    return col_corr"
   ]
  },
  {
   "cell_type": "code",
   "execution_count": 107,
   "metadata": {},
   "outputs": [
    {
     "data": {
      "text/plain": [
       "{'Petrol', 'Semi-Auto', 'mileage', 'price'}"
      ]
     },
     "execution_count": 107,
     "metadata": {},
     "output_type": "execute_result"
    }
   ],
   "source": [
    "f1(x2_corr,0.5)"
   ]
  },
  {
   "cell_type": "markdown",
   "metadata": {},
   "source": [
    "### PCA"
   ]
  },
  {
   "cell_type": "code",
   "execution_count": 108,
   "metadata": {},
   "outputs": [],
   "source": [
    "pca=decomposition.PCA(n_components=5)"
   ]
  },
  {
   "cell_type": "code",
   "execution_count": 109,
   "metadata": {},
   "outputs": [
    {
     "data": {
      "text/plain": [
       "PCA(n_components=5)"
      ]
     },
     "execution_count": 109,
     "metadata": {},
     "output_type": "execute_result"
    }
   ],
   "source": [
    "pca.fit(new_car4)"
   ]
  },
  {
   "cell_type": "code",
   "execution_count": 110,
   "metadata": {},
   "outputs": [
    {
     "data": {
      "text/html": [
       "<div>\n",
       "<style scoped>\n",
       "    .dataframe tbody tr th:only-of-type {\n",
       "        vertical-align: middle;\n",
       "    }\n",
       "\n",
       "    .dataframe tbody tr th {\n",
       "        vertical-align: top;\n",
       "    }\n",
       "\n",
       "    .dataframe thead th {\n",
       "        text-align: right;\n",
       "    }\n",
       "</style>\n",
       "<table border=\"1\" class=\"dataframe\">\n",
       "  <thead>\n",
       "    <tr style=\"text-align: right;\">\n",
       "      <th></th>\n",
       "      <th>0</th>\n",
       "      <th>1</th>\n",
       "      <th>2</th>\n",
       "      <th>3</th>\n",
       "      <th>4</th>\n",
       "    </tr>\n",
       "  </thead>\n",
       "  <tbody>\n",
       "    <tr>\n",
       "      <th>0</th>\n",
       "      <td>210929.285385</td>\n",
       "      <td>-10625.731251</td>\n",
       "      <td>4405.761183</td>\n",
       "      <td>2033.233977</td>\n",
       "      <td>-151.421654</td>\n",
       "    </tr>\n",
       "    <tr>\n",
       "      <th>1</th>\n",
       "      <td>184515.637457</td>\n",
       "      <td>-10329.567296</td>\n",
       "      <td>3916.315193</td>\n",
       "      <td>2025.509770</td>\n",
       "      <td>-133.986365</td>\n",
       "    </tr>\n",
       "    <tr>\n",
       "      <th>2</th>\n",
       "      <td>85355.447081</td>\n",
       "      <td>-11943.791298</td>\n",
       "      <td>11501.860433</td>\n",
       "      <td>1959.654320</td>\n",
       "      <td>-150.279962</td>\n",
       "    </tr>\n",
       "    <tr>\n",
       "      <th>3</th>\n",
       "      <td>285443.158035</td>\n",
       "      <td>-11037.855702</td>\n",
       "      <td>4323.134186</td>\n",
       "      <td>2054.878032</td>\n",
       "      <td>-160.934514</td>\n",
       "    </tr>\n",
       "    <tr>\n",
       "      <th>4</th>\n",
       "      <td>314599.530385</td>\n",
       "      <td>-11070.603484</td>\n",
       "      <td>3846.587563</td>\n",
       "      <td>2065.439712</td>\n",
       "      <td>-163.711188</td>\n",
       "    </tr>\n",
       "    <tr>\n",
       "      <th>...</th>\n",
       "      <td>...</td>\n",
       "      <td>...</td>\n",
       "      <td>...</td>\n",
       "      <td>...</td>\n",
       "      <td>...</td>\n",
       "    </tr>\n",
       "    <tr>\n",
       "      <th>3899</th>\n",
       "      <td>-223042.129435</td>\n",
       "      <td>12888.691285</td>\n",
       "      <td>-6046.121248</td>\n",
       "      <td>-1941.681781</td>\n",
       "      <td>29.166021</td>\n",
       "    </tr>\n",
       "    <tr>\n",
       "      <th>3900</th>\n",
       "      <td>-223111.283631</td>\n",
       "      <td>8846.563257</td>\n",
       "      <td>-3259.912779</td>\n",
       "      <td>-1977.182094</td>\n",
       "      <td>18.747384</td>\n",
       "    </tr>\n",
       "    <tr>\n",
       "      <th>3901</th>\n",
       "      <td>171281.747727</td>\n",
       "      <td>27384.878401</td>\n",
       "      <td>-4044.497953</td>\n",
       "      <td>-1700.971555</td>\n",
       "      <td>-131.950472</td>\n",
       "    </tr>\n",
       "    <tr>\n",
       "      <th>3902</th>\n",
       "      <td>84017.510005</td>\n",
       "      <td>29804.070200</td>\n",
       "      <td>-4128.851820</td>\n",
       "      <td>-1719.189468</td>\n",
       "      <td>7.093655</td>\n",
       "    </tr>\n",
       "    <tr>\n",
       "      <th>3903</th>\n",
       "      <td>74276.864172</td>\n",
       "      <td>34249.077598</td>\n",
       "      <td>782.598549</td>\n",
       "      <td>-1702.269159</td>\n",
       "      <td>-109.005176</td>\n",
       "    </tr>\n",
       "  </tbody>\n",
       "</table>\n",
       "<p>3904 rows × 5 columns</p>\n",
       "</div>"
      ],
      "text/plain": [
       "                  0             1             2            3           4\n",
       "0     210929.285385 -10625.731251   4405.761183  2033.233977 -151.421654\n",
       "1     184515.637457 -10329.567296   3916.315193  2025.509770 -133.986365\n",
       "2      85355.447081 -11943.791298  11501.860433  1959.654320 -150.279962\n",
       "3     285443.158035 -11037.855702   4323.134186  2054.878032 -160.934514\n",
       "4     314599.530385 -11070.603484   3846.587563  2065.439712 -163.711188\n",
       "...             ...           ...           ...          ...         ...\n",
       "3899 -223042.129435  12888.691285  -6046.121248 -1941.681781   29.166021\n",
       "3900 -223111.283631   8846.563257  -3259.912779 -1977.182094   18.747384\n",
       "3901  171281.747727  27384.878401  -4044.497953 -1700.971555 -131.950472\n",
       "3902   84017.510005  29804.070200  -4128.851820 -1719.189468    7.093655\n",
       "3903   74276.864172  34249.077598    782.598549 -1702.269159 -109.005176\n",
       "\n",
       "[3904 rows x 5 columns]"
      ]
     },
     "execution_count": 110,
     "metadata": {},
     "output_type": "execute_result"
    }
   ],
   "source": [
    "pd.DataFrame(pca.transform(new_car4))"
   ]
  },
  {
   "cell_type": "code",
   "execution_count": 111,
   "metadata": {},
   "outputs": [],
   "source": [
    "x=[]\n",
    "y1=[]\n",
    "y2=[]\n",
    "for i in range(1,new_car4.shape[1]+1):\n",
    "    pca_temp=decomposition.PCA(n_components=i)\n",
    "    pca_temp.fit(new_car4)\n",
    "    x.append(i+1)\n",
    "    y1.append(pca_temp.noise_variance_)\n",
    "    y2.append(pca_temp.score(new_car4))"
   ]
  },
  {
   "cell_type": "code",
   "execution_count": 112,
   "metadata": {},
   "outputs": [
    {
     "data": {
      "image/png": "[encoded data removed]",
      "text/plain": [
       "<Figure size 432x288 with 1 Axes>"
      ]
     },
     "metadata": {},
     "output_type": "display_data"
    }
   ],
   "source": [
    "plt.plot(x,y1)\n",
    "#plt.plot(x,y2)\n",
    "plt.show()"
   ]
  },
  {
   "cell_type": "markdown",
   "metadata": {},
   "source": [
    "### by wrapping method Exhaustive Feature Selector"
   ]
  },
  {
   "cell_type": "code",
   "execution_count": 113,
   "metadata": {},
   "outputs": [],
   "source": [
    "iris=datasets.load_iris()"
   ]
  },
  {
   "cell_type": "code",
   "execution_count": 114,
   "metadata": {},
   "outputs": [],
   "source": [
    "x=iris['data']\n",
    "y=iris['target']"
   ]
  },
  {
   "cell_type": "code",
   "execution_count": 115,
   "metadata": {},
   "outputs": [
    {
     "data": {
      "text/html": [
       "<div>\n",
       "<style scoped>\n",
       "    .dataframe tbody tr th:only-of-type {\n",
       "        vertical-align: middle;\n",
       "    }\n",
       "\n",
       "    .dataframe tbody tr th {\n",
       "        vertical-align: top;\n",
       "    }\n",
       "\n",
       "    .dataframe thead th {\n",
       "        text-align: right;\n",
       "    }\n",
       "</style>\n",
       "<table border=\"1\" class=\"dataframe\">\n",
       "  <thead>\n",
       "    <tr style=\"text-align: right;\">\n",
       "      <th></th>\n",
       "      <th>sl</th>\n",
       "      <th>sw</th>\n",
       "      <th>pl</th>\n",
       "      <th>pw</th>\n",
       "    </tr>\n",
       "  </thead>\n",
       "  <tbody>\n",
       "    <tr>\n",
       "      <th>0</th>\n",
       "      <td>5.1</td>\n",
       "      <td>3.5</td>\n",
       "      <td>1.4</td>\n",
       "      <td>0.2</td>\n",
       "    </tr>\n",
       "    <tr>\n",
       "      <th>1</th>\n",
       "      <td>4.9</td>\n",
       "      <td>3.0</td>\n",
       "      <td>1.4</td>\n",
       "      <td>0.2</td>\n",
       "    </tr>\n",
       "    <tr>\n",
       "      <th>2</th>\n",
       "      <td>4.7</td>\n",
       "      <td>3.2</td>\n",
       "      <td>1.3</td>\n",
       "      <td>0.2</td>\n",
       "    </tr>\n",
       "    <tr>\n",
       "      <th>3</th>\n",
       "      <td>4.6</td>\n",
       "      <td>3.1</td>\n",
       "      <td>1.5</td>\n",
       "      <td>0.2</td>\n",
       "    </tr>\n",
       "    <tr>\n",
       "      <th>4</th>\n",
       "      <td>5.0</td>\n",
       "      <td>3.6</td>\n",
       "      <td>1.4</td>\n",
       "      <td>0.2</td>\n",
       "    </tr>\n",
       "    <tr>\n",
       "      <th>...</th>\n",
       "      <td>...</td>\n",
       "      <td>...</td>\n",
       "      <td>...</td>\n",
       "      <td>...</td>\n",
       "    </tr>\n",
       "    <tr>\n",
       "      <th>145</th>\n",
       "      <td>6.7</td>\n",
       "      <td>3.0</td>\n",
       "      <td>5.2</td>\n",
       "      <td>2.3</td>\n",
       "    </tr>\n",
       "    <tr>\n",
       "      <th>146</th>\n",
       "      <td>6.3</td>\n",
       "      <td>2.5</td>\n",
       "      <td>5.0</td>\n",
       "      <td>1.9</td>\n",
       "    </tr>\n",
       "    <tr>\n",
       "      <th>147</th>\n",
       "      <td>6.5</td>\n",
       "      <td>3.0</td>\n",
       "      <td>5.2</td>\n",
       "      <td>2.0</td>\n",
       "    </tr>\n",
       "    <tr>\n",
       "      <th>148</th>\n",
       "      <td>6.2</td>\n",
       "      <td>3.4</td>\n",
       "      <td>5.4</td>\n",
       "      <td>2.3</td>\n",
       "    </tr>\n",
       "    <tr>\n",
       "      <th>149</th>\n",
       "      <td>5.9</td>\n",
       "      <td>3.0</td>\n",
       "      <td>5.1</td>\n",
       "      <td>1.8</td>\n",
       "    </tr>\n",
       "  </tbody>\n",
       "</table>\n",
       "<p>150 rows × 4 columns</p>\n",
       "</div>"
      ],
      "text/plain": [
       "      sl   sw   pl   pw\n",
       "0    5.1  3.5  1.4  0.2\n",
       "1    4.9  3.0  1.4  0.2\n",
       "2    4.7  3.2  1.3  0.2\n",
       "3    4.6  3.1  1.5  0.2\n",
       "4    5.0  3.6  1.4  0.2\n",
       "..   ...  ...  ...  ...\n",
       "145  6.7  3.0  5.2  2.3\n",
       "146  6.3  2.5  5.0  1.9\n",
       "147  6.5  3.0  5.2  2.0\n",
       "148  6.2  3.4  5.4  2.3\n",
       "149  5.9  3.0  5.1  1.8\n",
       "\n",
       "[150 rows x 4 columns]"
      ]
     },
     "execution_count": 115,
     "metadata": {},
     "output_type": "execute_result"
    }
   ],
   "source": [
    "pd.DataFrame(data=iris.data,columns=['sl','sw','pl','pw'])"
   ]
  },
  {
   "cell_type": "code",
   "execution_count": 116,
   "metadata": {},
   "outputs": [],
   "source": [
    "efs=EFS(estimator=ensemble.RandomForestClassifier(n_jobs=-1),min_features=1,max_features=3)"
   ]
  },
  {
   "cell_type": "code",
   "execution_count": 117,
   "metadata": {},
   "outputs": [
    {
     "name": "stderr",
     "output_type": "stream",
     "text": [
      "Features: 14/14"
     ]
    },
    {
     "data": {
      "text/plain": [
       "ExhaustiveFeatureSelector(estimator=RandomForestClassifier(n_jobs=-1),\n",
       "                          max_features=3)"
      ]
     },
     "execution_count": 117,
     "metadata": {},
     "output_type": "execute_result"
    }
   ],
   "source": [
    "efs.fit(x,y)"
   ]
  },
  {
   "cell_type": "code",
   "execution_count": 118,
   "metadata": {},
   "outputs": [
    {
     "data": {
      "text/plain": [
       "('2', '3')"
      ]
     },
     "execution_count": 118,
     "metadata": {},
     "output_type": "execute_result"
    }
   ],
   "source": [
    "efs.best_feature_names_"
   ]
  },
  {
   "cell_type": "code",
   "execution_count": 119,
   "metadata": {},
   "outputs": [
    {
     "data": {
      "text/plain": [
       "0.9666666666666668"
      ]
     },
     "execution_count": 119,
     "metadata": {},
     "output_type": "execute_result"
    }
   ],
   "source": [
    "efs.best_score_"
   ]
  },
  {
   "cell_type": "code",
   "execution_count": 128,
   "metadata": {},
   "outputs": [
    {
     "data": {
      "text/plain": [
       "array([3, 8, 9])"
      ]
     },
     "execution_count": 128,
     "metadata": {},
     "output_type": "execute_result"
    }
   ],
   "source": [
    "a = np.array([3,8,9])\n",
    "a"
   ]
  },
  {
   "cell_type": "code",
   "execution_count": 124,
   "metadata": {},
   "outputs": [
    {
     "data": {
      "text/plain": [
       "array([ 1.41421356, -0.70714215, -0.70707142])"
      ]
     },
     "execution_count": 124,
     "metadata": {},
     "output_type": "execute_result"
    }
   ],
   "source": [
    "z_score_norm(a)"
   ]
  },
  {
   "cell_type": "code",
   "execution_count": 129,
   "metadata": {},
   "outputs": [
    {
     "data": {
      "text/plain": [
       "array([0.3, 0.8, 0.9])"
      ]
     },
     "execution_count": 129,
     "metadata": {},
     "output_type": "execute_result"
    }
   ],
   "source": [
    "dec_scal_norm(a)"
   ]
  },
  {
   "cell_type": "code",
   "execution_count": null,
   "metadata": {},
   "outputs": [],
   "source": []
  }
 ],
 "metadata": {
  "kernelspec": {
   "display_name": "Python 3",
   "language": "python",
   "name": "python3"
  },
  "language_info": {
   "codemirror_mode": {
    "name": "ipython",
    "version": 3
   },
   "file_extension": ".py",
   "mimetype": "text/x-python",
   "name": "python",
   "nbconvert_exporter": "python",
   "pygments_lexer": "ipython3",
   "version": "3.7.9"
  }
 },
 "nbformat": 4,
 "nbformat_minor": 4
}
