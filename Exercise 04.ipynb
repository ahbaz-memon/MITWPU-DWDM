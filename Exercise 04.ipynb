{
 "cells": [
  {
   "cell_type": "markdown",
   "metadata": {},
   "source": [
    "### Name : Ahbaz Memon\n",
    "### Roll : PB11\n",
    "### ERP : 1032180046\n",
    "### Sub : DWDM\n",
    "### Ex : 04"
   ]
  },
  {
   "cell_type": "code",
   "execution_count": 1,
   "metadata": {},
   "outputs": [],
   "source": [
    "import numpy as np\n",
    "import matplotlib.pyplot as plt \n",
    "import scipy.stats as st"
   ]
  },
  {
   "cell_type": "code",
   "execution_count": 2,
   "metadata": {},
   "outputs": [],
   "source": [
    "def correlation_coefficient(x,y):\n",
    "    N=((x-x.mean())*(y-y.mean())).sum()\n",
    "    D=len(x)*x.std()*y.std()\n",
    "    r=N/D\n",
    "    return r"
   ]
  },
  {
   "cell_type": "code",
   "execution_count": 3,
   "metadata": {},
   "outputs": [],
   "source": [
    "def z_score_norm(x):\n",
    "    return (x-x.mean())/x.std()"
   ]
  },
  {
   "cell_type": "code",
   "execution_count": 4,
   "metadata": {},
   "outputs": [],
   "source": [
    "def min_max_norm(x,new_min,new_max):\n",
    "    min_max=(((x-x.min())/(x.max()-x.min()))*(new_max-new_min))+(new_min)\n",
    "    return min_max"
   ]
  },
  {
   "cell_type": "code",
   "execution_count": 5,
   "metadata": {},
   "outputs": [],
   "source": [
    "def dec_scal_norm(x):\n",
    "    j=len(str(x.max()))\n",
    "    dec_scal=x/(10**j)\n",
    "    return dec_scal"
   ]
  },
  {
   "cell_type": "code",
   "execution_count": 6,
   "metadata": {},
   "outputs": [],
   "source": [
    "def Mean(x):\n",
    "    return x.mean()"
   ]
  },
  {
   "cell_type": "code",
   "execution_count": 7,
   "metadata": {},
   "outputs": [],
   "source": [
    "def Median(x):\n",
    "    return np.median(x)"
   ]
  },
  {
   "cell_type": "code",
   "execution_count": 8,
   "metadata": {},
   "outputs": [],
   "source": [
    "def Mode(x):\n",
    "    return st.mode(x)"
   ]
  },
  {
   "cell_type": "markdown",
   "metadata": {},
   "source": [
    "# Q->1"
   ]
  },
  {
   "cell_type": "code",
   "execution_count": 9,
   "metadata": {},
   "outputs": [],
   "source": [
    "age=np.array([23,23,27,27,39,41,47,49,50,52,54,54,56,57,58,58,60,61])\n",
    "fat=np.array([9.5,26.5,7.8,17.8,31.4,25.9,27.4,27.2,31.2,34.6,42.5,28.8,33.4,30.2,34.1,32.9,41.2,35.7])"
   ]
  },
  {
   "cell_type": "markdown",
   "metadata": {},
   "source": [
    "#### Q->1_1)Calculate the mean, median and standard deviation of age and % fat"
   ]
  },
  {
   "cell_type": "code",
   "execution_count": 10,
   "metadata": {},
   "outputs": [
    {
     "name": "stdout",
     "output_type": "stream",
     "text": [
      "Mean of age is 46.44444444444444\n",
      "Mean of fat is 28.783333333333335\n"
     ]
    }
   ],
   "source": [
    "print(\"Mean of age is\",Mean(age))\n",
    "print(\"Mean of fat is\",Mean(fat))"
   ]
  },
  {
   "cell_type": "code",
   "execution_count": 11,
   "metadata": {},
   "outputs": [
    {
     "name": "stdout",
     "output_type": "stream",
     "text": [
      "Median of age is 51.0\n",
      "Median of fat is 30.7\n"
     ]
    }
   ],
   "source": [
    "print(\"Median of age is\",Median(age))\n",
    "print(\"Median of fat is\",Median(fat))"
   ]
  },
  {
   "cell_type": "code",
   "execution_count": 12,
   "metadata": {},
   "outputs": [
    {
     "name": "stdout",
     "output_type": "stream",
     "text": [
      "Mode of age is ModeResult(mode=array([23]), count=array([2]))\n",
      "Mode of fat is ModeResult(mode=array([7.8]), count=array([1]))\n"
     ]
    }
   ],
   "source": [
    "print(\"Mode of age is\",Mode(age))\n",
    "print(\"Mode of fat is\",Mode(fat))"
   ]
  },
  {
   "cell_type": "markdown",
   "metadata": {},
   "source": [
    "#### Q->1_2)Normalise the two variables bsed on z score normalisation."
   ]
  },
  {
   "cell_type": "code",
   "execution_count": 13,
   "metadata": {},
   "outputs": [
    {
     "name": "stdout",
     "output_type": "stream",
     "text": [
      "z score of age is [-1.82501098 -1.82501098 -1.5136347  -1.5136347  -0.57950586 -0.42381772\n",
      "  0.04324671  0.19893485  0.27677892  0.43246706  0.5881552   0.5881552\n",
      "  0.74384334  0.82168741  0.89953148  0.89953148  1.05521962  1.13306369]\n",
      "z score of fat is [-2.14410415e+00 -2.53882686e-01 -2.33312629e+00 -1.22123132e+00\n",
      "  2.90945852e-01 -3.20596385e-01 -1.53812138e-01 -1.76050038e-01\n",
      "  2.68707953e-01  6.46752244e-01  1.52514928e+00  1.85315829e-03\n",
      "  5.13324847e-01  1.57518455e-01  5.91157496e-01  4.57730098e-01\n",
      "  1.38060293e+00  7.69060692e-01]\n"
     ]
    }
   ],
   "source": [
    "print(\"z score of age is\",z_score_norm(age)) #we can also use st.zscore(age)\n",
    "print(\"z score of fat is\",z_score_norm(fat))"
   ]
  },
  {
   "cell_type": "markdown",
   "metadata": {},
   "source": [
    "#### Q->1_3)Calculate the correlation coefficient and discuss the result."
   ]
  },
  {
   "cell_type": "code",
   "execution_count": 14,
   "metadata": {},
   "outputs": [
    {
     "name": "stdout",
     "output_type": "stream",
     "text": [
      "correlation coefficient r is 0.8176187964565872\n"
     ]
    }
   ],
   "source": [
    "print(\"correlation coefficient r is\",correlation_coefficient(age,fat)) #we can also use np.corrcoef(age,fat)"
   ]
  },
  {
   "cell_type": "markdown",
   "metadata": {},
   "source": [
    "# Q->2"
   ]
  },
  {
   "cell_type": "markdown",
   "metadata": {},
   "source": [
    "#### Q->2_1)Use min max normalisation to transform all age values onto the range[0.0-1.0]"
   ]
  },
  {
   "cell_type": "code",
   "execution_count": 15,
   "metadata": {},
   "outputs": [
    {
     "name": "stdout",
     "output_type": "stream",
     "text": [
      "Min Max Normalization for age is [0.         0.         0.10526316 0.10526316 0.42105263 0.47368421\n",
      " 0.63157895 0.68421053 0.71052632 0.76315789 0.81578947 0.81578947\n",
      " 0.86842105 0.89473684 0.92105263 0.92105263 0.97368421 1.        ]\n"
     ]
    }
   ],
   "source": [
    "print(\"Min Max Normalization for age is\",min_max_norm(age,0,1))"
   ]
  },
  {
   "cell_type": "markdown",
   "metadata": {},
   "source": [
    "#### Q->2_2)Use z score normalisaion to transform the value 35 for age, where standard deviation of age is 12.94 years"
   ]
  },
  {
   "cell_type": "code",
   "execution_count": 16,
   "metadata": {},
   "outputs": [
    {
     "name": "stdout",
     "output_type": "stream",
     "text": [
      "z score for age 35 given std 12.94 is -0.837875213536159\n"
     ]
    }
   ],
   "source": [
    "new_age=np.append(age,[35])\n",
    "print(\"z score for age 35 given std 12.94 is\",((35-new_age.mean())/12.94))"
   ]
  },
  {
   "cell_type": "markdown",
   "metadata": {},
   "source": [
    "#### Q->2_3)Use normalisation by decimal scaling to transform the valuse 35 for age"
   ]
  },
  {
   "cell_type": "code",
   "execution_count": 17,
   "metadata": {},
   "outputs": [
    {
     "name": "stdout",
     "output_type": "stream",
     "text": [
      "decimal scaling for age 35 is 0.35\n"
     ]
    }
   ],
   "source": [
    "print(\"decimal scaling for age 35 is\",dec_scal_norm(np.array([35]))[0])"
   ]
  },
  {
   "cell_type": "markdown",
   "metadata": {},
   "source": [
    "# Q->3"
   ]
  },
  {
   "cell_type": "markdown",
   "metadata": {},
   "source": [
    "#### Q->3_1)Min max normalisation"
   ]
  },
  {
   "cell_type": "code",
   "execution_count": 18,
   "metadata": {},
   "outputs": [
    {
     "name": "stdout",
     "output_type": "stream",
     "text": [
      "Min Max Normalization for age is [0.         0.         0.10526316 0.10526316 0.42105263 0.47368421\n",
      " 0.63157895 0.68421053 0.71052632 0.76315789 0.81578947 0.81578947\n",
      " 0.86842105 0.89473684 0.92105263 0.92105263 0.97368421 1.        ]\n"
     ]
    }
   ],
   "source": [
    "print(\"Min Max Normalization for age is\",min_max_norm(age,0,1))"
   ]
  },
  {
   "cell_type": "code",
   "execution_count": 19,
   "metadata": {},
   "outputs": [
    {
     "name": "stdout",
     "output_type": "stream",
     "text": [
      "Min Max Normalization for fat is [0.04899135 0.5389049  0.         0.28818444 0.68011527 0.52161383\n",
      " 0.5648415  0.55907781 0.67435159 0.77233429 1.         0.60518732\n",
      " 0.73775216 0.64553314 0.75792507 0.72334294 0.96253602 0.80403458]\n"
     ]
    }
   ],
   "source": [
    "print(\"Min Max Normalization for fat is\",min_max_norm(fat,0,1))"
   ]
  },
  {
   "cell_type": "markdown",
   "metadata": {},
   "source": [
    "#### Q->3_2)Z score "
   ]
  },
  {
   "cell_type": "code",
   "execution_count": 20,
   "metadata": {},
   "outputs": [
    {
     "name": "stdout",
     "output_type": "stream",
     "text": [
      "z score Normalization for age is [-1.82501098 -1.82501098 -1.5136347  -1.5136347  -0.57950586 -0.42381772\n",
      "  0.04324671  0.19893485  0.27677892  0.43246706  0.5881552   0.5881552\n",
      "  0.74384334  0.82168741  0.89953148  0.89953148  1.05521962  1.13306369]\n"
     ]
    }
   ],
   "source": [
    "print(\"z score Normalization for age is\",z_score_norm(age))"
   ]
  },
  {
   "cell_type": "code",
   "execution_count": 21,
   "metadata": {},
   "outputs": [
    {
     "name": "stdout",
     "output_type": "stream",
     "text": [
      "z score Normalization for fat is [-2.14410415e+00 -2.53882686e-01 -2.33312629e+00 -1.22123132e+00\n",
      "  2.90945852e-01 -3.20596385e-01 -1.53812138e-01 -1.76050038e-01\n",
      "  2.68707953e-01  6.46752244e-01  1.52514928e+00  1.85315829e-03\n",
      "  5.13324847e-01  1.57518455e-01  5.91157496e-01  4.57730098e-01\n",
      "  1.38060293e+00  7.69060692e-01]\n"
     ]
    }
   ],
   "source": [
    "print(\"z score Normalization for fat is\",z_score_norm(fat))"
   ]
  },
  {
   "cell_type": "markdown",
   "metadata": {},
   "source": [
    "#### Q->3_3)Decimal Scaling"
   ]
  },
  {
   "cell_type": "code",
   "execution_count": 22,
   "metadata": {},
   "outputs": [
    {
     "name": "stdout",
     "output_type": "stream",
     "text": [
      "Decimal scaling Normalization for age is [0.23 0.23 0.27 0.27 0.39 0.41 0.47 0.49 0.5  0.52 0.54 0.54 0.56 0.57\n",
      " 0.58 0.58 0.6  0.61]\n"
     ]
    }
   ],
   "source": [
    "print(\"Decimal scaling Normalization for age is\",dec_scal_norm(age))"
   ]
  },
  {
   "cell_type": "code",
   "execution_count": 23,
   "metadata": {},
   "outputs": [
    {
     "name": "stdout",
     "output_type": "stream",
     "text": [
      "Decimal scaling Normalization for fat is [0.23 0.23 0.27 0.27 0.39 0.41 0.47 0.49 0.5  0.52 0.54 0.54 0.56 0.57\n",
      " 0.58 0.58 0.6  0.61]\n"
     ]
    }
   ],
   "source": [
    "print(\"Decimal scaling Normalization for fat is\",dec_scal_norm(age))"
   ]
  },
  {
   "cell_type": "markdown",
   "metadata": {},
   "source": [
    "# Q->4"
   ]
  },
  {
   "cell_type": "code",
   "execution_count": 24,
   "metadata": {},
   "outputs": [],
   "source": [
    "data=np.array([200, 300, 400, 600, 1000])"
   ]
  },
  {
   "cell_type": "markdown",
   "metadata": {},
   "source": [
    "#### Q->4_1)Min Max normalisation"
   ]
  },
  {
   "cell_type": "code",
   "execution_count": 25,
   "metadata": {},
   "outputs": [
    {
     "name": "stdout",
     "output_type": "stream",
     "text": [
      "min max Normalization is [0.    0.125 0.25  0.5   1.   ]\n"
     ]
    }
   ],
   "source": [
    "print(\"min max Normalization is\",min_max_norm(data,0,1))"
   ]
  },
  {
   "cell_type": "markdown",
   "metadata": {},
   "source": [
    "#### Q->4_2)Z score"
   ]
  },
  {
   "cell_type": "code",
   "execution_count": 26,
   "metadata": {},
   "outputs": [
    {
     "name": "stdout",
     "output_type": "stream",
     "text": [
      "z score Normalization is [-1.06066017 -0.70710678 -0.35355339  0.35355339  1.76776695]\n"
     ]
    }
   ],
   "source": [
    "print(\"z score Normalization is\",z_score_norm(data))"
   ]
  },
  {
   "cell_type": "markdown",
   "metadata": {},
   "source": [
    "#### Q->4_3)Decimal Scaling"
   ]
  },
  {
   "cell_type": "code",
   "execution_count": 27,
   "metadata": {},
   "outputs": [
    {
     "name": "stdout",
     "output_type": "stream",
     "text": [
      "Decimal scaling Normalization is [0.02 0.03 0.04 0.06 0.1 ]\n"
     ]
    }
   ],
   "source": [
    "print(\"Decimal scaling Normalization is\",dec_scal_norm(data))"
   ]
  },
  {
   "cell_type": "markdown",
   "metadata": {},
   "source": [
    "# Q->5"
   ]
  },
  {
   "cell_type": "markdown",
   "metadata": {},
   "source": [
    "## Construct the frequency table by using Five classes and draw histogram"
   ]
  },
  {
   "cell_type": "code",
   "execution_count": 28,
   "metadata": {},
   "outputs": [],
   "source": [
    "X=[45,50,65,77,95,83,74,65,80,58,65,90,88,68,55,79,83,72,74,76,81,53,90,87,66]"
   ]
  },
  {
   "cell_type": "code",
   "execution_count": 29,
   "metadata": {},
   "outputs": [
    {
     "data": {
      "image/png": "[encoded data removed]",
      "text/plain": [
       "<Figure size 432x288 with 1 Axes>"
      ]
     },
     "metadata": {
      "needs_background": "light"
     },
     "output_type": "display_data"
    }
   ],
   "source": [
    "plt.hist(X,alpha=0.7,color='g')\n",
    "plt.title(\"Histogram Plot\")\n",
    "plt.xlabel(\"X values\")\n",
    "plt.show()"
   ]
  }
 ],
 "metadata": {
  "kernelspec": {
   "display_name": "Python 3",
   "language": "python",
   "name": "python3"
  },
  "language_info": {
   "codemirror_mode": {
    "name": "ipython",
    "version": 3
   },
   "file_extension": ".py",
   "mimetype": "text/x-python",
   "name": "python",
   "nbconvert_exporter": "python",
   "pygments_lexer": "ipython3",
   "version": "3.8.0"
  }
 },
 "nbformat": 4,
 "nbformat_minor": 4
}
